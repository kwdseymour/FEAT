{
 "cells": [
  {
   "cell_type": "markdown",
   "metadata": {},
   "source": [
    "** Script overview **\n",
    "\n",
    "This script preprocesses the raw flight schedule data from OAG:\n",
    "- It adds the great circle distance and the airport country.\n",
    "- It filters routes with invalid great circle distances.\n",
    "- It merges duplicate aircraft and airports (with slightly different names).\n",
    "Finally it uploads everything.\n",
    "\n",
    "-- MH, 04.02.2020"
   ]
  },
  {
   "cell_type": "code",
   "execution_count": 16,
   "metadata": {
    "collapsed": true
   },
   "outputs": [],
   "source": [
    "import pandas as pd\n",
    "import numpy as np\n",
    "import math\n",
    "import os\n",
    "import matplotlib.pyplot as plt\n",
    "import seaborn as sns\n",
    "from scipy import stats"
   ]
  },
  {
   "cell_type": "code",
   "execution_count": 17,
   "metadata": {
    "collapsed": true
   },
   "outputs": [],
   "source": [
    "def preview(dataframe, head=5):\n",
    "    display(dataframe.head(head))\n",
    "    print(\"This dataframe has \" + str(len(dataframe)) + \" observations.\")"
   ]
  },
  {
   "cell_type": "markdown",
   "metadata": {},
   "source": [
    "# 2018"
   ]
  },
  {
   "cell_type": "markdown",
   "metadata": {},
   "source": [
    "## (2018) Load and pre-process data"
   ]
  },
  {
   "cell_type": "code",
   "execution_count": 1,
   "metadata": {},
   "outputs": [
    {
     "name": "stdout",
     "output_type": "stream",
     "text": [
      "password for heldm@lav-fileserver.ethz.ch:5433:········\n",
      "SUCCESS: connected to lav-fileserver.ethz.ch\n",
      "  PostGIS integration enabled"
     ]
    }
   ],
   "source": [
    "# Connect to DB\n",
    "%load_ext ipython_pg.LAV\n",
    "%pg_connect dbname='mobility' user='heldm'"
   ]
  },
  {
   "cell_type": "code",
   "execution_count": 2,
   "metadata": {},
   "outputs": [
    {
     "name": "stdout",
     "output_type": "stream",
     "text": [
      "SUCCES: matched 183211 rows\n",
      " results stored as 'oag18_raw'\n"
     ]
    }
   ],
   "source": [
    "%%pg_pd oag18_raw\n",
    "SELECT * FROM \"OAG\".\"2018_schedule_raw\""
   ]
  },
  {
   "cell_type": "code",
   "execution_count": 3,
   "metadata": {},
   "outputs": [
    {
     "data": {
      "text/html": [
       "<div>\n",
       "<style scoped>\n",
       "    .dataframe tbody tr th:only-of-type {\n",
       "        vertical-align: middle;\n",
       "    }\n",
       "\n",
       "    .dataframe tbody tr th {\n",
       "        vertical-align: top;\n",
       "    }\n",
       "\n",
       "    .dataframe thead th {\n",
       "        text-align: right;\n",
       "    }\n",
       "</style>\n",
       "<table border=\"1\" class=\"dataframe\">\n",
       "  <thead>\n",
       "    <tr style=\"text-align: right;\">\n",
       "      <th></th>\n",
       "      <th>ac_code_iata</th>\n",
       "      <th>ac_name_oag</th>\n",
       "      <th>arr_ap_code</th>\n",
       "      <th>arr_ap_name</th>\n",
       "      <th>dep_ap_code</th>\n",
       "      <th>dep_ap_name</th>\n",
       "      <th>frequency_2018</th>\n",
       "    </tr>\n",
       "  </thead>\n",
       "  <tbody>\n",
       "    <tr>\n",
       "      <th>0</th>\n",
       "      <td>100</td>\n",
       "      <td>Fokker 100</td>\n",
       "      <td>ADE</td>\n",
       "      <td>Aden</td>\n",
       "      <td>JIB</td>\n",
       "      <td>Djibouti</td>\n",
       "      <td>58.0</td>\n",
       "    </tr>\n",
       "    <tr>\n",
       "      <th>1</th>\n",
       "      <td>100</td>\n",
       "      <td>Fokker 100</td>\n",
       "      <td>AMS</td>\n",
       "      <td>Amsterdam</td>\n",
       "      <td>BRU</td>\n",
       "      <td>Brussels Airport</td>\n",
       "      <td>88.0</td>\n",
       "    </tr>\n",
       "    <tr>\n",
       "      <th>2</th>\n",
       "      <td>100</td>\n",
       "      <td>Fokker 100</td>\n",
       "      <td>AMS</td>\n",
       "      <td>Amsterdam</td>\n",
       "      <td>MUC</td>\n",
       "      <td>Munich International Airport</td>\n",
       "      <td>332.0</td>\n",
       "    </tr>\n",
       "    <tr>\n",
       "      <th>3</th>\n",
       "      <td>100</td>\n",
       "      <td>Fokker 100</td>\n",
       "      <td>AZD</td>\n",
       "      <td>Yazd</td>\n",
       "      <td>BND</td>\n",
       "      <td>Bandar Abbas</td>\n",
       "      <td>91.0</td>\n",
       "    </tr>\n",
       "    <tr>\n",
       "      <th>4</th>\n",
       "      <td>100</td>\n",
       "      <td>Fokker 100</td>\n",
       "      <td>BND</td>\n",
       "      <td>Bandar Abbas</td>\n",
       "      <td>AZD</td>\n",
       "      <td>Yazd</td>\n",
       "      <td>91.0</td>\n",
       "    </tr>\n",
       "  </tbody>\n",
       "</table>\n",
       "</div>"
      ],
      "text/plain": [
       "  ac_code_iata ac_name_oag arr_ap_code   arr_ap_name dep_ap_code  \\\n",
       "0          100  Fokker 100         ADE          Aden         JIB   \n",
       "1          100  Fokker 100         AMS     Amsterdam         BRU   \n",
       "2          100  Fokker 100         AMS     Amsterdam         MUC   \n",
       "3          100  Fokker 100         AZD          Yazd         BND   \n",
       "4          100  Fokker 100         BND  Bandar Abbas         AZD   \n",
       "\n",
       "                    dep_ap_name  frequency_2018  \n",
       "0                      Djibouti            58.0  \n",
       "1              Brussels Airport            88.0  \n",
       "2  Munich International Airport           332.0  \n",
       "3                  Bandar Abbas            91.0  \n",
       "4                          Yazd            91.0  "
      ]
     },
     "execution_count": 3,
     "metadata": {},
     "output_type": "execute_result"
    }
   ],
   "source": [
    "oag18_raw.head()"
   ]
  },
  {
   "cell_type": "code",
   "execution_count": 4,
   "metadata": {
    "collapsed": true
   },
   "outputs": [],
   "source": [
    "oag18 = oag18_raw.copy()"
   ]
  },
  {
   "cell_type": "markdown",
   "metadata": {},
   "source": [
    "The following codes are helicopters and are removed from the OAG schedule since they are out of scope for our study:"
   ]
  },
  {
   "cell_type": "code",
   "execution_count": 5,
   "metadata": {
    "collapsed": true
   },
   "outputs": [],
   "source": [
    "helis = ['NDE','BH2','S76','EC3','AWH','AGH']\n",
    "oag18 = oag18.loc[~oag18.ac_code_iata.isin(helis)]"
   ]
  },
  {
   "cell_type": "code",
   "execution_count": 8,
   "metadata": {},
   "outputs": [
    {
     "data": {
      "text/html": [
       "<div>\n",
       "<style scoped>\n",
       "    .dataframe tbody tr th:only-of-type {\n",
       "        vertical-align: middle;\n",
       "    }\n",
       "\n",
       "    .dataframe tbody tr th {\n",
       "        vertical-align: top;\n",
       "    }\n",
       "\n",
       "    .dataframe thead th {\n",
       "        text-align: right;\n",
       "    }\n",
       "</style>\n",
       "<table border=\"1\" class=\"dataframe\">\n",
       "  <thead>\n",
       "    <tr style=\"text-align: right;\">\n",
       "      <th></th>\n",
       "      <th>ac_code_iata</th>\n",
       "      <th>ac_name_oag</th>\n",
       "      <th>arr_ap_code</th>\n",
       "      <th>arr_ap_name</th>\n",
       "      <th>dep_ap_code</th>\n",
       "      <th>dep_ap_name</th>\n",
       "      <th>frequency_2018</th>\n",
       "    </tr>\n",
       "  </thead>\n",
       "  <tbody>\n",
       "    <tr>\n",
       "      <th>0</th>\n",
       "      <td>100</td>\n",
       "      <td>Fokker 100</td>\n",
       "      <td>ADE</td>\n",
       "      <td>Aden</td>\n",
       "      <td>JIB</td>\n",
       "      <td>Djibouti</td>\n",
       "      <td>58.0</td>\n",
       "    </tr>\n",
       "    <tr>\n",
       "      <th>1</th>\n",
       "      <td>100</td>\n",
       "      <td>Fokker 100</td>\n",
       "      <td>AMS</td>\n",
       "      <td>Amsterdam</td>\n",
       "      <td>BRU</td>\n",
       "      <td>Brussels Airport</td>\n",
       "      <td>88.0</td>\n",
       "    </tr>\n",
       "    <tr>\n",
       "      <th>2</th>\n",
       "      <td>100</td>\n",
       "      <td>Fokker 100</td>\n",
       "      <td>AMS</td>\n",
       "      <td>Amsterdam</td>\n",
       "      <td>MUC</td>\n",
       "      <td>Munich International Airport</td>\n",
       "      <td>332.0</td>\n",
       "    </tr>\n",
       "    <tr>\n",
       "      <th>3</th>\n",
       "      <td>100</td>\n",
       "      <td>Fokker 100</td>\n",
       "      <td>AZD</td>\n",
       "      <td>Yazd</td>\n",
       "      <td>BND</td>\n",
       "      <td>Bandar Abbas</td>\n",
       "      <td>91.0</td>\n",
       "    </tr>\n",
       "    <tr>\n",
       "      <th>4</th>\n",
       "      <td>100</td>\n",
       "      <td>Fokker 100</td>\n",
       "      <td>BND</td>\n",
       "      <td>Bandar Abbas</td>\n",
       "      <td>AZD</td>\n",
       "      <td>Yazd</td>\n",
       "      <td>91.0</td>\n",
       "    </tr>\n",
       "  </tbody>\n",
       "</table>\n",
       "</div>"
      ],
      "text/plain": [
       "  ac_code_iata ac_name_oag arr_ap_code   arr_ap_name dep_ap_code  \\\n",
       "0          100  Fokker 100         ADE          Aden         JIB   \n",
       "1          100  Fokker 100         AMS     Amsterdam         BRU   \n",
       "2          100  Fokker 100         AMS     Amsterdam         MUC   \n",
       "3          100  Fokker 100         AZD          Yazd         BND   \n",
       "4          100  Fokker 100         BND  Bandar Abbas         AZD   \n",
       "\n",
       "                    dep_ap_name  frequency_2018  \n",
       "0                      Djibouti            58.0  \n",
       "1              Brussels Airport            88.0  \n",
       "2  Munich International Airport           332.0  \n",
       "3                  Bandar Abbas            91.0  \n",
       "4                          Yazd            91.0  "
      ]
     },
     "metadata": {},
     "output_type": "display_data"
    },
    {
     "name": "stdout",
     "output_type": "stream",
     "text": [
      "This dataframe has 183119 observations.\n"
     ]
    }
   ],
   "source": [
    "preview(oag18)"
   ]
  },
  {
   "cell_type": "markdown",
   "metadata": {},
   "source": [
    "## (2018) Add great circle distance to OAG data"
   ]
  },
  {
   "cell_type": "code",
   "execution_count": 8,
   "metadata": {},
   "outputs": [
    {
     "data": {
      "text/html": [
       "<div>\n",
       "<style scoped>\n",
       "    .dataframe tbody tr th:only-of-type {\n",
       "        vertical-align: middle;\n",
       "    }\n",
       "\n",
       "    .dataframe tbody tr th {\n",
       "        vertical-align: top;\n",
       "    }\n",
       "\n",
       "    .dataframe thead th {\n",
       "        text-align: right;\n",
       "    }\n",
       "</style>\n",
       "<table border=\"1\" class=\"dataframe\">\n",
       "  <thead>\n",
       "    <tr style=\"text-align: right;\">\n",
       "      <th></th>\n",
       "      <th>ap_pair</th>\n",
       "      <th>gc_distance</th>\n",
       "    </tr>\n",
       "  </thead>\n",
       "  <tbody>\n",
       "    <tr>\n",
       "      <th>0</th>\n",
       "      <td>AAA_AAB</td>\n",
       "      <td>7544.812628</td>\n",
       "    </tr>\n",
       "    <tr>\n",
       "      <th>1</th>\n",
       "      <td>AAA_FAC</td>\n",
       "      <td>76.504771</td>\n",
       "    </tr>\n",
       "    <tr>\n",
       "      <th>2</th>\n",
       "      <td>AAA_FAV</td>\n",
       "      <td>145.227563</td>\n",
       "    </tr>\n",
       "    <tr>\n",
       "      <th>3</th>\n",
       "      <td>AAA_HHZ</td>\n",
       "      <td>307.941712</td>\n",
       "    </tr>\n",
       "    <tr>\n",
       "      <th>4</th>\n",
       "      <td>AAA_ITA</td>\n",
       "      <td>9588.858768</td>\n",
       "    </tr>\n",
       "  </tbody>\n",
       "</table>\n",
       "</div>"
      ],
      "text/plain": [
       "   ap_pair  gc_distance\n",
       "0  AAA_AAB  7544.812628\n",
       "1  AAA_FAC    76.504771\n",
       "2  AAA_FAV   145.227563\n",
       "3  AAA_HHZ   307.941712\n",
       "4  AAA_ITA  9588.858768"
      ]
     },
     "execution_count": 8,
     "metadata": {},
     "output_type": "execute_result"
    }
   ],
   "source": [
    "ap_dist_raw = pd.read_csv('../../../../Research/Aviation/Jupyter/datasets/airport_distances.csv')\n",
    "ap_dist_raw.head()"
   ]
  },
  {
   "cell_type": "markdown",
   "metadata": {},
   "source": [
    "### (2018) Enable bidirectional ap_pair lookup"
   ]
  },
  {
   "cell_type": "code",
   "execution_count": 9,
   "metadata": {
    "collapsed": true
   },
   "outputs": [],
   "source": [
    "split = ap_dist_raw['ap_pair'].str.split(pat = \"_\",expand=True)\n",
    "ap_dist_raw['ap1'] = split[0]\n",
    "ap_dist_raw['ap2'] = split[1]"
   ]
  },
  {
   "cell_type": "markdown",
   "metadata": {},
   "source": [
    "We observe that some airport pairs are only available in one direction. In the following, we make two ap pair entries for each ap pair, in order to cover both directions."
   ]
  },
  {
   "cell_type": "code",
   "execution_count": 10,
   "metadata": {},
   "outputs": [
    {
     "data": {
      "text/plain": [
       "39737"
      ]
     },
     "execution_count": 10,
     "metadata": {},
     "output_type": "execute_result"
    }
   ],
   "source": [
    "# Number of ap-pairs before duplicating\n",
    "len(ap_dist_raw)"
   ]
  },
  {
   "cell_type": "code",
   "execution_count": 11,
   "metadata": {
    "collapsed": true
   },
   "outputs": [],
   "source": [
    "ap_dist_raw_bidirect = ap_dist_raw.rename(columns={\"ap1\": \"ap2\",\n",
    "                      \"ap2\": \"ap1\"})\n",
    "cols = ['ap_pair', 'gc_distance', 'ap1', 'ap2']\n",
    "ap_dist_raw_bidirect = ap_dist_raw_bidirect[cols]\n",
    "ap_dist = ap_dist_raw.append(ap_dist_raw_bidirect)\n",
    "ap_dist = ap_dist.sort_values(by = ['ap1', 'ap2'])"
   ]
  },
  {
   "cell_type": "code",
   "execution_count": 12,
   "metadata": {},
   "outputs": [
    {
     "data": {
      "text/plain": [
       "79474"
      ]
     },
     "execution_count": 12,
     "metadata": {},
     "output_type": "execute_result"
    }
   ],
   "source": [
    "# Number of ap-pairs after duplicating\n",
    "len(ap_dist)"
   ]
  },
  {
   "cell_type": "code",
   "execution_count": 13,
   "metadata": {
    "scrolled": true
   },
   "outputs": [
    {
     "data": {
      "text/plain": [
       "32"
      ]
     },
     "execution_count": 13,
     "metadata": {},
     "output_type": "execute_result"
    }
   ],
   "source": [
    "# Number of redundant ap-pairs that can be deleted\n",
    "ap_dist.duplicated(subset = ['ap1', 'ap2']).sum()"
   ]
  },
  {
   "cell_type": "code",
   "execution_count": 14,
   "metadata": {
    "collapsed": true,
    "scrolled": true
   },
   "outputs": [],
   "source": [
    "# Duplicates and ap_pair column being deleted\n",
    "ap_dist.drop_duplicates(keep='first',inplace=True) \n",
    "ap_dist.drop('ap_pair', axis=1);"
   ]
  },
  {
   "cell_type": "code",
   "execution_count": 15,
   "metadata": {},
   "outputs": [
    {
     "data": {
      "text/plain": [
       "79442"
      ]
     },
     "execution_count": 15,
     "metadata": {},
     "output_type": "execute_result"
    }
   ],
   "source": [
    "# Number of region-pairs in the final dataframe\n",
    "len(ap_dist)"
   ]
  },
  {
   "cell_type": "markdown",
   "metadata": {},
   "source": [
    "### (2018) Looking at low-distance AP pair movements"
   ]
  },
  {
   "cell_type": "code",
   "execution_count": 16,
   "metadata": {},
   "outputs": [
    {
     "data": {
      "text/html": [
       "<div>\n",
       "<style scoped>\n",
       "    .dataframe tbody tr th:only-of-type {\n",
       "        vertical-align: middle;\n",
       "    }\n",
       "\n",
       "    .dataframe tbody tr th {\n",
       "        vertical-align: top;\n",
       "    }\n",
       "\n",
       "    .dataframe thead th {\n",
       "        text-align: right;\n",
       "    }\n",
       "</style>\n",
       "<table border=\"1\" class=\"dataframe\">\n",
       "  <thead>\n",
       "    <tr style=\"text-align: right;\">\n",
       "      <th></th>\n",
       "      <th>ap1</th>\n",
       "      <th>ap2</th>\n",
       "      <th>gc_distance</th>\n",
       "    </tr>\n",
       "  </thead>\n",
       "  <tbody>\n",
       "    <tr>\n",
       "      <th>0</th>\n",
       "      <td>AAA</td>\n",
       "      <td>AAB</td>\n",
       "      <td>7544.812628</td>\n",
       "    </tr>\n",
       "    <tr>\n",
       "      <th>1</th>\n",
       "      <td>AAA</td>\n",
       "      <td>FAC</td>\n",
       "      <td>76.504771</td>\n",
       "    </tr>\n",
       "    <tr>\n",
       "      <th>2</th>\n",
       "      <td>AAA</td>\n",
       "      <td>FAV</td>\n",
       "      <td>145.227563</td>\n",
       "    </tr>\n",
       "    <tr>\n",
       "      <th>3</th>\n",
       "      <td>AAA</td>\n",
       "      <td>HHZ</td>\n",
       "      <td>307.941712</td>\n",
       "    </tr>\n",
       "    <tr>\n",
       "      <th>4</th>\n",
       "      <td>AAA</td>\n",
       "      <td>ITA</td>\n",
       "      <td>9588.858768</td>\n",
       "    </tr>\n",
       "  </tbody>\n",
       "</table>\n",
       "</div>"
      ],
      "text/plain": [
       "   ap1  ap2  gc_distance\n",
       "0  AAA  AAB  7544.812628\n",
       "1  AAA  FAC    76.504771\n",
       "2  AAA  FAV   145.227563\n",
       "3  AAA  HHZ   307.941712\n",
       "4  AAA  ITA  9588.858768"
      ]
     },
     "execution_count": 16,
     "metadata": {},
     "output_type": "execute_result"
    }
   ],
   "source": [
    "cols = ['ap1', 'ap2', 'gc_distance']\n",
    "ap_dist = ap_dist[cols]\n",
    "ap_dist.head()"
   ]
  },
  {
   "cell_type": "markdown",
   "metadata": {},
   "source": [
    "Look at the distance histogram between all ap-pairs"
   ]
  },
  {
   "cell_type": "code",
   "execution_count": 17,
   "metadata": {},
   "outputs": [
    {
     "data": {
      "image/png": "[encoded data removed]",
      "text/plain": [
       "<matplotlib.figure.Figure at 0x27d6f916390>"
      ]
     },
     "metadata": {},
     "output_type": "display_data"
    }
   ],
   "source": [
    "ap_dist.hist(bins = 100)\n",
    "plt.show()"
   ]
  },
  {
   "cell_type": "markdown",
   "metadata": {},
   "source": [
    "Zoom in to below 50 km (since flights below that threshold are probably only relevant for regional aircraft):"
   ]
  },
  {
   "cell_type": "code",
   "execution_count": 18,
   "metadata": {},
   "outputs": [
    {
     "data": {
      "image/png": "[encoded data removed]",
      "text/plain": [
       "<matplotlib.figure.Figure at 0x27d6ee2a278>"
      ]
     },
     "metadata": {},
     "output_type": "display_data"
    }
   ],
   "source": [
    "ap_dist[ap_dist['gc_distance'] <= 100].hist(bins = 100)\n",
    "plt.xlim(0,100)\n",
    "plt.show()"
   ]
  },
  {
   "cell_type": "markdown",
   "metadata": {},
   "source": [
    "We observe a peak at 0km - this seems to be invalid data since they represent flights from and to the same airports."
   ]
  },
  {
   "cell_type": "markdown",
   "metadata": {},
   "source": [
    "For further analyses, we create a new dataframe for the low-distance AP pairs:"
   ]
  },
  {
   "cell_type": "code",
   "execution_count": 19,
   "metadata": {
    "collapsed": true
   },
   "outputs": [],
   "source": [
    "low_ap_gc = ap_dist[ap_dist['gc_distance'] <= 50].sort_values(by='gc_distance')"
   ]
  },
  {
   "cell_type": "markdown",
   "metadata": {},
   "source": [
    "Number of flights below 50km AP distance:"
   ]
  },
  {
   "cell_type": "code",
   "execution_count": 20,
   "metadata": {
    "collapsed": true
   },
   "outputs": [],
   "source": [
    "count = 0\n",
    "for i in np.arange(len(low_ap_gc)):\n",
    "    count += oag18[(oag18['arr_ap_code'] == low_ap_gc.iloc[i,0]) & (oag18['dep_ap_code'] == low_ap_gc.iloc[i,1])].loc[:,'frequency_2018'].sum()\n",
    "    count += oag18[(oag18['arr_ap_code'] == low_ap_gc.iloc[i,1]) & (oag18['dep_ap_code'] == low_ap_gc.iloc[i,0])].loc[:,'frequency_2018'].sum()"
   ]
  },
  {
   "cell_type": "code",
   "execution_count": 21,
   "metadata": {},
   "outputs": [
    {
     "data": {
      "text/plain": [
       "573986.0"
      ]
     },
     "execution_count": 21,
     "metadata": {},
     "output_type": "execute_result"
    }
   ],
   "source": [
    "count"
   ]
  },
  {
   "cell_type": "markdown",
   "metadata": {},
   "source": [
    "AC that performed these flights:"
   ]
  },
  {
   "cell_type": "code",
   "execution_count": 22,
   "metadata": {
    "collapsed": true,
    "scrolled": true
   },
   "outputs": [],
   "source": [
    "AC_list = []\n",
    "for i in np.arange(len(low_ap_gc)-100):\n",
    "    if (oag18[(oag18['arr_ap_code'] == low_ap_gc.iloc[i,0]) & (oag18['dep_ap_code'] == low_ap_gc.iloc[i,1])]).empty == False:\n",
    "        AC_list.extend(list(oag18[(oag18['arr_ap_code'] == low_ap_gc.iloc[i,0]) & (oag18['dep_ap_code'] == low_ap_gc.iloc[i,1])].loc[:,'ac_name_oag']))\n",
    "    if (oag18[(oag18['arr_ap_code'] == low_ap_gc.iloc[i,1]) & (oag18['dep_ap_code'] == low_ap_gc.iloc[i,0])].loc[:,'ac_name_oag']).empty == False:\n",
    "        AC_list.extend(list(oag18[(oag18['arr_ap_code'] == low_ap_gc.iloc[i,1]) & (oag18['dep_ap_code'] == low_ap_gc.iloc[i,0])].loc[:,'ac_name_oag']))"
   ]
  },
  {
   "cell_type": "code",
   "execution_count": 23,
   "metadata": {
    "collapsed": true
   },
   "outputs": [],
   "source": [
    "AC_list = pd.DataFrame({\"AC_type_oag\": AC_list})"
   ]
  },
  {
   "cell_type": "code",
   "execution_count": 24,
   "metadata": {},
   "outputs": [
    {
     "data": {
      "text/plain": [
       "array(['Fokker 100', 'Cessna (Light Aircraft)', 'Airbus A319',\n",
       "       'Airbus A318/319/320/321',\n",
       "       'Cessna Light Aircraft(Single Turboprop)',\n",
       "       'Cessna Light Acft(single Piston Engine)',\n",
       "       'Boeing (douglas) MD-81', 'Boeing (douglas) MD-82',\n",
       "       'Boeing 737-500 Passenger', 'ATR42 /ATR72',\n",
       "       'Canadair Regional Jet 700', 'Beechcraft 1900D Airliner',\n",
       "       'Pilatus PC-12', 'Boeing 737-800 Passenger',\n",
       "       'Canadair Regional Jet 200', 'ATR 42-300 /320',\n",
       "       'DHvilld-Bombardier DHC2 Bvr', 'BN BN-2a /BN-2b Islander',\n",
       "       'Beechcraft (Lght Acft - Twin Turboprop)',\n",
       "       'DHvilld-Bombardier DHC6 T/Otter', 'Piper (Light Aircraft)',\n",
       "       'Beechcraft 1900 Airliner', 'Airbus A320',\n",
       "       'Boeing 737-900 Passenger', 'DHvilld-Bombardier DHC8 Dsh 8',\n",
       "       'DHvilld-Bombardier DHC8-100 Dsh 8/8Q', 'Cessna 208B Caravan',\n",
       "       'Cessna 208b Freighter', 'DHvilld-Bombardier DHC8-300 Dsh 8/8Q',\n",
       "       'DHvilld-Bombardier DHC3 Tb Otter',\n",
       "       'Fairchild Sa26 /Sa226 /Sa227 Merlin /Me',\n",
       "       'Cessna Light Aircraft (Twin Turboprop', 'ATR 72',\n",
       "       'Boeing 757-300 Passenger', 'Boeing 767-400 Passenger',\n",
       "       'Piper (Light Aircraft - Single Piston)', 'Boeing (douglas) MD-80',\n",
       "       'Airbus A321', 'DHvilld-Bombardier DHC8-200 Dsh 8/8Q',\n",
       "       'DHvilld-Bombardier DHC8 Dsh 8-400/8Q', 'Saab 340',\n",
       "       'Harbin Yunshuji Y12', 'Boeing 737 Passenger', 'Boeing 787-9',\n",
       "       'Embraer 190', 'Boeing 787-8', 'Boeing 737-700 Passenger',\n",
       "       'Boeing 737-700 (winglets) Passenger',\n",
       "       'Piper (Light Aircraft - Twin Piston)',\n",
       "       'BN BN-2a Mk.iii Trislander', 'Let 410',\n",
       "       'Boeing 737-400 Passenger', 'Embraer RJ 135/140/145',\n",
       "       'Boeing (douglas) MD-83', 'BAe Jetstream 32',\n",
       "       'Fairchild Dornier 228', 'Beechcraft 1900C Airliner',\n",
       "       'Canadair Regional Jet 100', 'Embraer 110 Bandeirante',\n",
       "       'BAe Jetstream 31', 'Embraer RJ145', 'Airbus A330-300',\n",
       "       'Embraer 120 Brasilia', 'Cessna Light Acft (Twin piston engines)'],\n",
       "      dtype=object)"
      ]
     },
     "execution_count": 24,
     "metadata": {},
     "output_type": "execute_result"
    }
   ],
   "source": [
    "AC_list.loc[:,'AC_type_oag'].unique()"
   ]
  },
  {
   "cell_type": "markdown",
   "metadata": {},
   "source": [
    "These are mainly regional aircraft, operating between two close regional airports. However, there are also some movements of bigger aircraft which seem to be transfers from and to adjacent airports."
   ]
  },
  {
   "cell_type": "raw",
   "metadata": {},
   "source": [
    "oag18[oag18['ac_name_oag'] == 'Boeing 737-900 Passenger'].sort_values(by='gc_distance').head()"
   ]
  },
  {
   "cell_type": "raw",
   "metadata": {},
   "source": [
    "oag18[oag18['ac_name_oag'] == 'Airbus A320'].sort_values(by='gc_distance').head()"
   ]
  },
  {
   "cell_type": "markdown",
   "metadata": {},
   "source": [
    "### (2018) Merge distance table with OAG table and compute total FKM"
   ]
  },
  {
   "cell_type": "code",
   "execution_count": 25,
   "metadata": {
    "collapsed": true
   },
   "outputs": [],
   "source": [
    "oag18 = oag18.merge(ap_dist, left_on=['dep_ap_code','arr_ap_code'], right_on=['ap1','ap2'],how = 'left')\n",
    "oag18 = oag18.drop(['ap1', 'ap2'], axis=1)"
   ]
  },
  {
   "cell_type": "code",
   "execution_count": 26,
   "metadata": {
    "collapsed": true
   },
   "outputs": [],
   "source": [
    "oag18['fkm_2018'] = oag18['gc_distance'] * oag18['frequency_2018']"
   ]
  },
  {
   "cell_type": "markdown",
   "metadata": {},
   "source": [
    "We delete all entries with a gc_distance = 0."
   ]
  },
  {
   "cell_type": "code",
   "execution_count": 27,
   "metadata": {
    "collapsed": true,
    "scrolled": true
   },
   "outputs": [],
   "source": [
    "idx_to_del = oag18[oag18['gc_distance'] == 0].index\n",
    "oag18 = oag18.drop(index = idx_to_del)"
   ]
  },
  {
   "cell_type": "markdown",
   "metadata": {},
   "source": [
    "### (2018) Remove great circle distance outliers"
   ]
  },
  {
   "cell_type": "markdown",
   "metadata": {},
   "source": [
    "Apply a multiple pass Z-Score filter"
   ]
  },
  {
   "cell_type": "code",
   "execution_count": 28,
   "metadata": {
    "scrolled": true
   },
   "outputs": [
    {
     "name": "stderr",
     "output_type": "stream",
     "text": [
      "C:\\Users\\heldm\\AppData\\Local\\Continuum\\anaconda3\\lib\\site-packages\\scipy\\stats\\stats.py:2247: RuntimeWarning: invalid value encountered in true_divide\n",
      "  return (a - mns) / sstd\n"
     ]
    },
    {
     "name": "stdout",
     "output_type": "stream",
     "text": [
      "137 (0.07% of total) routes have been removed by filtering great circle distance z scores that are greater than 5 in the first pass.\n",
      "33 (0.02% of total) routes have been removed by filtering great circle distance z scores that are greater than 6 in the second pass.\n"
     ]
    }
   ],
   "source": [
    "# Take the complete set of routes operated by an A/C type and calculate the z score of the great circle distance values\n",
    "oag18_z_scores1 = oag18.copy()\n",
    "oag18_z_scores1['z_score'] = ''\n",
    "for ac in oag18_z_scores1.ac_code_iata.unique():\n",
    "    oag18_z_scores1.loc[oag18_z_scores1.ac_code_iata==ac,'z_score'] = abs(stats.zscore(oag18_z_scores1.loc[oag18_z_scores1.ac_code_iata==ac,'gc_distance']))\n",
    "    \n",
    "oag18_filtered1 = oag18.loc[(oag18_z_scores1.z_score<5)|oag18_z_scores1.z_score.isna()]\n",
    "oag18_removed1 = oag18.loc[oag18_z_scores1.z_score>=5]\n",
    "print('{:,.0f} ({:.2f}% of total) routes have been removed by filtering great circle distance z scores that are greater than 5 in the first pass.'.format(len(oag18_removed1),len(oag18_removed1)/len(oag18)*100))\n",
    "\n",
    "oag18_filtered1.reset_index(drop=True,inplace=True)\n",
    "\n",
    "# Second Pass\n",
    "oag18_z_scores2 = oag18_filtered1.copy()\n",
    "oag18_z_scores2['z_score'] = ''\n",
    "for ac in oag18_z_scores2.ac_code_iata.unique():\n",
    "    oag18_z_scores2.loc[oag18_z_scores2.ac_code_iata==ac,'z_score'] = abs(stats.zscore(oag18_z_scores2.loc[oag18_z_scores2.ac_code_iata==ac,'gc_distance']))\n",
    "    \n",
    "oag18_filtered2 = oag18_filtered1.loc[(oag18_z_scores2.z_score<6)|oag18_z_scores2.z_score.isna()]\n",
    "oag18_removed2 = oag18_filtered1.loc[oag18_z_scores2.z_score>=6]\n",
    "print('{:,.0f} ({:.2f}% of total) routes have been removed by filtering great circle distance z scores that are greater than 6 in the second pass.'.format(len(oag18_removed2),len(oag18_removed2)/len(oag18)*100))"
   ]
  },
  {
   "cell_type": "markdown",
   "metadata": {},
   "source": [
    "The runtime warning occurs for aircraft types which only have one flight route (standard deviation=0). For such cases, NaN are returned and these are accounted for when filtering the dataset below."
   ]
  },
  {
   "cell_type": "raw",
   "metadata": {},
   "source": [
    "# Save the largest outliers\n",
    "oag18.loc[(oag18_z_scores1.z_score>10)|oag18_z_scores1.z_score.isna()].to_csv('great_circle_distance_outliers.csv')"
   ]
  },
  {
   "cell_type": "code",
   "execution_count": 29,
   "metadata": {
    "collapsed": true
   },
   "outputs": [],
   "source": [
    "# View the distribution of great circle distances for a few select aircraft before and after filtering\n",
    "fig,ax = plt.subplots(nrows=3,ncols=9,figsize=(15,10))\n",
    "select_ac = ['AT7','7M8','DH4','DHT','733','73W','321','318','CNC']\n",
    "for i,ac in enumerate(select_ac):\n",
    "    sns.boxplot(y='gc_distance', data=oag18.loc[oag18.ac_code_iata==ac],ax=ax[0,i])\n",
    "    ax[0,i].set_ylabel(None)\n",
    "    ax[0,i].set_title(ac,fontsize=15)\n",
    "    for j,filtered_dataset in enumerate([oag18_filtered1,oag18_filtered2]):\n",
    "        schedule_ac_slice = filtered_dataset.loc[filtered_dataset.ac_code_iata==ac]\n",
    "        sns.boxplot(y='gc_distance', data=schedule_ac_slice,ax=ax[j+1,i])\n",
    "        ax[j+1,i].set_ylim(ax[0,i].get_ylim())\n",
    "        ax[j+1,i].set_ylabel(None)\n",
    "ax[0,0].set_ylabel('GC Distance\\n(unfiltered)',fontsize=15)\n",
    "ax[1,0].set_ylabel('GC Distance \\n(filter pass 1',fontsize=15)\n",
    "ax[2,0].set_ylabel('GC Distance \\n(filter pass 2)',fontsize=15)\n",
    "plt.tight_layout()"
   ]
  },
  {
   "cell_type": "code",
   "execution_count": 30,
   "metadata": {
    "collapsed": true
   },
   "outputs": [],
   "source": [
    "oag18 = oag18_filtered2.reset_index(drop=True)"
   ]
  },
  {
   "cell_type": "code",
   "execution_count": 31,
   "metadata": {
    "collapsed": true
   },
   "outputs": [],
   "source": [
    "del oag18_filtered1, oag18_filtered2"
   ]
  },
  {
   "cell_type": "code",
   "execution_count": 32,
   "metadata": {},
   "outputs": [
    {
     "data": {
      "text/html": [
       "<div>\n",
       "<style scoped>\n",
       "    .dataframe tbody tr th:only-of-type {\n",
       "        vertical-align: middle;\n",
       "    }\n",
       "\n",
       "    .dataframe tbody tr th {\n",
       "        vertical-align: top;\n",
       "    }\n",
       "\n",
       "    .dataframe thead th {\n",
       "        text-align: right;\n",
       "    }\n",
       "</style>\n",
       "<table border=\"1\" class=\"dataframe\">\n",
       "  <thead>\n",
       "    <tr style=\"text-align: right;\">\n",
       "      <th></th>\n",
       "      <th>ac_code_iata</th>\n",
       "      <th>ac_name_oag</th>\n",
       "      <th>arr_ap_code</th>\n",
       "      <th>arr_ap_name</th>\n",
       "      <th>dep_ap_code</th>\n",
       "      <th>dep_ap_name</th>\n",
       "      <th>frequency_2018</th>\n",
       "      <th>gc_distance</th>\n",
       "      <th>fkm_2018</th>\n",
       "    </tr>\n",
       "  </thead>\n",
       "  <tbody>\n",
       "    <tr>\n",
       "      <th>0</th>\n",
       "      <td>100</td>\n",
       "      <td>Fokker 100</td>\n",
       "      <td>ADE</td>\n",
       "      <td>Aden</td>\n",
       "      <td>JIB</td>\n",
       "      <td>Djibouti</td>\n",
       "      <td>58.0</td>\n",
       "      <td>248.203212</td>\n",
       "      <td>14395.786303</td>\n",
       "    </tr>\n",
       "    <tr>\n",
       "      <th>1</th>\n",
       "      <td>100</td>\n",
       "      <td>Fokker 100</td>\n",
       "      <td>AMS</td>\n",
       "      <td>Amsterdam</td>\n",
       "      <td>BRU</td>\n",
       "      <td>Brussels Airport</td>\n",
       "      <td>88.0</td>\n",
       "      <td>157.553624</td>\n",
       "      <td>13864.718918</td>\n",
       "    </tr>\n",
       "    <tr>\n",
       "      <th>2</th>\n",
       "      <td>100</td>\n",
       "      <td>Fokker 100</td>\n",
       "      <td>AMS</td>\n",
       "      <td>Amsterdam</td>\n",
       "      <td>MUC</td>\n",
       "      <td>Munich International Airport</td>\n",
       "      <td>332.0</td>\n",
       "      <td>676.777570</td>\n",
       "      <td>224690.153347</td>\n",
       "    </tr>\n",
       "    <tr>\n",
       "      <th>3</th>\n",
       "      <td>100</td>\n",
       "      <td>Fokker 100</td>\n",
       "      <td>AZD</td>\n",
       "      <td>Yazd</td>\n",
       "      <td>BND</td>\n",
       "      <td>Bandar Abbas</td>\n",
       "      <td>91.0</td>\n",
       "      <td>559.459639</td>\n",
       "      <td>50910.827163</td>\n",
       "    </tr>\n",
       "    <tr>\n",
       "      <th>4</th>\n",
       "      <td>100</td>\n",
       "      <td>Fokker 100</td>\n",
       "      <td>BND</td>\n",
       "      <td>Bandar Abbas</td>\n",
       "      <td>AZD</td>\n",
       "      <td>Yazd</td>\n",
       "      <td>91.0</td>\n",
       "      <td>559.459639</td>\n",
       "      <td>50910.827163</td>\n",
       "    </tr>\n",
       "  </tbody>\n",
       "</table>\n",
       "</div>"
      ],
      "text/plain": [
       "  ac_code_iata ac_name_oag arr_ap_code   arr_ap_name dep_ap_code  \\\n",
       "0          100  Fokker 100         ADE          Aden         JIB   \n",
       "1          100  Fokker 100         AMS     Amsterdam         BRU   \n",
       "2          100  Fokker 100         AMS     Amsterdam         MUC   \n",
       "3          100  Fokker 100         AZD          Yazd         BND   \n",
       "4          100  Fokker 100         BND  Bandar Abbas         AZD   \n",
       "\n",
       "                    dep_ap_name  frequency_2018  gc_distance       fkm_2018  \n",
       "0                      Djibouti            58.0   248.203212   14395.786303  \n",
       "1              Brussels Airport            88.0   157.553624   13864.718918  \n",
       "2  Munich International Airport           332.0   676.777570  224690.153347  \n",
       "3                  Bandar Abbas            91.0   559.459639   50910.827163  \n",
       "4                          Yazd            91.0   559.459639   50910.827163  "
      ]
     },
     "metadata": {},
     "output_type": "display_data"
    },
    {
     "name": "stdout",
     "output_type": "stream",
     "text": [
      "This dataframe has 182930 observations.\n"
     ]
    }
   ],
   "source": [
    "preview(oag18)"
   ]
  },
  {
   "cell_type": "markdown",
   "metadata": {},
   "source": [
    "## (2018) Add airport country to OAG data"
   ]
  },
  {
   "cell_type": "code",
   "execution_count": 33,
   "metadata": {
    "scrolled": true
   },
   "outputs": [
    {
     "data": {
      "text/html": [
       "<div>\n",
       "<style scoped>\n",
       "    .dataframe tbody tr th:only-of-type {\n",
       "        vertical-align: middle;\n",
       "    }\n",
       "\n",
       "    .dataframe tbody tr th {\n",
       "        vertical-align: top;\n",
       "    }\n",
       "\n",
       "    .dataframe thead th {\n",
       "        text-align: right;\n",
       "    }\n",
       "</style>\n",
       "<table border=\"1\" class=\"dataframe\">\n",
       "  <thead>\n",
       "    <tr style=\"text-align: right;\">\n",
       "      <th></th>\n",
       "      <th>ap_code_iata</th>\n",
       "      <th>ap_code_icao</th>\n",
       "      <th>country_code</th>\n",
       "      <th>country_name</th>\n",
       "      <th>latitude</th>\n",
       "      <th>longitude</th>\n",
       "      <th>elev_ft</th>\n",
       "      <th>nrunways</th>\n",
       "      <th>longest_runway_ft</th>\n",
       "      <th>name</th>\n",
       "      <th>traffic_region</th>\n",
       "    </tr>\n",
       "  </thead>\n",
       "  <tbody>\n",
       "    <tr>\n",
       "      <th>0</th>\n",
       "      <td>ORD</td>\n",
       "      <td>KORD</td>\n",
       "      <td>US</td>\n",
       "      <td>United States</td>\n",
       "      <td>41.978056</td>\n",
       "      <td>-87.906111</td>\n",
       "      <td>672.0</td>\n",
       "      <td>7.0</td>\n",
       "      <td>13000.0</td>\n",
       "      <td>NaN</td>\n",
       "      <td>North America</td>\n",
       "    </tr>\n",
       "    <tr>\n",
       "      <th>1</th>\n",
       "      <td>ATL</td>\n",
       "      <td>KATL</td>\n",
       "      <td>US</td>\n",
       "      <td>United States</td>\n",
       "      <td>33.640833</td>\n",
       "      <td>-84.427222</td>\n",
       "      <td>1026.0</td>\n",
       "      <td>6.0</td>\n",
       "      <td>11890.0</td>\n",
       "      <td>NaN</td>\n",
       "      <td>North America</td>\n",
       "    </tr>\n",
       "    <tr>\n",
       "      <th>2</th>\n",
       "      <td>DFW</td>\n",
       "      <td>KDFW</td>\n",
       "      <td>US</td>\n",
       "      <td>United States</td>\n",
       "      <td>32.896389</td>\n",
       "      <td>-97.041111</td>\n",
       "      <td>607.0</td>\n",
       "      <td>8.0</td>\n",
       "      <td>13401.0</td>\n",
       "      <td>NaN</td>\n",
       "      <td>North America</td>\n",
       "    </tr>\n",
       "    <tr>\n",
       "      <th>3</th>\n",
       "      <td>LAX</td>\n",
       "      <td>KLAX</td>\n",
       "      <td>US</td>\n",
       "      <td>United States</td>\n",
       "      <td>33.942222</td>\n",
       "      <td>-118.407222</td>\n",
       "      <td>125.0</td>\n",
       "      <td>5.0</td>\n",
       "      <td>12091.0</td>\n",
       "      <td>NaN</td>\n",
       "      <td>North America</td>\n",
       "    </tr>\n",
       "    <tr>\n",
       "      <th>4</th>\n",
       "      <td>IAH</td>\n",
       "      <td>KIAH</td>\n",
       "      <td>US</td>\n",
       "      <td>United States</td>\n",
       "      <td>29.983333</td>\n",
       "      <td>-95.340000</td>\n",
       "      <td>97.0</td>\n",
       "      <td>5.0</td>\n",
       "      <td>12001.0</td>\n",
       "      <td>NaN</td>\n",
       "      <td>North America</td>\n",
       "    </tr>\n",
       "  </tbody>\n",
       "</table>\n",
       "</div>"
      ],
      "text/plain": [
       "  ap_code_iata ap_code_icao country_code   country_name   latitude  \\\n",
       "0          ORD         KORD           US  United States  41.978056   \n",
       "1          ATL         KATL           US  United States  33.640833   \n",
       "2          DFW         KDFW           US  United States  32.896389   \n",
       "3          LAX         KLAX           US  United States  33.942222   \n",
       "4          IAH         KIAH           US  United States  29.983333   \n",
       "\n",
       "    longitude  elev_ft  nrunways  longest_runway_ft name traffic_region  \n",
       "0  -87.906111    672.0       7.0            13000.0  NaN  North America  \n",
       "1  -84.427222   1026.0       6.0            11890.0  NaN  North America  \n",
       "2  -97.041111    607.0       8.0            13401.0  NaN  North America  \n",
       "3 -118.407222    125.0       5.0            12091.0  NaN  North America  \n",
       "4  -95.340000     97.0       5.0            12001.0  NaN  North America  "
      ]
     },
     "execution_count": 33,
     "metadata": {},
     "output_type": "execute_result"
    }
   ],
   "source": [
    "ap = pd.read_csv('../../../../Research/Aviation/Jupyter/datasets/airports.csv', index_col=0, na_values='', keep_default_na=False)\n",
    "ap = ap.rename(columns =  {'iata_code': 'ap_code_iata',\n",
    "                          'icao_code': 'ap_code_icao'}\n",
    "              )\n",
    "ap.head()"
   ]
  },
  {
   "cell_type": "code",
   "execution_count": 34,
   "metadata": {},
   "outputs": [
    {
     "data": {
      "text/plain": [
       "{'ATL': 'US', 'DFW': 'US', 'ORD': 'US'}"
      ]
     },
     "execution_count": 34,
     "metadata": {},
     "output_type": "execute_result"
    }
   ],
   "source": [
    "# Create an airport-country lookup dictionary\n",
    "ap_cty_lookup = ap.set_index('ap_code_iata').to_dict()['country_code']\n",
    "dict(list(ap_cty_lookup.items())[0:3]) # preview"
   ]
  },
  {
   "cell_type": "code",
   "execution_count": 35,
   "metadata": {
    "collapsed": true
   },
   "outputs": [],
   "source": [
    "oag18['arr_ap_cty'] = oag18['arr_ap_code'].replace(ap_cty_lookup)\n",
    "oag18['dep_ap_cty'] = oag18['dep_ap_code'].replace(ap_cty_lookup)"
   ]
  },
  {
   "cell_type": "markdown",
   "metadata": {},
   "source": [
    "### (2018) Merge ap country table with OAG table"
   ]
  },
  {
   "cell_type": "code",
   "execution_count": 36,
   "metadata": {},
   "outputs": [
    {
     "data": {
      "text/html": [
       "<div>\n",
       "<style scoped>\n",
       "    .dataframe tbody tr th:only-of-type {\n",
       "        vertical-align: middle;\n",
       "    }\n",
       "\n",
       "    .dataframe tbody tr th {\n",
       "        vertical-align: top;\n",
       "    }\n",
       "\n",
       "    .dataframe thead th {\n",
       "        text-align: right;\n",
       "    }\n",
       "</style>\n",
       "<table border=\"1\" class=\"dataframe\">\n",
       "  <thead>\n",
       "    <tr style=\"text-align: right;\">\n",
       "      <th></th>\n",
       "      <th>ac_code_iata</th>\n",
       "      <th>ac_name_oag</th>\n",
       "      <th>dep_ap_code</th>\n",
       "      <th>dep_ap_name</th>\n",
       "      <th>dep_ap_cty</th>\n",
       "      <th>arr_ap_code</th>\n",
       "      <th>arr_ap_name</th>\n",
       "      <th>arr_ap_cty</th>\n",
       "      <th>gc_distance</th>\n",
       "      <th>frequency_2018</th>\n",
       "      <th>fkm_2018</th>\n",
       "    </tr>\n",
       "  </thead>\n",
       "  <tbody>\n",
       "    <tr>\n",
       "      <th>0</th>\n",
       "      <td>100</td>\n",
       "      <td>Fokker 100</td>\n",
       "      <td>JIB</td>\n",
       "      <td>Djibouti</td>\n",
       "      <td>DJ</td>\n",
       "      <td>ADE</td>\n",
       "      <td>Aden</td>\n",
       "      <td>YE</td>\n",
       "      <td>248.203212</td>\n",
       "      <td>58.0</td>\n",
       "      <td>14395.786303</td>\n",
       "    </tr>\n",
       "    <tr>\n",
       "      <th>1</th>\n",
       "      <td>100</td>\n",
       "      <td>Fokker 100</td>\n",
       "      <td>BRU</td>\n",
       "      <td>Brussels Airport</td>\n",
       "      <td>BE</td>\n",
       "      <td>AMS</td>\n",
       "      <td>Amsterdam</td>\n",
       "      <td>NL</td>\n",
       "      <td>157.553624</td>\n",
       "      <td>88.0</td>\n",
       "      <td>13864.718918</td>\n",
       "    </tr>\n",
       "    <tr>\n",
       "      <th>2</th>\n",
       "      <td>100</td>\n",
       "      <td>Fokker 100</td>\n",
       "      <td>MUC</td>\n",
       "      <td>Munich International Airport</td>\n",
       "      <td>DE</td>\n",
       "      <td>AMS</td>\n",
       "      <td>Amsterdam</td>\n",
       "      <td>NL</td>\n",
       "      <td>676.777570</td>\n",
       "      <td>332.0</td>\n",
       "      <td>224690.153347</td>\n",
       "    </tr>\n",
       "    <tr>\n",
       "      <th>3</th>\n",
       "      <td>100</td>\n",
       "      <td>Fokker 100</td>\n",
       "      <td>BND</td>\n",
       "      <td>Bandar Abbas</td>\n",
       "      <td>IR</td>\n",
       "      <td>AZD</td>\n",
       "      <td>Yazd</td>\n",
       "      <td>IR</td>\n",
       "      <td>559.459639</td>\n",
       "      <td>91.0</td>\n",
       "      <td>50910.827163</td>\n",
       "    </tr>\n",
       "    <tr>\n",
       "      <th>4</th>\n",
       "      <td>100</td>\n",
       "      <td>Fokker 100</td>\n",
       "      <td>AZD</td>\n",
       "      <td>Yazd</td>\n",
       "      <td>IR</td>\n",
       "      <td>BND</td>\n",
       "      <td>Bandar Abbas</td>\n",
       "      <td>IR</td>\n",
       "      <td>559.459639</td>\n",
       "      <td>91.0</td>\n",
       "      <td>50910.827163</td>\n",
       "    </tr>\n",
       "  </tbody>\n",
       "</table>\n",
       "</div>"
      ],
      "text/plain": [
       "  ac_code_iata ac_name_oag dep_ap_code                   dep_ap_name  \\\n",
       "0          100  Fokker 100         JIB                      Djibouti   \n",
       "1          100  Fokker 100         BRU              Brussels Airport   \n",
       "2          100  Fokker 100         MUC  Munich International Airport   \n",
       "3          100  Fokker 100         BND                  Bandar Abbas   \n",
       "4          100  Fokker 100         AZD                          Yazd   \n",
       "\n",
       "  dep_ap_cty arr_ap_code   arr_ap_name arr_ap_cty  gc_distance  \\\n",
       "0         DJ         ADE          Aden         YE   248.203212   \n",
       "1         BE         AMS     Amsterdam         NL   157.553624   \n",
       "2         DE         AMS     Amsterdam         NL   676.777570   \n",
       "3         IR         AZD          Yazd         IR   559.459639   \n",
       "4         IR         BND  Bandar Abbas         IR   559.459639   \n",
       "\n",
       "   frequency_2018       fkm_2018  \n",
       "0            58.0   14395.786303  \n",
       "1            88.0   13864.718918  \n",
       "2           332.0  224690.153347  \n",
       "3            91.0   50910.827163  \n",
       "4            91.0   50910.827163  "
      ]
     },
     "execution_count": 36,
     "metadata": {},
     "output_type": "execute_result"
    }
   ],
   "source": [
    "# Resort columns\n",
    "col_names = ['ac_code_iata', 'ac_name_oag', 'dep_ap_code', 'dep_ap_name', 'dep_ap_cty', \n",
    "             'arr_ap_code','arr_ap_name', 'arr_ap_cty', 'gc_distance', 'frequency_2018', 'fkm_2018']\n",
    "oag18 = oag18[col_names]\n",
    "oag18.head()"
   ]
  },
  {
   "cell_type": "markdown",
   "metadata": {},
   "source": [
    "## (2018) Merge duplicate aircraft and airports (with slightly different ac/ap_names)"
   ]
  },
  {
   "cell_type": "code",
   "execution_count": 37,
   "metadata": {
    "collapsed": true
   },
   "outputs": [],
   "source": [
    "# For the sanity check (that we do not kill or clone any entries) we copy the inital data set.\n",
    "oag18_copy = oag18.copy()"
   ]
  },
  {
   "cell_type": "markdown",
   "metadata": {},
   "source": [
    "### (2018) Identical aircraft codes, differing aircraft names"
   ]
  },
  {
   "cell_type": "markdown",
   "metadata": {},
   "source": [
    "We observed that some aircraft have very similar but not identical names.\n",
    "We set a unique name for these aircraft:"
   ]
  },
  {
   "cell_type": "code",
   "execution_count": 38,
   "metadata": {
    "scrolled": true
   },
   "outputs": [
    {
     "data": {
      "text/plain": [
       "CNF     True\n",
       "YK2     True\n",
       "DHD    False\n",
       "DHC    False\n",
       "77L    False\n",
       "Name: ac_code_iata, dtype: bool"
      ]
     },
     "execution_count": 38,
     "metadata": {},
     "output_type": "execute_result"
    }
   ],
   "source": [
    "ac_name_test = oag18.groupby(['ac_code_iata', 'ac_name_oag']).count()\n",
    "ac_name_test = ac_name_test.reset_index()\n",
    "(ac_name_test['ac_code_iata'].value_counts() > 1).sort_values(ascending = False).head()"
   ]
  },
  {
   "cell_type": "code",
   "execution_count": 39,
   "metadata": {
    "collapsed": true
   },
   "outputs": [],
   "source": [
    "# Set common names for the same ac_code:\n",
    "oag18.at[(oag18['ac_code_iata'] == 'YK2'),'ac_name_oag'] = 'Yakovlev Yak-42/142' # different writing\n",
    "oag18.at[(oag18['ac_code_iata'] == 'CNF'),'ac_name_oag'] = 'Cessna 208B Caravan'# different writing\n",
    "oag18.at[(oag18['ac_code_iata'] == 'CS1'),'ac_name_oag'] = 'Airbus A220-100' # Bombardier CSeries transformed to A220\n",
    "oag18.at[(oag18['ac_code_iata'] == 'CS3'),'ac_name_oag'] = 'Airbus A220-300' # Bombardier CSeries transformed to A220"
   ]
  },
  {
   "cell_type": "markdown",
   "metadata": {},
   "source": [
    "Now that we set common names for the same ac_code, we will see duplicates for identical ap-pairs. We merge them."
   ]
  },
  {
   "cell_type": "code",
   "execution_count": 40,
   "metadata": {
    "collapsed": true
   },
   "outputs": [],
   "source": [
    "to_be_merged = oag18[oag18.duplicated(subset = ['ac_code_iata','dep_ap_code', 'arr_ap_code','dep_ap_name', 'arr_ap_name', 'gc_distance'], keep=False)].sort_index()\n",
    "grouped = to_be_merged.groupby(['ac_code_iata','dep_ap_code', 'arr_ap_code'])"
   ]
  },
  {
   "cell_type": "code",
   "execution_count": 41,
   "metadata": {
    "collapsed": true
   },
   "outputs": [],
   "source": [
    "for ac_group in grouped.groups.keys():\n",
    "    grouped.get_group(ac_group).index[0]\n",
    "    idx_first_entry = grouped.get_group(ac_group).index[0]\n",
    "    idx_other_entries = grouped.get_group(ac_group).index[1:]\n",
    "    freq_sum = grouped.get_group(ac_group).sum()['frequency_2018']\n",
    "    fkm_sum = grouped.get_group(ac_group).sum()['fkm_2018']\n",
    "\n",
    "    # We update the summed up freq and fkm and set it as new value for the 1st entry\n",
    "    oag18.at[idx_first_entry, 'frequency_2018'] = freq_sum\n",
    "    oag18.at[idx_first_entry, 'fkm_2018'] = fkm_sum\n",
    "    \n",
    "    # We delete all duplicated values except the first one (which is the one with the updated information)\n",
    "    oag18.drop_duplicates(subset=['ac_code_iata','dep_ap_code', 'arr_ap_code','dep_ap_name', 'arr_ap_name', 'gc_distance'], keep='first',inplace=True) "
   ]
  },
  {
   "cell_type": "code",
   "execution_count": 42,
   "metadata": {},
   "outputs": [
    {
     "name": "stdout",
     "output_type": "stream",
     "text": [
      "False\n",
      "True\n",
      "We came down from 182930 rows in the original data set to currently 182850 rows.\n"
     ]
    }
   ],
   "source": [
    "# Sanity check.\n",
    "print(oag18['fkm_2018'].sum() == oag18_copy['fkm_2018'].sum())\n",
    "print(oag18['frequency_2018'].sum() == oag18_copy['frequency_2018'].sum())\n",
    "print('We came down from {} rows in the original data set to currently {} rows.'.format(len(oag18_copy), len(oag18)))"
   ]
  },
  {
   "cell_type": "markdown",
   "metadata": {},
   "source": [
    "### (2018) Identical airport codes, differing airport names"
   ]
  },
  {
   "cell_type": "markdown",
   "metadata": {},
   "source": [
    "Now we check the duplicates for different airport names that have the same ap codes:"
   ]
  },
  {
   "cell_type": "code",
   "execution_count": 43,
   "metadata": {
    "collapsed": true
   },
   "outputs": [],
   "source": [
    "to_be_merged2 = oag18[oag18.duplicated(subset = ['dep_ap_code','arr_ap_code', 'ac_code_iata', 'gc_distance'], keep=False)].sort_values(by = ['ac_code_iata', 'dep_ap_code'])\n",
    "grouped2 = to_be_merged2.groupby(['dep_ap_code','arr_ap_code', 'ac_code_iata', 'gc_distance'])"
   ]
  },
  {
   "cell_type": "code",
   "execution_count": 44,
   "metadata": {
    "collapsed": true
   },
   "outputs": [],
   "source": [
    "for ac_group in grouped2.groups.keys():\n",
    "    grouped2.get_group(ac_group).index[0]\n",
    "    idx_first_entry = grouped2.get_group(ac_group).index[0]\n",
    "    idx_other_entries = grouped2.get_group(ac_group).index[1:]\n",
    "    freq_sum = grouped2.get_group(ac_group).sum()['frequency_2018']\n",
    "    fkm_sum = grouped2.get_group(ac_group).sum()['fkm_2018']\n",
    "    \n",
    "    # We update the summed up freq and fkm and set it as new value for the 1st entry\n",
    "    oag18.at[idx_first_entry, 'frequency_2018'] = freq_sum\n",
    "    oag18.at[idx_first_entry, 'fkm_2018'] = fkm_sum\n",
    "    \n",
    "    # We delete all duplicated values except the first one (which is the one with the updated information)\n",
    "    oag18.drop_duplicates(subset=['dep_ap_code','arr_ap_code', 'ac_code_iata', 'gc_distance'], keep='first',inplace=True) "
   ]
  },
  {
   "cell_type": "code",
   "execution_count": 45,
   "metadata": {
    "scrolled": true
   },
   "outputs": [
    {
     "name": "stdout",
     "output_type": "stream",
     "text": [
      "False\n",
      "True\n",
      "We came down from 182930 rows in the original data set to currently 180578 rows.\n"
     ]
    }
   ],
   "source": [
    "# Sanity check.\n",
    "print(oag18['fkm_2018'].sum() == oag18_copy['fkm_2018'].sum())\n",
    "print(oag18['frequency_2018'].sum() == oag18_copy['frequency_2018'].sum())\n",
    "print('We came down from {} rows in the original data set to currently {} rows.'.format(len(oag18_copy), len(oag18)))"
   ]
  },
  {
   "cell_type": "markdown",
   "metadata": {},
   "source": [
    "The first sanity check is false, but only for a rounding error reason:"
   ]
  },
  {
   "cell_type": "code",
   "execution_count": 46,
   "metadata": {},
   "outputs": [
    {
     "data": {
      "text/plain": [
       "-7.62939453125e-06"
      ]
     },
     "execution_count": 46,
     "metadata": {},
     "output_type": "execute_result"
    }
   ],
   "source": [
    "oag18['fkm_2018'].sum() - oag18_copy['fkm_2018'].sum()"
   ]
  },
  {
   "cell_type": "markdown",
   "metadata": {},
   "source": [
    "## (2018) Upload data"
   ]
  },
  {
   "cell_type": "markdown",
   "metadata": {},
   "source": [
    "Final info on the data set:"
   ]
  },
  {
   "cell_type": "code",
   "execution_count": 47,
   "metadata": {
    "scrolled": false
   },
   "outputs": [
    {
     "name": "stdout",
     "output_type": "stream",
     "text": [
      "<class 'pandas.core.frame.DataFrame'>\n",
      "Int64Index: 180578 entries, 0 to 182929\n",
      "Data columns (total 11 columns):\n",
      "ac_code_iata      180578 non-null object\n",
      "ac_name_oag       180578 non-null object\n",
      "dep_ap_code       180578 non-null object\n",
      "dep_ap_name       180578 non-null object\n",
      "dep_ap_cty        180578 non-null object\n",
      "arr_ap_code       180578 non-null object\n",
      "arr_ap_name       180578 non-null object\n",
      "arr_ap_cty        180578 non-null object\n",
      "gc_distance       180578 non-null float64\n",
      "frequency_2018    180578 non-null float64\n",
      "fkm_2018          180578 non-null float64\n",
      "dtypes: float64(3), object(8)\n",
      "memory usage: 16.5+ MB\n"
     ]
    }
   ],
   "source": [
    "oag18.info()"
   ]
  },
  {
   "cell_type": "code",
   "execution_count": 48,
   "metadata": {},
   "outputs": [
    {
     "name": "stdout",
     "output_type": "stream",
     "text": [
      "Maximum string length in ac_code_iata column: 3\n",
      "Maximum string length in ac_name_oag column: 39\n",
      "Maximum string length in dep_ap_code column: 3\n",
      "Maximum string length in dep_ap_name column: 39\n",
      "Maximum string length in dep_ap_cty column: 2\n",
      "Maximum string length in arr_ap_code column: 3\n"
     ]
    }
   ],
   "source": [
    "for col in oag18.columns[:6]:\n",
    "    print(\"Maximum string length in \"+col+\" column: \"+str(oag18[col].apply(len).max()))"
   ]
  },
  {
   "cell_type": "code",
   "execution_count": 49,
   "metadata": {},
   "outputs": [
    {
     "data": {
      "text/html": [
       "<div>\n",
       "<style scoped>\n",
       "    .dataframe tbody tr th:only-of-type {\n",
       "        vertical-align: middle;\n",
       "    }\n",
       "\n",
       "    .dataframe tbody tr th {\n",
       "        vertical-align: top;\n",
       "    }\n",
       "\n",
       "    .dataframe thead th {\n",
       "        text-align: right;\n",
       "    }\n",
       "</style>\n",
       "<table border=\"1\" class=\"dataframe\">\n",
       "  <thead>\n",
       "    <tr style=\"text-align: right;\">\n",
       "      <th></th>\n",
       "      <th>ac_code_iata</th>\n",
       "      <th>ac_name_oag</th>\n",
       "      <th>dep_ap_code</th>\n",
       "      <th>dep_ap_name</th>\n",
       "      <th>dep_ap_cty</th>\n",
       "      <th>arr_ap_code</th>\n",
       "      <th>arr_ap_name</th>\n",
       "      <th>arr_ap_cty</th>\n",
       "      <th>gc_distance</th>\n",
       "      <th>frequency_2018</th>\n",
       "      <th>fkm_2018</th>\n",
       "    </tr>\n",
       "  </thead>\n",
       "  <tbody>\n",
       "    <tr>\n",
       "      <th>0</th>\n",
       "      <td>100</td>\n",
       "      <td>Fokker 100</td>\n",
       "      <td>JIB</td>\n",
       "      <td>Djibouti</td>\n",
       "      <td>DJ</td>\n",
       "      <td>ADE</td>\n",
       "      <td>Aden</td>\n",
       "      <td>YE</td>\n",
       "      <td>248.203212</td>\n",
       "      <td>58.0</td>\n",
       "      <td>14395.786303</td>\n",
       "    </tr>\n",
       "    <tr>\n",
       "      <th>1</th>\n",
       "      <td>100</td>\n",
       "      <td>Fokker 100</td>\n",
       "      <td>BRU</td>\n",
       "      <td>Brussels Airport</td>\n",
       "      <td>BE</td>\n",
       "      <td>AMS</td>\n",
       "      <td>Amsterdam</td>\n",
       "      <td>NL</td>\n",
       "      <td>157.553624</td>\n",
       "      <td>88.0</td>\n",
       "      <td>13864.718918</td>\n",
       "    </tr>\n",
       "    <tr>\n",
       "      <th>2</th>\n",
       "      <td>100</td>\n",
       "      <td>Fokker 100</td>\n",
       "      <td>MUC</td>\n",
       "      <td>Munich International Airport</td>\n",
       "      <td>DE</td>\n",
       "      <td>AMS</td>\n",
       "      <td>Amsterdam</td>\n",
       "      <td>NL</td>\n",
       "      <td>676.777570</td>\n",
       "      <td>332.0</td>\n",
       "      <td>224690.153347</td>\n",
       "    </tr>\n",
       "    <tr>\n",
       "      <th>3</th>\n",
       "      <td>100</td>\n",
       "      <td>Fokker 100</td>\n",
       "      <td>BND</td>\n",
       "      <td>Bandar Abbas</td>\n",
       "      <td>IR</td>\n",
       "      <td>AZD</td>\n",
       "      <td>Yazd</td>\n",
       "      <td>IR</td>\n",
       "      <td>559.459639</td>\n",
       "      <td>91.0</td>\n",
       "      <td>50910.827163</td>\n",
       "    </tr>\n",
       "    <tr>\n",
       "      <th>4</th>\n",
       "      <td>100</td>\n",
       "      <td>Fokker 100</td>\n",
       "      <td>AZD</td>\n",
       "      <td>Yazd</td>\n",
       "      <td>IR</td>\n",
       "      <td>BND</td>\n",
       "      <td>Bandar Abbas</td>\n",
       "      <td>IR</td>\n",
       "      <td>559.459639</td>\n",
       "      <td>91.0</td>\n",
       "      <td>50910.827163</td>\n",
       "    </tr>\n",
       "  </tbody>\n",
       "</table>\n",
       "</div>"
      ],
      "text/plain": [
       "  ac_code_iata ac_name_oag dep_ap_code                   dep_ap_name  \\\n",
       "0          100  Fokker 100         JIB                      Djibouti   \n",
       "1          100  Fokker 100         BRU              Brussels Airport   \n",
       "2          100  Fokker 100         MUC  Munich International Airport   \n",
       "3          100  Fokker 100         BND                  Bandar Abbas   \n",
       "4          100  Fokker 100         AZD                          Yazd   \n",
       "\n",
       "  dep_ap_cty arr_ap_code   arr_ap_name arr_ap_cty  gc_distance  \\\n",
       "0         DJ         ADE          Aden         YE   248.203212   \n",
       "1         BE         AMS     Amsterdam         NL   157.553624   \n",
       "2         DE         AMS     Amsterdam         NL   676.777570   \n",
       "3         IR         AZD          Yazd         IR   559.459639   \n",
       "4         IR         BND  Bandar Abbas         IR   559.459639   \n",
       "\n",
       "   frequency_2018       fkm_2018  \n",
       "0            58.0   14395.786303  \n",
       "1            88.0   13864.718918  \n",
       "2           332.0  224690.153347  \n",
       "3            91.0   50910.827163  \n",
       "4            91.0   50910.827163  "
      ]
     },
     "metadata": {},
     "output_type": "display_data"
    },
    {
     "name": "stdout",
     "output_type": "stream",
     "text": [
      "This dataframe has 180578 observations.\n"
     ]
    }
   ],
   "source": [
    "preview(oag18)"
   ]
  },
  {
   "cell_type": "raw",
   "metadata": {},
   "source": [
    "# Connect to DB\n",
    "%load_ext ipython_pg.LAV\n",
    "%pg_connect dbname='mobility' user='heldm'"
   ]
  },
  {
   "cell_type": "code",
   "execution_count": 50,
   "metadata": {},
   "outputs": [
    {
     "name": "stdout",
     "output_type": "stream",
     "text": [
      "COMMENT ON\n",
      "COLUMN \"OAG\".\"2018_schedule\".\"ac_code_iata\" IS ;\n",
      "COMMENT ON\n",
      "COLUMN \"OAG\".\"2018_schedule\".\"ac_name_oag\" IS ;\n",
      "COMMENT ON\n",
      "COLUMN \"OAG\".\"2018_schedule\".\"dep_ap_code\" IS ;\n",
      "COMMENT ON\n",
      "COLUMN \"OAG\".\"2018_schedule\".\"dep_ap_name\" IS ;\n",
      "COMMENT ON\n",
      "COLUMN \"OAG\".\"2018_schedule\".\"dep_ap_cty\" IS ;\n",
      "COMMENT ON\n",
      "COLUMN \"OAG\".\"2018_schedule\".\"arr_ap_code\" IS ;\n",
      "COMMENT ON\n",
      "COLUMN \"OAG\".\"2018_schedule\".\"arr_ap_name\" IS ;\n",
      "COMMENT ON\n",
      "COLUMN \"OAG\".\"2018_schedule\".\"arr_ap_cty\" IS ;\n",
      "COMMENT ON\n",
      "COLUMN \"OAG\".\"2018_schedule\".\"gc_distance\" IS ;\n",
      "COMMENT ON\n",
      "COLUMN \"OAG\".\"2018_schedule\".\"frequency_2018\" IS ;\n",
      "COMMENT ON\n",
      "COLUMN \"OAG\".\"2018_schedule\".\"fkm_2018\" IS ;\n"
     ]
    }
   ],
   "source": [
    "for col in oag18.columns:\n",
    "    print('COMMENT ON\\nCOLUMN \"OAG\".\"2018_schedule\".\"{}\" IS ;'.format(col))"
   ]
  },
  {
   "cell_type": "code",
   "execution_count": 51,
   "metadata": {},
   "outputs": [
    {
     "name": "stdout",
     "output_type": "stream",
     "text": [
      "SUCCESS: query did not return any data\n"
     ]
    },
    {
     "data": {
      "text/plain": [
       "<cursor object at 0x0000027D7083A048; closed: 0>"
      ]
     },
     "execution_count": 51,
     "metadata": {},
     "output_type": "execute_result"
    }
   ],
   "source": [
    "%pg_sql set role \"NDA-OAG-full\""
   ]
  },
  {
   "cell_type": "code",
   "execution_count": 52,
   "metadata": {},
   "outputs": [
    {
     "name": "stdout",
     "output_type": "stream",
     "text": [
      "SUCCESS: query did not return any data\n",
      " cursor object as 'cur'\n"
     ]
    }
   ],
   "source": [
    "%%pg_sql cur\n",
    "drop table if exists \"OAG\".\"2018_schedule\";\n",
    "\n",
    "CREATE TABLE \"OAG\".\"2018_schedule\" \n",
    "(\"ac_code_iata\" varchar(3), \n",
    " \"ac_name_oag\" varchar(39), \n",
    " \"arr_ap_code\" varchar(3),\n",
    " \"arr_ap_name\" varchar(39),\n",
    " \"arr_ap_cty\" varchar(3),\n",
    " \"dep_ap_code\" varchar(3),\n",
    " \"dep_ap_name\" varchar(39),\n",
    " \"dep_ap_cty\" varchar(3),\n",
    " \"gc_distance\" float,\n",
    " \"frequency_2018\" float,\n",
    " \"fkm_2018\" float\n",
    ");\n",
    "\n",
    "COMMENT ON\n",
    "COLUMN \"OAG\".\"2018_schedule\".\"ac_code_iata\" IS 'IATA aircraft code';\n",
    "COMMENT ON\n",
    "COLUMN \"OAG\".\"2018_schedule\".\"ac_name_oag\" IS 'OAG aircraft name';\n",
    "COMMENT ON\n",
    "COLUMN \"OAG\".\"2018_schedule\".\"arr_ap_code\" IS 'IATA aiport code';\n",
    "COMMENT ON\n",
    "COLUMN \"OAG\".\"2018_schedule\".\"arr_ap_name\" IS 'IATA aiport name';\n",
    "COMMENT ON\n",
    "COLUMN \"OAG\".\"2018_schedule\".\"arr_ap_cty\" IS  'IATA airport country';\n",
    "COMMENT ON\n",
    "COLUMN \"OAG\".\"2018_schedule\".\"dep_ap_code\" IS 'IATA aiport code';\n",
    "COMMENT ON\n",
    "COLUMN \"OAG\".\"2018_schedule\".\"dep_ap_name\" IS 'IATA aiport name';\n",
    "COMMENT ON\n",
    "COLUMN \"OAG\".\"2018_schedule\".\"dep_ap_cty\" IS 'IATA airport country';\n",
    "COMMENT ON\n",
    "COLUMN \"OAG\".\"2018_schedule\".\"gc_distance\" IS 'great-circle distance for this segment';\n",
    "COMMENT ON\n",
    "COLUMN \"OAG\".\"2018_schedule\".\"frequency_2018\" IS 'number of flights for this segment in 2018';\n",
    "COMMENT ON\n",
    "COLUMN \"OAG\".\"2018_schedule\".\"fkm_2018\" IS 'flight kilometers for this segment (gc_distance * frequency)';\n",
    "\n",
    "COMMIT;"
   ]
  },
  {
   "cell_type": "code",
   "execution_count": 53,
   "metadata": {},
   "outputs": [
    {
     "name": "stdout",
     "output_type": "stream",
     "text": [
      "  waring: green-mode temporarily deactivated (interrupt won't abort the import)  green mode reactivated"
     ]
    }
   ],
   "source": [
    "%pg_copy oag18 OAG.2018_schedule"
   ]
  },
  {
   "cell_type": "code",
   "execution_count": 54,
   "metadata": {
    "collapsed": true
   },
   "outputs": [],
   "source": [
    "%pg_disconnect"
   ]
  },
  {
   "cell_type": "markdown",
   "metadata": {},
   "source": [
    "# 2012"
   ]
  },
  {
   "cell_type": "markdown",
   "metadata": {},
   "source": [
    "## (2012) Load and pre-process data"
   ]
  },
  {
   "cell_type": "code",
   "execution_count": 160,
   "metadata": {},
   "outputs": [
    {
     "name": "stdout",
     "output_type": "stream",
     "text": [
      "The ipython_pg.LAV extension is already loaded. To reload it, use:\n",
      "  %reload_ext ipython_pg.LAV\n",
      "password for heldm@lav-fileserver.ethz.ch:5433:········\n",
      "SUCCESS: connected to lav-fileserver.ethz.ch\n",
      "  PostGIS integration enabled"
     ]
    }
   ],
   "source": [
    "# Connect to DB\n",
    "%load_ext ipython_pg.LAV\n",
    "%pg_connect dbname='mobility' user='heldm'"
   ]
  },
  {
   "cell_type": "code",
   "execution_count": 9,
   "metadata": {
    "scrolled": true
   },
   "outputs": [
    {
     "name": "stdout",
     "output_type": "stream",
     "text": [
      "SUCCES: matched 136743 rows\n",
      " results stored as 'oag12_raw'\n"
     ]
    }
   ],
   "source": [
    "%%pg_pd oag12_raw\n",
    "SELECT * FROM \"OAG\".\"2012_schedule_raw\""
   ]
  },
  {
   "cell_type": "code",
   "execution_count": 18,
   "metadata": {},
   "outputs": [
    {
     "data": {
      "text/html": [
       "<div>\n",
       "<style scoped>\n",
       "    .dataframe tbody tr th:only-of-type {\n",
       "        vertical-align: middle;\n",
       "    }\n",
       "\n",
       "    .dataframe tbody tr th {\n",
       "        vertical-align: top;\n",
       "    }\n",
       "\n",
       "    .dataframe thead th {\n",
       "        text-align: right;\n",
       "    }\n",
       "</style>\n",
       "<table border=\"1\" class=\"dataframe\">\n",
       "  <thead>\n",
       "    <tr style=\"text-align: right;\">\n",
       "      <th></th>\n",
       "      <th>ac_code_iata</th>\n",
       "      <th>ac_name_oag</th>\n",
       "      <th>arr_ap_code</th>\n",
       "      <th>arr_ap_name</th>\n",
       "      <th>dep_ap_code</th>\n",
       "      <th>dep_ap_name</th>\n",
       "      <th>frequency_2012</th>\n",
       "    </tr>\n",
       "  </thead>\n",
       "  <tbody>\n",
       "    <tr>\n",
       "      <th>0</th>\n",
       "      <td>100</td>\n",
       "      <td>Fokker 100</td>\n",
       "      <td>AGT</td>\n",
       "      <td>Ciudad del Este</td>\n",
       "      <td>ASU</td>\n",
       "      <td>Asuncion</td>\n",
       "      <td>176.0</td>\n",
       "    </tr>\n",
       "    <tr>\n",
       "      <th>1</th>\n",
       "      <td>100</td>\n",
       "      <td>Fokker 100</td>\n",
       "      <td>AMS</td>\n",
       "      <td>Amsterdam</td>\n",
       "      <td>LUX</td>\n",
       "      <td>Luxembourg</td>\n",
       "      <td>1.0</td>\n",
       "    </tr>\n",
       "    <tr>\n",
       "      <th>2</th>\n",
       "      <td>100</td>\n",
       "      <td>Fokker 100</td>\n",
       "      <td>ASU</td>\n",
       "      <td>Asuncion</td>\n",
       "      <td>AGT</td>\n",
       "      <td>Ciudad del Este</td>\n",
       "      <td>225.0</td>\n",
       "    </tr>\n",
       "    <tr>\n",
       "      <th>3</th>\n",
       "      <td>100</td>\n",
       "      <td>Fokker 100</td>\n",
       "      <td>BHX</td>\n",
       "      <td>Birmingham Airport</td>\n",
       "      <td>ZRH</td>\n",
       "      <td>Zurich Airport</td>\n",
       "      <td>668.0</td>\n",
       "    </tr>\n",
       "    <tr>\n",
       "      <th>4</th>\n",
       "      <td>100</td>\n",
       "      <td>Fokker 100</td>\n",
       "      <td>BIO</td>\n",
       "      <td>Bilbao</td>\n",
       "      <td>LIS</td>\n",
       "      <td>Lisbon</td>\n",
       "      <td>1.0</td>\n",
       "    </tr>\n",
       "  </tbody>\n",
       "</table>\n",
       "</div>"
      ],
      "text/plain": [
       "  ac_code_iata ac_name_oag arr_ap_code         arr_ap_name dep_ap_code  \\\n",
       "0          100  Fokker 100         AGT     Ciudad del Este         ASU   \n",
       "1          100  Fokker 100         AMS           Amsterdam         LUX   \n",
       "2          100  Fokker 100         ASU            Asuncion         AGT   \n",
       "3          100  Fokker 100         BHX  Birmingham Airport         ZRH   \n",
       "4          100  Fokker 100         BIO              Bilbao         LIS   \n",
       "\n",
       "       dep_ap_name  frequency_2012  \n",
       "0         Asuncion           176.0  \n",
       "1       Luxembourg             1.0  \n",
       "2  Ciudad del Este           225.0  \n",
       "3   Zurich Airport           668.0  \n",
       "4           Lisbon             1.0  "
      ]
     },
     "execution_count": 18,
     "metadata": {},
     "output_type": "execute_result"
    }
   ],
   "source": [
    "oag12_raw.head()"
   ]
  },
  {
   "cell_type": "code",
   "execution_count": 19,
   "metadata": {
    "collapsed": true
   },
   "outputs": [],
   "source": [
    "oag12 = oag12_raw.copy()"
   ]
  },
  {
   "cell_type": "markdown",
   "metadata": {},
   "source": [
    "The following codes are helicopters and are removed from the OAG schedule since they are out of scope for our study:"
   ]
  },
  {
   "cell_type": "code",
   "execution_count": 20,
   "metadata": {
    "collapsed": true
   },
   "outputs": [],
   "source": [
    "helis = ['NDE','BH2','S76','EC3','AWH','AGH']\n",
    "oag12 = oag12.loc[~oag12.ac_code_iata.isin(helis)]"
   ]
  },
  {
   "cell_type": "code",
   "execution_count": 21,
   "metadata": {},
   "outputs": [
    {
     "data": {
      "text/html": [
       "<div>\n",
       "<style scoped>\n",
       "    .dataframe tbody tr th:only-of-type {\n",
       "        vertical-align: middle;\n",
       "    }\n",
       "\n",
       "    .dataframe tbody tr th {\n",
       "        vertical-align: top;\n",
       "    }\n",
       "\n",
       "    .dataframe thead th {\n",
       "        text-align: right;\n",
       "    }\n",
       "</style>\n",
       "<table border=\"1\" class=\"dataframe\">\n",
       "  <thead>\n",
       "    <tr style=\"text-align: right;\">\n",
       "      <th></th>\n",
       "      <th>ac_code_iata</th>\n",
       "      <th>ac_name_oag</th>\n",
       "      <th>arr_ap_code</th>\n",
       "      <th>arr_ap_name</th>\n",
       "      <th>dep_ap_code</th>\n",
       "      <th>dep_ap_name</th>\n",
       "      <th>frequency_2012</th>\n",
       "    </tr>\n",
       "  </thead>\n",
       "  <tbody>\n",
       "    <tr>\n",
       "      <th>0</th>\n",
       "      <td>100</td>\n",
       "      <td>Fokker 100</td>\n",
       "      <td>AGT</td>\n",
       "      <td>Ciudad del Este</td>\n",
       "      <td>ASU</td>\n",
       "      <td>Asuncion</td>\n",
       "      <td>176.0</td>\n",
       "    </tr>\n",
       "    <tr>\n",
       "      <th>1</th>\n",
       "      <td>100</td>\n",
       "      <td>Fokker 100</td>\n",
       "      <td>AMS</td>\n",
       "      <td>Amsterdam</td>\n",
       "      <td>LUX</td>\n",
       "      <td>Luxembourg</td>\n",
       "      <td>1.0</td>\n",
       "    </tr>\n",
       "    <tr>\n",
       "      <th>2</th>\n",
       "      <td>100</td>\n",
       "      <td>Fokker 100</td>\n",
       "      <td>ASU</td>\n",
       "      <td>Asuncion</td>\n",
       "      <td>AGT</td>\n",
       "      <td>Ciudad del Este</td>\n",
       "      <td>225.0</td>\n",
       "    </tr>\n",
       "    <tr>\n",
       "      <th>3</th>\n",
       "      <td>100</td>\n",
       "      <td>Fokker 100</td>\n",
       "      <td>BHX</td>\n",
       "      <td>Birmingham Airport</td>\n",
       "      <td>ZRH</td>\n",
       "      <td>Zurich Airport</td>\n",
       "      <td>668.0</td>\n",
       "    </tr>\n",
       "    <tr>\n",
       "      <th>4</th>\n",
       "      <td>100</td>\n",
       "      <td>Fokker 100</td>\n",
       "      <td>BIO</td>\n",
       "      <td>Bilbao</td>\n",
       "      <td>LIS</td>\n",
       "      <td>Lisbon</td>\n",
       "      <td>1.0</td>\n",
       "    </tr>\n",
       "  </tbody>\n",
       "</table>\n",
       "</div>"
      ],
      "text/plain": [
       "  ac_code_iata ac_name_oag arr_ap_code         arr_ap_name dep_ap_code  \\\n",
       "0          100  Fokker 100         AGT     Ciudad del Este         ASU   \n",
       "1          100  Fokker 100         AMS           Amsterdam         LUX   \n",
       "2          100  Fokker 100         ASU            Asuncion         AGT   \n",
       "3          100  Fokker 100         BHX  Birmingham Airport         ZRH   \n",
       "4          100  Fokker 100         BIO              Bilbao         LIS   \n",
       "\n",
       "       dep_ap_name  frequency_2012  \n",
       "0         Asuncion           176.0  \n",
       "1       Luxembourg             1.0  \n",
       "2  Ciudad del Este           225.0  \n",
       "3   Zurich Airport           668.0  \n",
       "4           Lisbon             1.0  "
      ]
     },
     "metadata": {},
     "output_type": "display_data"
    },
    {
     "name": "stdout",
     "output_type": "stream",
     "text": [
      "This dataframe has 136704 observations.\n"
     ]
    }
   ],
   "source": [
    "preview(oag12)"
   ]
  },
  {
   "cell_type": "markdown",
   "metadata": {},
   "source": [
    "## (2012) Add great circle distance to OAG data"
   ]
  },
  {
   "cell_type": "code",
   "execution_count": 22,
   "metadata": {},
   "outputs": [
    {
     "data": {
      "text/html": [
       "<div>\n",
       "<style scoped>\n",
       "    .dataframe tbody tr th:only-of-type {\n",
       "        vertical-align: middle;\n",
       "    }\n",
       "\n",
       "    .dataframe tbody tr th {\n",
       "        vertical-align: top;\n",
       "    }\n",
       "\n",
       "    .dataframe thead th {\n",
       "        text-align: right;\n",
       "    }\n",
       "</style>\n",
       "<table border=\"1\" class=\"dataframe\">\n",
       "  <thead>\n",
       "    <tr style=\"text-align: right;\">\n",
       "      <th></th>\n",
       "      <th>ap_pair</th>\n",
       "      <th>gc_distance</th>\n",
       "    </tr>\n",
       "  </thead>\n",
       "  <tbody>\n",
       "    <tr>\n",
       "      <th>0</th>\n",
       "      <td>AAA_AAB</td>\n",
       "      <td>7544.812628</td>\n",
       "    </tr>\n",
       "    <tr>\n",
       "      <th>1</th>\n",
       "      <td>AAA_FAC</td>\n",
       "      <td>76.504771</td>\n",
       "    </tr>\n",
       "    <tr>\n",
       "      <th>2</th>\n",
       "      <td>AAA_FAV</td>\n",
       "      <td>145.227563</td>\n",
       "    </tr>\n",
       "    <tr>\n",
       "      <th>3</th>\n",
       "      <td>AAA_HHZ</td>\n",
       "      <td>307.941712</td>\n",
       "    </tr>\n",
       "    <tr>\n",
       "      <th>4</th>\n",
       "      <td>AAA_ITA</td>\n",
       "      <td>9588.858768</td>\n",
       "    </tr>\n",
       "  </tbody>\n",
       "</table>\n",
       "</div>"
      ],
      "text/plain": [
       "   ap_pair  gc_distance\n",
       "0  AAA_AAB  7544.812628\n",
       "1  AAA_FAC    76.504771\n",
       "2  AAA_FAV   145.227563\n",
       "3  AAA_HHZ   307.941712\n",
       "4  AAA_ITA  9588.858768"
      ]
     },
     "execution_count": 22,
     "metadata": {},
     "output_type": "execute_result"
    }
   ],
   "source": [
    "ap_dist_raw = pd.read_csv('../../../../Research/Aviation/Jupyter/datasets/airport_distances.csv')\n",
    "ap_dist_raw.head()"
   ]
  },
  {
   "cell_type": "markdown",
   "metadata": {},
   "source": [
    "### (2012) Enable bidirectional ap_pair lookup"
   ]
  },
  {
   "cell_type": "code",
   "execution_count": 23,
   "metadata": {
    "collapsed": true
   },
   "outputs": [],
   "source": [
    "split = ap_dist_raw['ap_pair'].str.split(pat = \"_\",expand=True)\n",
    "ap_dist_raw['ap1'] = split[0]\n",
    "ap_dist_raw['ap2'] = split[1]"
   ]
  },
  {
   "cell_type": "markdown",
   "metadata": {},
   "source": [
    "We observe that some airport pairs are only available in one direction. In the following, we make two ap pair entries for each ap pair, in order to cover both directions."
   ]
  },
  {
   "cell_type": "code",
   "execution_count": 24,
   "metadata": {},
   "outputs": [
    {
     "data": {
      "text/plain": [
       "39737"
      ]
     },
     "execution_count": 24,
     "metadata": {},
     "output_type": "execute_result"
    }
   ],
   "source": [
    "# Number of ap-pairs before duplicating\n",
    "len(ap_dist_raw)"
   ]
  },
  {
   "cell_type": "code",
   "execution_count": 25,
   "metadata": {
    "collapsed": true
   },
   "outputs": [],
   "source": [
    "ap_dist_raw_bidirect = ap_dist_raw.rename(columns={\"ap1\": \"ap2\",\n",
    "                      \"ap2\": \"ap1\"})\n",
    "cols = ['ap_pair', 'gc_distance', 'ap1', 'ap2']\n",
    "ap_dist_raw_bidirect = ap_dist_raw_bidirect[cols]\n",
    "ap_dist = ap_dist_raw.append(ap_dist_raw_bidirect)\n",
    "ap_dist = ap_dist.sort_values(by = ['ap1', 'ap2'])"
   ]
  },
  {
   "cell_type": "code",
   "execution_count": 26,
   "metadata": {},
   "outputs": [
    {
     "data": {
      "text/plain": [
       "79474"
      ]
     },
     "execution_count": 26,
     "metadata": {},
     "output_type": "execute_result"
    }
   ],
   "source": [
    "# Number of ap-pairs after duplicating\n",
    "len(ap_dist)"
   ]
  },
  {
   "cell_type": "code",
   "execution_count": 27,
   "metadata": {
    "scrolled": true
   },
   "outputs": [
    {
     "data": {
      "text/plain": [
       "32"
      ]
     },
     "execution_count": 27,
     "metadata": {},
     "output_type": "execute_result"
    }
   ],
   "source": [
    "# Number of redundant ap-pairs that can be deleted\n",
    "ap_dist.duplicated(subset = ['ap1', 'ap2']).sum()"
   ]
  },
  {
   "cell_type": "code",
   "execution_count": 28,
   "metadata": {
    "collapsed": true,
    "scrolled": true
   },
   "outputs": [],
   "source": [
    "# Duplicates and ap_pair column being deleted\n",
    "ap_dist.drop_duplicates(keep='first',inplace=True) \n",
    "ap_dist.drop('ap_pair', axis=1);"
   ]
  },
  {
   "cell_type": "code",
   "execution_count": 29,
   "metadata": {},
   "outputs": [
    {
     "data": {
      "text/plain": [
       "79442"
      ]
     },
     "execution_count": 29,
     "metadata": {},
     "output_type": "execute_result"
    }
   ],
   "source": [
    "# Number of region-pairs in the final dataframe\n",
    "len(ap_dist)"
   ]
  },
  {
   "cell_type": "markdown",
   "metadata": {},
   "source": [
    "### (2012) Looking at low-distance AP pair movements"
   ]
  },
  {
   "cell_type": "code",
   "execution_count": 30,
   "metadata": {},
   "outputs": [
    {
     "data": {
      "text/html": [
       "<div>\n",
       "<style scoped>\n",
       "    .dataframe tbody tr th:only-of-type {\n",
       "        vertical-align: middle;\n",
       "    }\n",
       "\n",
       "    .dataframe tbody tr th {\n",
       "        vertical-align: top;\n",
       "    }\n",
       "\n",
       "    .dataframe thead th {\n",
       "        text-align: right;\n",
       "    }\n",
       "</style>\n",
       "<table border=\"1\" class=\"dataframe\">\n",
       "  <thead>\n",
       "    <tr style=\"text-align: right;\">\n",
       "      <th></th>\n",
       "      <th>ap1</th>\n",
       "      <th>ap2</th>\n",
       "      <th>gc_distance</th>\n",
       "    </tr>\n",
       "  </thead>\n",
       "  <tbody>\n",
       "    <tr>\n",
       "      <th>0</th>\n",
       "      <td>AAA</td>\n",
       "      <td>AAB</td>\n",
       "      <td>7544.812628</td>\n",
       "    </tr>\n",
       "    <tr>\n",
       "      <th>1</th>\n",
       "      <td>AAA</td>\n",
       "      <td>FAC</td>\n",
       "      <td>76.504771</td>\n",
       "    </tr>\n",
       "    <tr>\n",
       "      <th>2</th>\n",
       "      <td>AAA</td>\n",
       "      <td>FAV</td>\n",
       "      <td>145.227563</td>\n",
       "    </tr>\n",
       "    <tr>\n",
       "      <th>3</th>\n",
       "      <td>AAA</td>\n",
       "      <td>HHZ</td>\n",
       "      <td>307.941712</td>\n",
       "    </tr>\n",
       "    <tr>\n",
       "      <th>4</th>\n",
       "      <td>AAA</td>\n",
       "      <td>ITA</td>\n",
       "      <td>9588.858768</td>\n",
       "    </tr>\n",
       "  </tbody>\n",
       "</table>\n",
       "</div>"
      ],
      "text/plain": [
       "   ap1  ap2  gc_distance\n",
       "0  AAA  AAB  7544.812628\n",
       "1  AAA  FAC    76.504771\n",
       "2  AAA  FAV   145.227563\n",
       "3  AAA  HHZ   307.941712\n",
       "4  AAA  ITA  9588.858768"
      ]
     },
     "execution_count": 30,
     "metadata": {},
     "output_type": "execute_result"
    }
   ],
   "source": [
    "cols = ['ap1', 'ap2', 'gc_distance']\n",
    "ap_dist = ap_dist[cols]\n",
    "ap_dist.head()"
   ]
  },
  {
   "cell_type": "markdown",
   "metadata": {},
   "source": [
    "Look at the distance histogram between all ap-pairs"
   ]
  },
  {
   "cell_type": "code",
   "execution_count": 31,
   "metadata": {},
   "outputs": [
    {
     "data": {
      "image/png": "[encoded data removed]",
      "text/plain": [
       "<matplotlib.figure.Figure at 0x1fcb7c5dda0>"
      ]
     },
     "metadata": {},
     "output_type": "display_data"
    }
   ],
   "source": [
    "ap_dist.hist(bins = 100)\n",
    "plt.show()"
   ]
  },
  {
   "cell_type": "markdown",
   "metadata": {},
   "source": [
    "Zoom in to below 50 km (since flights below that threshold are probably only relevant for regional aircraft):"
   ]
  },
  {
   "cell_type": "code",
   "execution_count": 32,
   "metadata": {},
   "outputs": [
    {
     "data": {
      "image/png": "[encoded data removed]",
      "text/plain": [
       "<matplotlib.figure.Figure at 0x1fcb7c39be0>"
      ]
     },
     "metadata": {},
     "output_type": "display_data"
    }
   ],
   "source": [
    "ap_dist[ap_dist['gc_distance'] <= 100].hist(bins = 100)\n",
    "plt.xlim(0,100)\n",
    "plt.show()"
   ]
  },
  {
   "cell_type": "markdown",
   "metadata": {},
   "source": [
    "We observe a peak at 0km - this seems to be invalid data since they represent flights from and to the same airports."
   ]
  },
  {
   "cell_type": "markdown",
   "metadata": {},
   "source": [
    "For further analyses, we create a new dataframe for the low-distance AP pairs:"
   ]
  },
  {
   "cell_type": "code",
   "execution_count": 33,
   "metadata": {
    "collapsed": true
   },
   "outputs": [],
   "source": [
    "low_ap_gc = ap_dist[ap_dist['gc_distance'] <= 50].sort_values(by='gc_distance')"
   ]
  },
  {
   "cell_type": "markdown",
   "metadata": {},
   "source": [
    "Number of flights below 50km AP distance:"
   ]
  },
  {
   "cell_type": "code",
   "execution_count": 34,
   "metadata": {
    "collapsed": true
   },
   "outputs": [],
   "source": [
    "count = 0\n",
    "for i in np.arange(len(low_ap_gc)):\n",
    "    count += oag12[(oag12['arr_ap_code'] == low_ap_gc.iloc[i,0]) & (oag12['dep_ap_code'] == low_ap_gc.iloc[i,1])].loc[:,'frequency_2012'].sum()\n",
    "    count += oag12[(oag12['arr_ap_code'] == low_ap_gc.iloc[i,1]) & (oag12['dep_ap_code'] == low_ap_gc.iloc[i,0])].loc[:,'frequency_2012'].sum()"
   ]
  },
  {
   "cell_type": "code",
   "execution_count": 35,
   "metadata": {},
   "outputs": [
    {
     "data": {
      "text/plain": [
       "708468.0"
      ]
     },
     "execution_count": 35,
     "metadata": {},
     "output_type": "execute_result"
    }
   ],
   "source": [
    "count"
   ]
  },
  {
   "cell_type": "markdown",
   "metadata": {},
   "source": [
    "AC that performed these flights:"
   ]
  },
  {
   "cell_type": "code",
   "execution_count": 179,
   "metadata": {
    "collapsed": true,
    "scrolled": true
   },
   "outputs": [],
   "source": [
    "AC_list = []\n",
    "for i in np.arange(len(low_ap_gc)-100):\n",
    "    if (oag12[(oag12['arr_ap_code'] == low_ap_gc.iloc[i,0]) & (oag12['dep_ap_code'] == low_ap_gc.iloc[i,1])]).empty == False:\n",
    "        AC_list.extend(list(oag12[(oag12['arr_ap_code'] == low_ap_gc.iloc[i,0]) & (oag12['dep_ap_code'] == low_ap_gc.iloc[i,1])].loc[:,'ac_name_oag']))\n",
    "    if (oag12[(oag12['arr_ap_code'] == low_ap_gc.iloc[i,1]) & (oag12['dep_ap_code'] == low_ap_gc.iloc[i,0])].loc[:,'ac_name_oag']).empty == False:\n",
    "        AC_list.extend(list(oag12[(oag12['arr_ap_code'] == low_ap_gc.iloc[i,1]) & (oag12['dep_ap_code'] == low_ap_gc.iloc[i,0])].loc[:,'ac_name_oag']))"
   ]
  },
  {
   "cell_type": "code",
   "execution_count": 180,
   "metadata": {
    "collapsed": true
   },
   "outputs": [],
   "source": [
    "AC_list = pd.DataFrame({\"AC_type_oag\": AC_list})"
   ]
  },
  {
   "cell_type": "code",
   "execution_count": 181,
   "metadata": {},
   "outputs": [
    {
     "data": {
      "text/plain": [
       "array(['Saab 340', 'Cessna (Light Aircraft)', 'Airbus A319',\n",
       "       'Airbus A318 /319 /320 /321', 'ATR42 /ATR72',\n",
       "       'Beechcraft 1900D Airliner', 'Embraer 170 /195', 'Embraer RJ145',\n",
       "       'Embraer RJ 135 /140 /145', 'ATR 42-500', 'Embraer 170',\n",
       "       'Airbus A320', 'Canadair Regional Jet 900',\n",
       "       'De Havilland DHC-8 Dash 8', 'BAe Jetstream 41',\n",
       "       'Canadair Regional Jet', 'Antonov AN-24', 'Airbus A300 Passenger',\n",
       "       'Boeing 737-700 Passenger',\n",
       "       'Piper (Light Aircraft - Single Piston)',\n",
       "       'Boeing 737-900 Passenger', 'Boeing 737 Passenger',\n",
       "       'Boeing 737-800 Passenger', 'Boeing (douglas) MD-80',\n",
       "       'De Havilland DHC-2 Beaver', 'BN BN-2a /BN-2b Islander',\n",
       "       'Piper (Light Aircraft)', 'Sikorsky S61',\n",
       "       'Cessna Light Aircraft(Single Turboprop)',\n",
       "       'De Havilland DHC-6 Twin Otter', 'Beechcraft 1900 Airliner',\n",
       "       'Piper (Light Aircraft - Twin Piston)',\n",
       "       'Cessna Light Aircraft (Twin Turboprop',\n",
       "       'De Havilland DHC-4 Caribou', 'Harbin Yunshuji Y12', 'ATR 72',\n",
       "       'Beechcraft (Lght Acft - Twin Turboprop)',\n",
       "       'De Havilland DHC-8-300 Dash 8 /8q', 'Boeing 757-200 Passenger',\n",
       "       'Boeing 767-400 Passenger', 'Boeing 747-400 (Passenger)',\n",
       "       'De Havilland DHC-3 Turbo Otter', 'ATR 42-300 /320',\n",
       "       'Beechcraft (Light Aircraft)',\n",
       "       'Boeing 737-800 (winglets) Passenger',\n",
       "       'Boeing 737-700 (winglets) Passenger',\n",
       "       'De Havilland DHC-8-200 Dash 8 /8q',\n",
       "       'De Havilland DHC-8 Dash 8-400 Dash 8q',\n",
       "       'Boeing 737-300 Passenger', 'Boeing 767-300 Passenger',\n",
       "       'Boeing 777-200LR', 'Cessna Light Acft(single Piston Engine)',\n",
       "       'Boeing (douglas) MD-90', 'Boeing 737-500 Passenger',\n",
       "       'Boeing 737-400 Passenger', 'Cessna 208b Freighter', 'Fokker 50',\n",
       "       'Boeing 777-200/200ER Passenger', 'Boeing 757 (Passenger)',\n",
       "       'Airbus A321', 'BAe Jetstream 31', 'Shorts 360 (sd3-60)',\n",
       "       'Fokker 100', 'BAe Jetstream 32', 'BAe Jetstream',\n",
       "       'BN BN-2a Mk.iii Trislander', 'De Havilland DHC-8-100 Dash 8 /8q',\n",
       "       'Boeing 757-300 Passenger',\n",
       "       'Beechcraft-Lght Acft-Twin Piston Engine', 'Let 410',\n",
       "       'Embraer 110 Bandeirante'], dtype=object)"
      ]
     },
     "execution_count": 181,
     "metadata": {},
     "output_type": "execute_result"
    }
   ],
   "source": [
    "AC_list.loc[:,'AC_type_oag'].unique()"
   ]
  },
  {
   "cell_type": "markdown",
   "metadata": {},
   "source": [
    "These are mainly regional aircraft, operating between two close regional airports. However, there are also some movements of bigger aircraft which seem to be transfers from and to adjacent airports."
   ]
  },
  {
   "cell_type": "raw",
   "metadata": {},
   "source": [
    "oag12[oag12['ac_name_oag'] == 'Boeing 737-900 Passenger'].sort_values(by='gc_distance').head()"
   ]
  },
  {
   "cell_type": "raw",
   "metadata": {},
   "source": [
    "oag12[oag12['ac_name_oag'] == 'Airbus A320'].sort_values(by='gc_distance').head()"
   ]
  },
  {
   "cell_type": "markdown",
   "metadata": {},
   "source": [
    "### (2012) Merge distance table with OAG table and compute total FKM"
   ]
  },
  {
   "cell_type": "code",
   "execution_count": 182,
   "metadata": {
    "collapsed": true
   },
   "outputs": [],
   "source": [
    "oag12 = oag12.merge(ap_dist, left_on=['dep_ap_code','arr_ap_code'], right_on=['ap1','ap2'],how = 'left')\n",
    "oag12 = oag12.drop(['ap1', 'ap2'], axis=1)"
   ]
  },
  {
   "cell_type": "code",
   "execution_count": 183,
   "metadata": {
    "collapsed": true
   },
   "outputs": [],
   "source": [
    "oag12['fkm_2012'] = oag12['gc_distance'] * oag12['frequency_2012']"
   ]
  },
  {
   "cell_type": "markdown",
   "metadata": {},
   "source": [
    "We delete all entries with a gc_distance = 0."
   ]
  },
  {
   "cell_type": "code",
   "execution_count": 184,
   "metadata": {
    "collapsed": true,
    "scrolled": true
   },
   "outputs": [],
   "source": [
    "idx_to_del = oag12[oag12['gc_distance'] == 0].index\n",
    "oag12 = oag12.drop(index = idx_to_del)"
   ]
  },
  {
   "cell_type": "markdown",
   "metadata": {},
   "source": [
    "### (2012) Remove great circle distance outliers"
   ]
  },
  {
   "cell_type": "markdown",
   "metadata": {},
   "source": [
    "Apply a multiple pass Z-Score filter"
   ]
  },
  {
   "cell_type": "code",
   "execution_count": 185,
   "metadata": {},
   "outputs": [
    {
     "name": "stderr",
     "output_type": "stream",
     "text": [
      "C:\\Users\\heldm\\AppData\\Local\\Continuum\\anaconda3\\lib\\site-packages\\scipy\\stats\\stats.py:2247: RuntimeWarning: invalid value encountered in true_divide\n",
      "  return (a - mns) / sstd\n"
     ]
    },
    {
     "name": "stdout",
     "output_type": "stream",
     "text": [
      "112 (0.08% of total) routes have been removed by filtering great circle distance z scores that are greater than 5 in the first pass.\n",
      "8 (0.01% of total) routes have been removed by filtering great circle distance z scores that are greater than 6 in the second pass.\n"
     ]
    }
   ],
   "source": [
    "# Take the complete set of routes operated by an A/C type and calculate the z score of the great circle distance values\n",
    "oag12_z_scores1 = oag12.copy()\n",
    "oag12_z_scores1['z_score'] = ''\n",
    "for ac in oag12_z_scores1.ac_code_iata.unique():\n",
    "    oag12_z_scores1.loc[oag12_z_scores1.ac_code_iata==ac,'z_score'] = abs(stats.zscore(oag12_z_scores1.loc[oag12_z_scores1.ac_code_iata==ac,'gc_distance']))\n",
    "    \n",
    "oag12_filtered1 = oag12.loc[(oag12_z_scores1.z_score<5)|oag12_z_scores1.z_score.isna()]\n",
    "oag12_removed1 = oag12.loc[oag12_z_scores1.z_score>=5]\n",
    "print('{:,.0f} ({:.2f}% of total) routes have been removed by filtering great circle distance z scores that are greater than 5 in the first pass.'.format(len(oag12_removed1),len(oag12_removed1)/len(oag12)*100))\n",
    "\n",
    "oag12_filtered1.reset_index(drop=True,inplace=True)\n",
    "\n",
    "# Second Pass\n",
    "oag12_z_scores2 = oag12_filtered1.copy()\n",
    "oag12_z_scores2['z_score'] = ''\n",
    "for ac in oag12_z_scores2.ac_code_iata.unique():\n",
    "    oag12_z_scores2.loc[oag12_z_scores2.ac_code_iata==ac,'z_score'] = abs(stats.zscore(oag12_z_scores2.loc[oag12_z_scores2.ac_code_iata==ac,'gc_distance']))\n",
    "    \n",
    "oag12_filtered2 = oag12_filtered1.loc[(oag12_z_scores2.z_score<6)|oag12_z_scores2.z_score.isna()]\n",
    "oag12_removed2 = oag12_filtered1.loc[oag12_z_scores2.z_score>=6]\n",
    "print('{:,.0f} ({:.2f}% of total) routes have been removed by filtering great circle distance z scores that are greater than 6 in the second pass.'.format(len(oag12_removed2),len(oag12_removed2)/len(oag12)*100))"
   ]
  },
  {
   "cell_type": "markdown",
   "metadata": {},
   "source": [
    "The runtime warning occurs for aircraft types which only have one flight route (standard deviation=0). For such cases, NaN are returned and these are accounted for when filtering the dataset below."
   ]
  },
  {
   "cell_type": "raw",
   "metadata": {},
   "source": [
    "# Save the largest outliers\n",
    "oag12.loc[(oag12_z_scores1.z_score>10)|oag12_z_scores1.z_score.isna()].to_csv('great_circle_distance_outliers.csv')"
   ]
  },
  {
   "cell_type": "code",
   "execution_count": 186,
   "metadata": {
    "collapsed": true
   },
   "outputs": [],
   "source": [
    "# View the distribution of great circle distances for a few select aircraft before and after filtering\n",
    "fig,ax = plt.subplots(nrows=3,ncols=9,figsize=(15,10))\n",
    "select_ac = ['AT7','7M8','DH4','DHT','733','73W','321','312','CNC']\n",
    "for i,ac in enumerate(select_ac):\n",
    "    sns.boxplot(y='gc_distance', data=oag12.loc[oag12.ac_code_iata==ac],ax=ax[0,i])\n",
    "    ax[0,i].set_ylabel(None)\n",
    "    ax[0,i].set_title(ac,fontsize=15)\n",
    "    for j,filtered_dataset in enumerate([oag12_filtered1,oag12_filtered2]):\n",
    "        schedule_ac_slice = filtered_dataset.loc[filtered_dataset.ac_code_iata==ac]\n",
    "        sns.boxplot(y='gc_distance', data=schedule_ac_slice,ax=ax[j+1,i])\n",
    "        ax[j+1,i].set_ylim(ax[0,i].get_ylim())\n",
    "        ax[j+1,i].set_ylabel(None)\n",
    "ax[0,0].set_ylabel('GC Distance\\n(unfiltered)',fontsize=15)\n",
    "ax[1,0].set_ylabel('GC Distance \\n(filter pass 1',fontsize=15)\n",
    "ax[2,0].set_ylabel('GC Distance \\n(filter pass 2)',fontsize=15)\n",
    "plt.tight_layout()"
   ]
  },
  {
   "cell_type": "code",
   "execution_count": 187,
   "metadata": {
    "collapsed": true
   },
   "outputs": [],
   "source": [
    "oag12 = oag12_filtered2.reset_index(drop=True)"
   ]
  },
  {
   "cell_type": "code",
   "execution_count": 188,
   "metadata": {
    "collapsed": true
   },
   "outputs": [],
   "source": [
    "del oag12_filtered1, oag12_filtered2"
   ]
  },
  {
   "cell_type": "code",
   "execution_count": 189,
   "metadata": {},
   "outputs": [
    {
     "data": {
      "text/html": [
       "<div>\n",
       "<style scoped>\n",
       "    .dataframe tbody tr th:only-of-type {\n",
       "        vertical-align: middle;\n",
       "    }\n",
       "\n",
       "    .dataframe tbody tr th {\n",
       "        vertical-align: top;\n",
       "    }\n",
       "\n",
       "    .dataframe thead th {\n",
       "        text-align: right;\n",
       "    }\n",
       "</style>\n",
       "<table border=\"1\" class=\"dataframe\">\n",
       "  <thead>\n",
       "    <tr style=\"text-align: right;\">\n",
       "      <th></th>\n",
       "      <th>ac_code_iata</th>\n",
       "      <th>ac_name_oag</th>\n",
       "      <th>arr_ap_code</th>\n",
       "      <th>arr_ap_name</th>\n",
       "      <th>dep_ap_code</th>\n",
       "      <th>dep_ap_name</th>\n",
       "      <th>frequency_2012</th>\n",
       "      <th>gc_distance</th>\n",
       "      <th>fkm_2012</th>\n",
       "    </tr>\n",
       "  </thead>\n",
       "  <tbody>\n",
       "    <tr>\n",
       "      <th>0</th>\n",
       "      <td>100</td>\n",
       "      <td>Fokker 100</td>\n",
       "      <td>AGT</td>\n",
       "      <td>Ciudad del Este</td>\n",
       "      <td>ASU</td>\n",
       "      <td>Asuncion</td>\n",
       "      <td>176.0</td>\n",
       "      <td>303.201008</td>\n",
       "      <td>53363.377470</td>\n",
       "    </tr>\n",
       "    <tr>\n",
       "      <th>1</th>\n",
       "      <td>100</td>\n",
       "      <td>Fokker 100</td>\n",
       "      <td>AMS</td>\n",
       "      <td>Amsterdam</td>\n",
       "      <td>LUX</td>\n",
       "      <td>Luxembourg</td>\n",
       "      <td>1.0</td>\n",
       "      <td>314.611383</td>\n",
       "      <td>314.611383</td>\n",
       "    </tr>\n",
       "    <tr>\n",
       "      <th>2</th>\n",
       "      <td>100</td>\n",
       "      <td>Fokker 100</td>\n",
       "      <td>ASU</td>\n",
       "      <td>Asuncion</td>\n",
       "      <td>AGT</td>\n",
       "      <td>Ciudad del Este</td>\n",
       "      <td>225.0</td>\n",
       "      <td>303.201008</td>\n",
       "      <td>68220.226879</td>\n",
       "    </tr>\n",
       "    <tr>\n",
       "      <th>3</th>\n",
       "      <td>100</td>\n",
       "      <td>Fokker 100</td>\n",
       "      <td>BHX</td>\n",
       "      <td>Birmingham Airport</td>\n",
       "      <td>ZRH</td>\n",
       "      <td>Zurich Airport</td>\n",
       "      <td>668.0</td>\n",
       "      <td>921.176839</td>\n",
       "      <td>615346.128185</td>\n",
       "    </tr>\n",
       "    <tr>\n",
       "      <th>4</th>\n",
       "      <td>100</td>\n",
       "      <td>Fokker 100</td>\n",
       "      <td>BIO</td>\n",
       "      <td>Bilbao</td>\n",
       "      <td>LIS</td>\n",
       "      <td>Lisbon</td>\n",
       "      <td>1.0</td>\n",
       "      <td>723.541703</td>\n",
       "      <td>723.541703</td>\n",
       "    </tr>\n",
       "  </tbody>\n",
       "</table>\n",
       "</div>"
      ],
      "text/plain": [
       "  ac_code_iata ac_name_oag arr_ap_code         arr_ap_name dep_ap_code  \\\n",
       "0          100  Fokker 100         AGT     Ciudad del Este         ASU   \n",
       "1          100  Fokker 100         AMS           Amsterdam         LUX   \n",
       "2          100  Fokker 100         ASU            Asuncion         AGT   \n",
       "3          100  Fokker 100         BHX  Birmingham Airport         ZRH   \n",
       "4          100  Fokker 100         BIO              Bilbao         LIS   \n",
       "\n",
       "       dep_ap_name  frequency_2012  gc_distance       fkm_2012  \n",
       "0         Asuncion           176.0   303.201008   53363.377470  \n",
       "1       Luxembourg             1.0   314.611383     314.611383  \n",
       "2  Ciudad del Este           225.0   303.201008   68220.226879  \n",
       "3   Zurich Airport           668.0   921.176839  615346.128185  \n",
       "4           Lisbon             1.0   723.541703     723.541703  "
      ]
     },
     "metadata": {},
     "output_type": "display_data"
    },
    {
     "name": "stdout",
     "output_type": "stream",
     "text": [
      "This dataframe has 136547 observations.\n"
     ]
    }
   ],
   "source": [
    "preview(oag12)"
   ]
  },
  {
   "cell_type": "markdown",
   "metadata": {},
   "source": [
    "## (2012) Add airport country to OAG data"
   ]
  },
  {
   "cell_type": "code",
   "execution_count": 190,
   "metadata": {
    "scrolled": true
   },
   "outputs": [
    {
     "data": {
      "text/html": [
       "<div>\n",
       "<style scoped>\n",
       "    .dataframe tbody tr th:only-of-type {\n",
       "        vertical-align: middle;\n",
       "    }\n",
       "\n",
       "    .dataframe tbody tr th {\n",
       "        vertical-align: top;\n",
       "    }\n",
       "\n",
       "    .dataframe thead th {\n",
       "        text-align: right;\n",
       "    }\n",
       "</style>\n",
       "<table border=\"1\" class=\"dataframe\">\n",
       "  <thead>\n",
       "    <tr style=\"text-align: right;\">\n",
       "      <th></th>\n",
       "      <th>ap_code_iata</th>\n",
       "      <th>ap_code_icao</th>\n",
       "      <th>country_code</th>\n",
       "      <th>country_name</th>\n",
       "      <th>latitude</th>\n",
       "      <th>longitude</th>\n",
       "      <th>elev_ft</th>\n",
       "      <th>nrunways</th>\n",
       "      <th>longest_runway_ft</th>\n",
       "      <th>name</th>\n",
       "      <th>traffic_region</th>\n",
       "    </tr>\n",
       "  </thead>\n",
       "  <tbody>\n",
       "    <tr>\n",
       "      <th>0</th>\n",
       "      <td>ORD</td>\n",
       "      <td>KORD</td>\n",
       "      <td>US</td>\n",
       "      <td>United States</td>\n",
       "      <td>41.978056</td>\n",
       "      <td>-87.906111</td>\n",
       "      <td>672.0</td>\n",
       "      <td>7.0</td>\n",
       "      <td>13000.0</td>\n",
       "      <td>NaN</td>\n",
       "      <td>North America</td>\n",
       "    </tr>\n",
       "    <tr>\n",
       "      <th>1</th>\n",
       "      <td>ATL</td>\n",
       "      <td>KATL</td>\n",
       "      <td>US</td>\n",
       "      <td>United States</td>\n",
       "      <td>33.640833</td>\n",
       "      <td>-84.427222</td>\n",
       "      <td>1026.0</td>\n",
       "      <td>6.0</td>\n",
       "      <td>11890.0</td>\n",
       "      <td>NaN</td>\n",
       "      <td>North America</td>\n",
       "    </tr>\n",
       "    <tr>\n",
       "      <th>2</th>\n",
       "      <td>DFW</td>\n",
       "      <td>KDFW</td>\n",
       "      <td>US</td>\n",
       "      <td>United States</td>\n",
       "      <td>32.896389</td>\n",
       "      <td>-97.041111</td>\n",
       "      <td>607.0</td>\n",
       "      <td>8.0</td>\n",
       "      <td>13401.0</td>\n",
       "      <td>NaN</td>\n",
       "      <td>North America</td>\n",
       "    </tr>\n",
       "    <tr>\n",
       "      <th>3</th>\n",
       "      <td>LAX</td>\n",
       "      <td>KLAX</td>\n",
       "      <td>US</td>\n",
       "      <td>United States</td>\n",
       "      <td>33.942222</td>\n",
       "      <td>-118.407222</td>\n",
       "      <td>125.0</td>\n",
       "      <td>5.0</td>\n",
       "      <td>12091.0</td>\n",
       "      <td>NaN</td>\n",
       "      <td>North America</td>\n",
       "    </tr>\n",
       "    <tr>\n",
       "      <th>4</th>\n",
       "      <td>IAH</td>\n",
       "      <td>KIAH</td>\n",
       "      <td>US</td>\n",
       "      <td>United States</td>\n",
       "      <td>29.983333</td>\n",
       "      <td>-95.340000</td>\n",
       "      <td>97.0</td>\n",
       "      <td>5.0</td>\n",
       "      <td>12001.0</td>\n",
       "      <td>NaN</td>\n",
       "      <td>North America</td>\n",
       "    </tr>\n",
       "  </tbody>\n",
       "</table>\n",
       "</div>"
      ],
      "text/plain": [
       "  ap_code_iata ap_code_icao country_code   country_name   latitude  \\\n",
       "0          ORD         KORD           US  United States  41.978056   \n",
       "1          ATL         KATL           US  United States  33.640833   \n",
       "2          DFW         KDFW           US  United States  32.896389   \n",
       "3          LAX         KLAX           US  United States  33.942222   \n",
       "4          IAH         KIAH           US  United States  29.983333   \n",
       "\n",
       "    longitude  elev_ft  nrunways  longest_runway_ft name traffic_region  \n",
       "0  -87.906111    672.0       7.0            13000.0  NaN  North America  \n",
       "1  -84.427222   1026.0       6.0            11890.0  NaN  North America  \n",
       "2  -97.041111    607.0       8.0            13401.0  NaN  North America  \n",
       "3 -118.407222    125.0       5.0            12091.0  NaN  North America  \n",
       "4  -95.340000     97.0       5.0            12001.0  NaN  North America  "
      ]
     },
     "execution_count": 190,
     "metadata": {},
     "output_type": "execute_result"
    }
   ],
   "source": [
    "ap = pd.read_csv('../../../../Research/Aviation/Jupyter/datasets/airports.csv', index_col=0, na_values='', keep_default_na=False)\n",
    "ap = ap.rename(columns =  {'iata_code': 'ap_code_iata',\n",
    "                          'icao_code': 'ap_code_icao'}\n",
    "              )\n",
    "ap.head()"
   ]
  },
  {
   "cell_type": "code",
   "execution_count": 191,
   "metadata": {},
   "outputs": [
    {
     "data": {
      "text/plain": [
       "{'ATL': 'US', 'DFW': 'US', 'ORD': 'US'}"
      ]
     },
     "execution_count": 191,
     "metadata": {},
     "output_type": "execute_result"
    }
   ],
   "source": [
    "# Create an airport-country lookup dictionary\n",
    "ap_cty_lookup = ap.set_index('ap_code_iata').to_dict()['country_code']\n",
    "dict(list(ap_cty_lookup.items())[0:3]) # preview"
   ]
  },
  {
   "cell_type": "code",
   "execution_count": 192,
   "metadata": {
    "collapsed": true
   },
   "outputs": [],
   "source": [
    "oag12['arr_ap_cty'] = oag12['arr_ap_code'].replace(ap_cty_lookup)\n",
    "oag12['dep_ap_cty'] = oag12['dep_ap_code'].replace(ap_cty_lookup)"
   ]
  },
  {
   "cell_type": "markdown",
   "metadata": {},
   "source": [
    "### (2012) Merge ap country table with OAG table"
   ]
  },
  {
   "cell_type": "code",
   "execution_count": 193,
   "metadata": {},
   "outputs": [
    {
     "data": {
      "text/html": [
       "<div>\n",
       "<style scoped>\n",
       "    .dataframe tbody tr th:only-of-type {\n",
       "        vertical-align: middle;\n",
       "    }\n",
       "\n",
       "    .dataframe tbody tr th {\n",
       "        vertical-align: top;\n",
       "    }\n",
       "\n",
       "    .dataframe thead th {\n",
       "        text-align: right;\n",
       "    }\n",
       "</style>\n",
       "<table border=\"1\" class=\"dataframe\">\n",
       "  <thead>\n",
       "    <tr style=\"text-align: right;\">\n",
       "      <th></th>\n",
       "      <th>ac_code_iata</th>\n",
       "      <th>ac_name_oag</th>\n",
       "      <th>dep_ap_code</th>\n",
       "      <th>dep_ap_name</th>\n",
       "      <th>dep_ap_cty</th>\n",
       "      <th>arr_ap_code</th>\n",
       "      <th>arr_ap_name</th>\n",
       "      <th>arr_ap_cty</th>\n",
       "      <th>gc_distance</th>\n",
       "      <th>frequency_2012</th>\n",
       "      <th>fkm_2012</th>\n",
       "    </tr>\n",
       "  </thead>\n",
       "  <tbody>\n",
       "    <tr>\n",
       "      <th>0</th>\n",
       "      <td>100</td>\n",
       "      <td>Fokker 100</td>\n",
       "      <td>ASU</td>\n",
       "      <td>Asuncion</td>\n",
       "      <td>PY</td>\n",
       "      <td>AGT</td>\n",
       "      <td>Ciudad del Este</td>\n",
       "      <td>PY</td>\n",
       "      <td>303.201008</td>\n",
       "      <td>176.0</td>\n",
       "      <td>53363.377470</td>\n",
       "    </tr>\n",
       "    <tr>\n",
       "      <th>1</th>\n",
       "      <td>100</td>\n",
       "      <td>Fokker 100</td>\n",
       "      <td>LUX</td>\n",
       "      <td>Luxembourg</td>\n",
       "      <td>LU</td>\n",
       "      <td>AMS</td>\n",
       "      <td>Amsterdam</td>\n",
       "      <td>NL</td>\n",
       "      <td>314.611383</td>\n",
       "      <td>1.0</td>\n",
       "      <td>314.611383</td>\n",
       "    </tr>\n",
       "    <tr>\n",
       "      <th>2</th>\n",
       "      <td>100</td>\n",
       "      <td>Fokker 100</td>\n",
       "      <td>AGT</td>\n",
       "      <td>Ciudad del Este</td>\n",
       "      <td>PY</td>\n",
       "      <td>ASU</td>\n",
       "      <td>Asuncion</td>\n",
       "      <td>PY</td>\n",
       "      <td>303.201008</td>\n",
       "      <td>225.0</td>\n",
       "      <td>68220.226879</td>\n",
       "    </tr>\n",
       "    <tr>\n",
       "      <th>3</th>\n",
       "      <td>100</td>\n",
       "      <td>Fokker 100</td>\n",
       "      <td>ZRH</td>\n",
       "      <td>Zurich Airport</td>\n",
       "      <td>CH</td>\n",
       "      <td>BHX</td>\n",
       "      <td>Birmingham Airport</td>\n",
       "      <td>GB</td>\n",
       "      <td>921.176839</td>\n",
       "      <td>668.0</td>\n",
       "      <td>615346.128185</td>\n",
       "    </tr>\n",
       "    <tr>\n",
       "      <th>4</th>\n",
       "      <td>100</td>\n",
       "      <td>Fokker 100</td>\n",
       "      <td>LIS</td>\n",
       "      <td>Lisbon</td>\n",
       "      <td>PT</td>\n",
       "      <td>BIO</td>\n",
       "      <td>Bilbao</td>\n",
       "      <td>ES</td>\n",
       "      <td>723.541703</td>\n",
       "      <td>1.0</td>\n",
       "      <td>723.541703</td>\n",
       "    </tr>\n",
       "  </tbody>\n",
       "</table>\n",
       "</div>"
      ],
      "text/plain": [
       "  ac_code_iata ac_name_oag dep_ap_code      dep_ap_name dep_ap_cty  \\\n",
       "0          100  Fokker 100         ASU         Asuncion         PY   \n",
       "1          100  Fokker 100         LUX       Luxembourg         LU   \n",
       "2          100  Fokker 100         AGT  Ciudad del Este         PY   \n",
       "3          100  Fokker 100         ZRH   Zurich Airport         CH   \n",
       "4          100  Fokker 100         LIS           Lisbon         PT   \n",
       "\n",
       "  arr_ap_code         arr_ap_name arr_ap_cty  gc_distance  frequency_2012  \\\n",
       "0         AGT     Ciudad del Este         PY   303.201008           176.0   \n",
       "1         AMS           Amsterdam         NL   314.611383             1.0   \n",
       "2         ASU            Asuncion         PY   303.201008           225.0   \n",
       "3         BHX  Birmingham Airport         GB   921.176839           668.0   \n",
       "4         BIO              Bilbao         ES   723.541703             1.0   \n",
       "\n",
       "        fkm_2012  \n",
       "0   53363.377470  \n",
       "1     314.611383  \n",
       "2   68220.226879  \n",
       "3  615346.128185  \n",
       "4     723.541703  "
      ]
     },
     "execution_count": 193,
     "metadata": {},
     "output_type": "execute_result"
    }
   ],
   "source": [
    "# Resort columns\n",
    "col_names = ['ac_code_iata', 'ac_name_oag', 'dep_ap_code', 'dep_ap_name', 'dep_ap_cty', \n",
    "             'arr_ap_code','arr_ap_name', 'arr_ap_cty', 'gc_distance', 'frequency_2012', 'fkm_2012']\n",
    "oag12 = oag12[col_names]\n",
    "oag12.head()"
   ]
  },
  {
   "cell_type": "markdown",
   "metadata": {},
   "source": [
    "## (2012) Merge duplicate aircraft and airports (with slightly different ac/ap_names)"
   ]
  },
  {
   "cell_type": "code",
   "execution_count": 194,
   "metadata": {
    "collapsed": true
   },
   "outputs": [],
   "source": [
    "# For the sanity check (that we do not kill or clone any entries) we copy the inital data set.\n",
    "oag12_copy = oag12.copy()"
   ]
  },
  {
   "cell_type": "markdown",
   "metadata": {},
   "source": [
    "### (2012) Identical airccraft codes, differing aircraft names"
   ]
  },
  {
   "cell_type": "markdown",
   "metadata": {},
   "source": [
    "We observed that some aircraft have very similar but not identical names.\n",
    "We set a unique name for these aircraft:"
   ]
  },
  {
   "cell_type": "code",
   "execution_count": 195,
   "metadata": {
    "scrolled": true
   },
   "outputs": [
    {
     "data": {
      "text/plain": [
       "M83    False\n",
       "A26    False\n",
       "JST    False\n",
       "CNT    False\n",
       "CR1    False\n",
       "Name: ac_code_iata, dtype: bool"
      ]
     },
     "execution_count": 195,
     "metadata": {},
     "output_type": "execute_result"
    }
   ],
   "source": [
    "ac_name_test = oag12.groupby(['ac_code_iata', 'ac_name_oag']).count()\n",
    "ac_name_test = ac_name_test.reset_index()\n",
    "(ac_name_test['ac_code_iata'].value_counts() > 1).sort_values(ascending = False).head()"
   ]
  },
  {
   "cell_type": "code",
   "execution_count": 196,
   "metadata": {
    "collapsed": true
   },
   "outputs": [],
   "source": [
    "# Set common names for the same ac_code:\n",
    "oag12.at[(oag12['ac_code_iata'] == 'YK2'),'ac_name_oag'] = 'Yakovlev Yak-42/142' # different writing\n",
    "oag12.at[(oag12['ac_code_iata'] == 'CNF'),'ac_name_oag'] = 'Cessna 208B Caravan'# different writing\n",
    "oag12.at[(oag12['ac_code_iata'] == 'CS1'),'ac_name_oag'] = 'Airbus A220-100' # Bombardier CSeries transformed to A220\n",
    "oag12.at[(oag12['ac_code_iata'] == 'CS3'),'ac_name_oag'] = 'Airbus A220-300' # Bombardier CSeries transformed to A220"
   ]
  },
  {
   "cell_type": "markdown",
   "metadata": {},
   "source": [
    "Now that we set common names for the same ac_code, we will see duplicates for identical ap-pairs. We merge them."
   ]
  },
  {
   "cell_type": "code",
   "execution_count": 197,
   "metadata": {
    "collapsed": true
   },
   "outputs": [],
   "source": [
    "to_be_merged = oag12[oag12.duplicated(subset = ['ac_code_iata','dep_ap_code', 'arr_ap_code','dep_ap_name', 'arr_ap_name', 'gc_distance'], keep=False)].sort_index()\n",
    "grouped = to_be_merged.groupby(['ac_code_iata','dep_ap_code', 'arr_ap_code'])"
   ]
  },
  {
   "cell_type": "code",
   "execution_count": 198,
   "metadata": {
    "collapsed": true
   },
   "outputs": [],
   "source": [
    "for ac_group in grouped.groups.keys():\n",
    "    grouped.get_group(ac_group).index[0]\n",
    "    idx_first_entry = grouped.get_group(ac_group).index[0]\n",
    "    idx_other_entries = grouped.get_group(ac_group).index[1:]\n",
    "    freq_sum = grouped.get_group(ac_group).sum()['frequency_2012']\n",
    "    fkm_sum = grouped.get_group(ac_group).sum()['fkm_2012']\n",
    "\n",
    "    # We update the summed up freq and fkm and set it as new value for the 1st entry\n",
    "    oag12.at[idx_first_entry, 'frequency_2012'] = freq_sum\n",
    "    oag12.at[idx_first_entry, 'fkm_2012'] = fkm_sum\n",
    "    \n",
    "    # We delete all duplicated values except the first one (which is the one with the updated information)\n",
    "    oag12.drop_duplicates(subset=['ac_code_iata','dep_ap_code', 'arr_ap_code','dep_ap_name', 'arr_ap_name', 'gc_distance'], keep='first',inplace=True) "
   ]
  },
  {
   "cell_type": "code",
   "execution_count": 199,
   "metadata": {},
   "outputs": [
    {
     "name": "stdout",
     "output_type": "stream",
     "text": [
      "True\n",
      "True\n",
      "We came down from 136547 rows in the original data set to currently 136547 rows.\n"
     ]
    }
   ],
   "source": [
    "# Sanity check.\n",
    "print(oag12['fkm_2012'].sum() == oag12_copy['fkm_2012'].sum())\n",
    "print(oag12['frequency_2012'].sum() == oag12_copy['frequency_2012'].sum())\n",
    "print('We came down from {} rows in the original data set to currently {} rows.'.format(len(oag12_copy), len(oag12)))"
   ]
  },
  {
   "cell_type": "markdown",
   "metadata": {},
   "source": [
    "### (2012) Identical airport codes, differing airport names"
   ]
  },
  {
   "cell_type": "markdown",
   "metadata": {},
   "source": [
    "Now we check the duplicates for different airport names that have the same ap codes:"
   ]
  },
  {
   "cell_type": "code",
   "execution_count": 200,
   "metadata": {
    "collapsed": true
   },
   "outputs": [],
   "source": [
    "to_be_merged2 = oag12[oag12.duplicated(subset = ['dep_ap_code','arr_ap_code', 'ac_code_iata', 'gc_distance'], keep=False)].sort_values(by = ['ac_code_iata', 'dep_ap_code'])\n",
    "grouped2 = to_be_merged2.groupby(['dep_ap_code','arr_ap_code', 'ac_code_iata', 'gc_distance'])"
   ]
  },
  {
   "cell_type": "code",
   "execution_count": 201,
   "metadata": {},
   "outputs": [
    {
     "name": "stdout",
     "output_type": "stream",
     "text": [
      "('ACE', 'LPA', '73H', 207.0488169468724)\n",
      "('ACE', 'LPA', 'AT7', 207.0488169468724)\n",
      "('AGP', 'LPA', '320', 1409.1609257016387)\n",
      "('AGP', 'LPA', '738', 1409.1609257016387)\n",
      "('AGP', 'SEN', '319', 1706.7523380599496)\n",
      "('ALC', 'LPA', 'CR2', 1793.415378490029)\n",
      "('ALC', 'LPA', 'CR9', 1793.415378490029)\n",
      "('ALC', 'SEN', '319', 1480.8949163626623)\n",
      "('AMS', 'LPA', '738', 3182.790329848415)\n",
      "('AMS', 'SEN', '319', 290.90355921679316)\n",
      "('AOE', 'BRU', '320', 2359.5609332729164)\n",
      "('ARN', 'LPA', '73H', 4336.16499107287)\n",
      "('AVA', 'CAN', '319', 821.4451037437358)\n",
      "('AYT', 'ZQW', '73H', 2325.787330369996)\n",
      "('BCN', 'LPA', '320', 2175.721219948316)\n",
      "('BCN', 'LPA', '738', 2175.721219948316)\n",
      "('BCN', 'SEN', '319', 1146.7830571585584)\n",
      "('BFS', 'LPA', '757', 3062.405988303753)\n",
      "('BFS', 'SEN', '319', 574.7771701791759)\n",
      "('BGY', 'LPA', '738', 2957.145138200967)\n",
      "('BHX', 'LPA', '321', 2951.0128992025884)\n",
      "('BHX', 'LPA', '738', 2951.0128992025884)\n",
      "('BHX', 'LPA', '757', 2951.0128992025884)\n",
      "('BIO', 'LPA', '320', 2041.8140867071759)\n",
      "('BIO', 'LPA', '738', 2041.8140867071759)\n",
      "('BOH', 'LPA', '738', 2784.615721430503)\n",
      "('BPX', 'CTU', '319', 654.7408887521995)\n",
      "('BPX', 'LXA', '319', 613.1610798984598)\n",
      "('BRE', 'LPA', '738', 3425.7368821430823)\n",
      "('BRS', 'LPA', '738', 2814.8702667262114)\n",
      "('BRS', 'LPA', '757', 2814.8702667262114)\n",
      "('BRU', 'AOE', '320', 2359.5609332729164)\n",
      "('BRU', 'LPA', '738', 3050.900103662061)\n",
      "('BRU', 'LPA', '73H', 3050.900103662061)\n",
      "('BRU', 'LPA', '73W', 3050.900103662061)\n",
      "('BSL', 'LPA', '320', 2950.008761401038)\n",
      "('BSL', 'LPA', '73H', 2950.008761401038)\n",
      "('BSL', 'ZQW', '73H', 180.3226217553069)\n",
      "('BST', 'KBL', '737', 561.8224532558801)\n",
      "('BST', 'KBL', 'AN4', 561.8224532558801)\n",
      "('CAN', 'AVA', '319', 821.4451037437358)\n",
      "('CAN', 'DAX', '737', 1059.6676220497839)\n",
      "('CAN', 'DIG', '319', 1455.8700618454043)\n",
      "('CAN', 'DYG', '320', 722.8722580867744)\n",
      "('CAN', 'HYN', '320', 1018.9712790676747)\n",
      "('CAN', 'HYN', '737', 1018.9712790676747)\n",
      "('CAN', 'JJN', '320', 579.406112245035)\n",
      "('CAN', 'JJN', '737', 579.406112245035)\n",
      "('CAN', 'TXN', '319', 889.3455788164702)\n",
      "('CAN', 'TXN', '320', 889.3455788164702)\n",
      "('CAN', 'WXN', '737', 1296.9908346074958)\n",
      "('CGB', 'IGU', 'E75', 1109.1773386473376)\n",
      "('CGN', 'LPA', '319', 3174.4237084653028)\n",
      "('CGN', 'LPA', '738', 3174.4237084653028)\n",
      "('CGN', 'LPA', '73H', 3174.4237084653028)\n",
      "('CGO', 'DSN', '320', 625.6501892942123)\n",
      "('CGO', 'DSN', '733', 625.6501892942123)\n",
      "('CGO', 'DSN', '738', 625.6501892942123)\n",
      "('CKG', 'DSN', 'CR2', 1156.4329384277746)\n",
      "('CKG', 'HYN', '73G', 1467.7725100079485)\n",
      "('CKG', 'JJN', '737', 1313.8363145715955)\n",
      "('CKG', 'JZH', '319', 451.91473521652847)\n",
      "('CKG', 'JZH', '737', 451.91473521652847)\n",
      "('CKG', 'TXN', '738', 1149.8036318364368)\n",
      "('CNS', 'GOV', '717', 1088.6007237686117)\n",
      "('CRL', 'LPA', '738', 3012.1301198215892)\n",
      "('CRL', 'LPA', '73H', 3012.1301198215892)\n",
      "('CSX', 'DSN', '738', 1287.486297717576)\n",
      "('CSX', 'DYG', '320', 263.85329586174646)\n",
      "('CSX', 'DYG', '321', 263.85329586174646)\n",
      "('CSX', 'JJN', '737', 670.6981157773796)\n",
      "('CSX', 'LLF', '320', 246.60297144709133)\n",
      "('CTU', 'BPX', '319', 654.7408887521995)\n",
      "('CTU', 'DIG', '737', 525.5505754406109)\n",
      "('CTU', 'DSN', '319', 1114.9317056136586)\n",
      "('CTU', 'DSN', '320', 1114.9317056136586)\n",
      "('CTU', 'DYG', '319', 652.870114331924)\n",
      "('CTU', 'JZH', '319', 240.7739781319624)\n",
      "('CTU', 'JZH', '737', 240.7739781319624)\n",
      "('CTU', 'LUM', '319', 880.5322865226631)\n",
      "('CTU', 'LZY', '319', 938.4807719157053)\n",
      "('CTU', 'RKZ', '319', 1416.2218051941727)\n",
      "('CTU', 'TXN', '738', 1377.8760711842867)\n",
      "('CWB', 'IGU', '319', 542.5039209697574)\n",
      "('CWB', 'IGU', '320', 542.5039209697574)\n",
      "('CWB', 'IGU', '737', 542.5039209697574)\n",
      "('CWB', 'IGU', '738', 542.5039209697574)\n",
      "('CWB', 'IGU', '73G', 542.5039209697574)\n",
      "('CWB', 'IGU', 'E95', 542.5039209697574)\n",
      "('CZX', 'DYG', '320', 942.9350213355536)\n",
      "('DAX', 'CAN', '737', 1059.6676220497839)\n",
      "('DAX', 'PEK', '737', 1290.2957250861907)\n",
      "('DAX', 'PVG', '319', 1365.9402638990055)\n",
      "('DAX', 'SZX', '319', 1150.2439220589386)\n",
      "('DIG', 'CAN', '319', 1455.8700618454043)\n",
      "('DIG', 'CTU', '737', 525.5505754406109)\n",
      "('DIG', 'JHG', '737', 656.2621385526451)\n",
      "('DIG', 'KMG', '737', 436.2132348839573)\n",
      "('DIG', 'LXA', '737', 872.1264806428667)\n",
      "('DIL', 'DRW', 'E70', 725.8828067261418)\n",
      "('DIL', 'DRW', 'EM2', 725.8828067261418)\n",
      "('DIL', 'SIN', '319', 2628.517685956839)\n",
      "('DIL', 'SIN', '320', 2628.517685956839)\n",
      "('DRS', 'LPA', '738', 3547.883665415704)\n",
      "('DRW', 'DIL', 'E70', 725.8828067261418)\n",
      "('DRW', 'DIL', 'EM2', 725.8828067261418)\n",
      "('DRW', 'GOV', '717', 646.6747477722296)\n",
      "('DRW', 'GOV', 'EM2', 646.6747477722296)\n",
      "('DSN', 'CGO', '320', 625.6501892942123)\n",
      "('DSN', 'CGO', '733', 625.6501892942123)\n",
      "('DSN', 'CGO', '738', 625.6501892942123)\n",
      "('DSN', 'CKG', 'CR2', 1156.4329384277746)\n",
      "('DSN', 'CSX', '738', 1287.486297717576)\n",
      "('DSN', 'CTU', '319', 1114.9317056136586)\n",
      "('DSN', 'CTU', '320', 1114.9317056136586)\n",
      "('DSN', 'HET', 'ERJ', 211.08526029123757)\n",
      "('DSN', 'HGH', '320', 1373.3561145018318)\n",
      "('DSN', 'HRB', '733', 1541.9124273701088)\n",
      "('DSN', 'HRB', '738', 1541.9124273701088)\n",
      "('DSN', 'KMG', '733', 1745.2840062415744)\n",
      "('DSN', 'NAY', '738', 580.0367600943347)\n",
      "('DSN', 'NAY', '73G', 580.0367600943347)\n",
      "('DSN', 'PEK', '738', 577.725412675337)\n",
      "('DSN', 'PVG', '737', 1423.4815041529214)\n",
      "('DSN', 'SHE', '319', 1173.5386600361364)\n",
      "('DSN', 'SHE', '320', 1173.5386600361364)\n",
      "('DSN', 'SYX', '738', 2380.594841055808)\n",
      "('DSN', 'SZX', '320', 1922.2792223824144)\n",
      "('DSN', 'TGO', 'CR2', 1120.8582590133196)\n",
      "('DSN', 'TSN', 'CR7', 645.2040195188373)\n",
      "('DSN', 'TSN', 'E90', 645.2040195188373)\n",
      "('DSN', 'TYN', 'CR2', 297.9991406850816)\n",
      "('DSN', 'XIY', '320', 578.950761920004)\n",
      "('DSN', 'XIY', '737', 578.950761920004)\n",
      "('DUB', 'LPA', '320', 2932.6955480788306)\n",
      "('DUB', 'LPA', '738', 2932.6955480788306)\n",
      "('DUS', 'LPA', '320', 3188.290300126997)\n",
      "('DUS', 'LPA', '321', 3188.290300126997)\n",
      "('DUS', 'LPA', '333', 3188.290300126997)\n",
      "('DUS', 'LPA', '738', 3188.290300126997)\n",
      "('DUS', 'LPA', '73G', 3188.290300126997)\n",
      "('DUS', 'LPA', '73H', 3188.290300126997)\n",
      "('DYG', 'CAN', '320', 722.8722580867744)\n",
      "('DYG', 'CSX', '320', 263.85329586174646)\n",
      "('DYG', 'CSX', '321', 263.85329586174646)\n",
      "('DYG', 'CTU', '319', 652.870114331924)\n",
      "('DYG', 'CZX', '320', 942.9350213355536)\n",
      "('DYG', 'NKG', '320', 858.8499006061215)\n",
      "('DYG', 'PEK', '321', 1335.842354194953)\n",
      "('DYG', 'PEK', '738', 1335.842354194953)\n",
      "('DYG', 'PVG', '320', 1110.19101888719)\n",
      "('DYG', 'PVG', '738', 1110.19101888719)\n",
      "('DYG', 'SHA', '320', 1068.4213438446072)\n",
      "('DYG', 'SZX', '320', 808.3423168228106)\n",
      "('DYG', 'XIY', '319', 606.1090626090709)\n",
      "('EIN', 'LPA', '738', 3138.1244352363924)\n",
      "('EMA', 'LPA', '738', 3001.228317776219)\n",
      "('ERL', 'HET', 'ERJ', 290.6095662906851)\n",
      "('FAO', 'SEN', '319', 1756.5576402382453)\n",
      "('FKB', 'LPA', '738', 3073.519097069068)\n",
      "('FMO', 'LPA', '738', 3301.2363191405793)\n",
      "('FNC', 'LPA', 'DH4', 545.7186095215369)\n",
      "('FRA', 'LPA', '320', 3182.3382429303474)\n",
      "('FRA', 'LPA', '73H', 3182.3382429303474)\n",
      "('FRA', 'LPA', '75T', 3182.3382429303474)\n",
      "('FUE', 'LPA', '320', 159.76608176056092)\n",
      "('FUE', 'LPA', '321', 159.76608176056092)\n",
      "('FUE', 'LPA', '73G', 159.76608176056092)\n",
      "('FUE', 'LPA', '73H', 159.76608176056092)\n",
      "('FUE', 'LPA', 'AT7', 159.76608176056092)\n",
      "('FUE', 'ZQW', '73H', 2931.930958317183)\n",
      "('GIG', 'IGU', '320', 1189.0506631989574)\n",
      "('GIG', 'IGU', '737', 1189.0506631989574)\n",
      "('GIG', 'IGU', '738', 1189.0506631989574)\n",
      "('GLA', 'LPA', '757', 3227.361224608243)\n",
      "('GOV', 'CNS', '717', 1088.6007237686117)\n",
      "('GOV', 'DRW', '717', 646.6747477722296)\n",
      "('GOV', 'DRW', 'EM2', 646.6747477722296)\n",
      "('GOV', 'GTE', 'EM2', 193.21584386930573)\n",
      "('GPS', 'GYE', '320', 1169.5107288121271)\n",
      "('GRU', 'IGU', '320', 852.9923126752864)\n",
      "('GRU', 'IGU', '737', 852.9923126752864)\n",
      "('GRU', 'IGU', '738', 852.9923126752864)\n",
      "('GRU', 'JDF', 'AT4', 365.6838445542302)\n",
      "('GRU', 'JDF', 'AT7', 365.6838445542302)\n",
      "('GRX', 'LPA', 'CR9', 1495.204974940308)\n",
      "('GTE', 'GOV', 'EM2', 193.21584386930573)\n",
      "('GVA', 'LPA', '320', 2771.095877631627)\n",
      "('GYE', 'GPS', '320', 1169.5107288121271)\n",
      "('HAJ', 'LPA', '320', 3423.8144909302714)\n",
      "('HAJ', 'LPA', '738', 3423.8144909302714)\n",
      "('HAJ', 'LPA', '73H', 3423.8144909302714)\n",
      "('HAM', 'LPA', '320', 3528.5606738395354)\n",
      "('HAM', 'LPA', '738', 3528.5606738395354)\n",
      "('HAM', 'LPA', '73H', 3528.5606738395354)\n",
      "('HEL', 'LPA', '752', 4697.144177603685)\n",
      "('HEL', 'LPA', '75W', 4697.144177603685)\n",
      "('HER', 'ZQW', '73H', 2115.3417589020905)\n"
     ]
    },
    {
     "name": "stdout",
     "output_type": "stream",
     "text": [
      "('HET', 'DSN', 'ERJ', 211.08526029123757)\n",
      "('HET', 'ERL', 'ERJ', 290.6095662906851)\n",
      "('HFE', 'TXN', '320', 263.3938451360134)\n",
      "('HGH', 'DSN', '320', 1373.3561145018318)\n",
      "('HGH', 'JJN', '737', 621.5305139340263)\n",
      "('HGH', 'JJN', '738', 621.5305139340263)\n",
      "('HHN', 'LPA', '738', 3109.5953413708003)\n",
      "('HKG', 'JJN', '320', 556.5948125684162)\n",
      "('HKG', 'JJN', '737', 556.5948125684162)\n",
      "('HKG', 'JJN', '738', 556.5948125684162)\n",
      "('HRB', 'DSN', '733', 1541.9124273701088)\n",
      "('HRB', 'DSN', '738', 1541.9124273701088)\n",
      "('HSN', 'JJN', '320', 673.1751258323358)\n",
      "('HSN', 'JJN', '737', 673.1751258323358)\n",
      "('HYN', 'CAN', '320', 1018.9712790676747)\n",
      "('HYN', 'CAN', '737', 1018.9712790676747)\n",
      "('HYN', 'CKG', '73G', 1467.7725100079485)\n",
      "('HYN', 'KMG', '73G', 1896.0264337114288)\n",
      "('HYN', 'PEK', '733', 1352.1030993954505)\n",
      "('HYN', 'PEK', '737', 1352.1030993954505)\n",
      "('HYN', 'SHA', '737', 293.2300501874504)\n",
      "('HYN', 'SZX', '320', 1006.8877988625135)\n",
      "('HYN', 'SZX', '738', 1006.8877988625135)\n",
      "('HYN', 'TAO', '73G', 844.6362708831084)\n",
      "('HYN', 'WUH', '319', 730.6862465809519)\n",
      "('IBZ', 'SEN', '319', 1412.9110232641074)\n",
      "('ICN', 'TXN', '320', 1144.8862720107393)\n",
      "('ICN', 'TXN', '73H', 1144.8862720107393)\n",
      "('IGU', 'BSB', '319', 1278.4350052368784)\n",
      "('IGU', 'CGB', 'E75', 1109.1773386473376)\n",
      "('IGU', 'CWB', '319', 542.5039209697574)\n",
      "('IGU', 'CWB', '320', 542.5039209697574)\n",
      "('IGU', 'CWB', '737', 542.5039209697574)\n",
      "('IGU', 'CWB', '738', 542.5039209697574)\n",
      "('IGU', 'CWB', '73G', 542.5039209697574)\n",
      "('IGU', 'CWB', 'E95', 542.5039209697574)\n",
      "('IGU', 'GIG', '320', 1189.0506631989574)\n",
      "('IGU', 'GIG', '737', 1189.0506631989574)\n",
      "('IGU', 'GIG', '738', 1189.0506631989574)\n",
      "('IGU', 'GRU', '320', 852.9923126752864)\n",
      "('IGU', 'GRU', '737', 852.9923126752864)\n",
      "('IGU', 'GRU', '738', 852.9923126752864)\n",
      "('IGU', 'LIM', '319', 2799.976698968745)\n",
      "('IGU', 'MVD', 'CRJ', 1045.0497822000045)\n",
      "('IGU', 'POA', '737', 599.6896369692489)\n",
      "('IGU', 'POA', 'AT7', 599.6896369692489)\n",
      "('IGU', 'POA', 'E75', 599.6896369692489)\n",
      "('IGU', 'VCP', 'E90', 805.6789285746405)\n",
      "('IGU', 'VCP', 'E95', 805.6789285746405)\n",
      "('JDF', 'GRU', 'AT4', 365.6838445542302)\n",
      "('JDF', 'GRU', 'AT7', 365.6838445542302)\n",
      "('JDF', 'JDR', 'AT4', 117.0184478519479)\n",
      "('JDF', 'PLU', 'AT4', 223.52351984002485)\n",
      "('JDF', 'REZ', 'AT4', 136.09348792161296)\n",
      "('JDF', 'SDU', 'AT4', 126.48705200500505)\n",
      "('JDF', 'VAG', 'AT4', 216.74111740614245)\n",
      "('JDR', 'JDF', 'AT4', 117.0184478519479)\n",
      "('JER', 'SEN', '319', 333.86489993028823)\n",
      "('JHG', 'DIG', '737', 656.2621385526451)\n",
      "('JIC', 'LHW', 'ERJ', 306.98173029775495)\n",
      "('JJN', 'CAN', '320', 579.406112245035)\n",
      "('JJN', 'CAN', '737', 579.406112245035)\n",
      "('JJN', 'CKG', '737', 1313.8363145715955)\n",
      "('JJN', 'CSX', '737', 670.6981157773796)\n",
      "('JJN', 'HGH', '737', 621.5305139340263)\n",
      "('JJN', 'HGH', '738', 621.5305139340263)\n",
      "('JJN', 'HKG', '320', 556.5948125684162)\n",
      "('JJN', 'HKG', '737', 556.5948125684162)\n",
      "('JJN', 'HKG', '738', 556.5948125684162)\n",
      "('JJN', 'HSN', '320', 673.1751258323358)\n",
      "('JJN', 'HSN', '737', 673.1751258323358)\n",
      "('JJN', 'KHN', '737', 501.21285585656375)\n",
      "('JJN', 'KWE', '320', 1221.1025068147544)\n",
      "('JJN', 'MNL', '320', 1180.8180174957224)\n",
      "('JJN', 'NKG', '738', 791.0834060002298)\n",
      "('JJN', 'NNG', '738', 1068.3756526564032)\n",
      "('JJN', 'PEK', '733', 1696.9008263296932)\n",
      "('JJN', 'PEK', '737', 1696.9008263296932)\n",
      "('JJN', 'PVG', '320', 763.2685893559458)\n",
      "('JJN', 'SHA', '320', 751.6788456836749)\n",
      "('JJN', 'SHA', '737', 751.6788456836749)\n",
      "('JJN', 'SZX', '320', 542.7419137404876)\n",
      "('JJN', 'SZX', '737', 542.7419137404876)\n",
      "('JJN', 'WUH', '320', 766.3813884255667)\n",
      "('JJN', 'WUH', '737', 766.3813884255667)\n",
      "('JUZ', 'SZX', '320', 870.3103603992648)\n",
      "('JUZ', 'XMN', '738', 506.2746820161034)\n",
      "('JZH', 'CKG', '319', 451.91473521652847)\n",
      "('JZH', 'CKG', '737', 451.91473521652847)\n",
      "('JZH', 'CTU', '319', 240.7739781319624)\n",
      "('JZH', 'CTU', '737', 240.7739781319624)\n",
      "('JZH', 'PEK', '319', 1401.8596266870948)\n",
      "('JZH', 'PVG', '319', 1716.110187806175)\n",
      "('JZH', 'XIY', '319', 494.1347714927293)\n",
      "('KBL', 'BST', '737', 561.8224532558801)\n",
      "('KBL', 'BST', 'AN4', 561.8224532558801)\n",
      "('KBL', 'TII', 'AN4', 379.00850382349563)\n",
      "('KGS', 'ZQW', '73H', 2102.889879724398)\n",
      "('KHN', 'JJN', '737', 501.21285585656375)\n",
      "('KMG', 'DIG', '737', 436.2132348839573)\n",
      "('KMG', 'DSN', '733', 1745.2840062415744)\n",
      "('KMG', 'HYN', '73G', 1896.0264337114288)\n",
      "('KMG', 'LUM', '733', 429.37180800561373)\n",
      "('KMG', 'LUM', '737', 429.37180800561373)\n",
      "('KMG', 'LUM', '73G', 429.37180800561373)\n",
      "('KMG', 'WXN', '320', 661.8299458170939)\n",
      "('KWE', 'JJN', '320', 1221.1025068147544)\n",
      "('LEJ', 'LPA', '738', 3490.150598434351)\n",
      "('LGG', 'LPA', '73W', 3073.3222940224878)\n",
      "('LGW', 'LPA', '320', 2878.3245448957146)\n",
      "('LGW', 'LPA', '757', 2878.3245448957146)\n",
      "('LHW', 'JIC', 'ERJ', 306.98173029775495)\n",
      "('LIM', 'IGU', '319', 2799.976698968745)\n",
      "('LLF', 'CSX', '320', 246.60297144709133)\n",
      "('LNZ', 'LPA', '320', 3396.958745959043)\n",
      "('LPA', 'ACE', '738', 207.0488169468724)\n",
      "('LPA', 'ACE', '73H', 207.0488169468724)\n",
      "('LPA', 'ACE', 'AT7', 207.0488169468724)\n",
      "('LPA', 'AGP', '320', 1409.1609257016387)\n",
      "('LPA', 'AGP', '738', 1409.1609257016387)\n",
      "('LPA', 'ALC', 'CR2', 1793.415378490029)\n",
      "('LPA', 'ALC', 'CR9', 1793.415378490029)\n",
      "('LPA', 'AMS', '738', 3182.790329848415)\n",
      "('LPA', 'ARN', '73H', 4336.16499107287)\n",
      "('LPA', 'BCN', '320', 2175.721219948316)\n",
      "('LPA', 'BCN', '738', 2175.721219948316)\n",
      "('LPA', 'BFS', '757', 3062.405988303753)\n",
      "('LPA', 'BGY', '738', 2957.145138200967)\n",
      "('LPA', 'BHX', '321', 2951.0128992025884)\n",
      "('LPA', 'BHX', '738', 2951.0128992025884)\n",
      "('LPA', 'BHX', '757', 2951.0128992025884)\n",
      "('LPA', 'BIO', '320', 2041.8140867071759)\n",
      "('LPA', 'BIO', '738', 2041.8140867071759)\n",
      "('LPA', 'BOH', '738', 2784.615721430503)\n",
      "('LPA', 'BRE', '738', 3425.7368821430823)\n",
      "('LPA', 'BRS', '738', 2814.8702667262114)\n",
      "('LPA', 'BRS', '757', 2814.8702667262114)\n",
      "('LPA', 'BRU', '738', 3050.900103662061)\n",
      "('LPA', 'BRU', '73H', 3050.900103662061)\n",
      "('LPA', 'BRU', '73W', 3050.900103662061)\n",
      "('LPA', 'BSL', '320', 2950.008761401038)\n",
      "('LPA', 'BSL', '73H', 2950.008761401038)\n",
      "('LPA', 'CGN', '319', 3174.4237084653028)\n",
      "('LPA', 'CGN', '320', 3174.4237084653028)\n",
      "('LPA', 'CGN', '738', 3174.4237084653028)\n",
      "('LPA', 'CGN', '73H', 3174.4237084653028)\n",
      "('LPA', 'CRL', '738', 3012.1301198215892)\n",
      "('LPA', 'CRL', '73H', 3012.1301198215892)\n",
      "('LPA', 'DRS', '738', 3547.883665415704)\n",
      "('LPA', 'DUB', '320', 2932.6955480788306)\n",
      "('LPA', 'DUB', '738', 2932.6955480788306)\n",
      "('LPA', 'DUS', '320', 3188.290300126997)\n",
      "('LPA', 'DUS', '321', 3188.290300126997)\n",
      "('LPA', 'DUS', '333', 3188.290300126997)\n",
      "('LPA', 'DUS', '738', 3188.290300126997)\n",
      "('LPA', 'DUS', '73G', 3188.290300126997)\n",
      "('LPA', 'DUS', '73H', 3188.290300126997)\n",
      "('LPA', 'EIN', '738', 3138.1244352363924)\n",
      "('LPA', 'EMA', '738', 3001.228317776219)\n",
      "('LPA', 'FDH', '737', 3072.143160544625)\n",
      "('LPA', 'FKB', '738', 3073.519097069068)\n",
      "('LPA', 'FKB', '73H', 3073.519097069068)\n",
      "('LPA', 'FMO', '738', 3301.2363191405793)\n",
      "('LPA', 'FNC', 'DH4', 545.7186095215369)\n",
      "('LPA', 'FRA', '320', 3182.3382429303474)\n",
      "('LPA', 'FRA', '73H', 3182.3382429303474)\n",
      "('LPA', 'FRA', '75T', 3182.3382429303474)\n",
      "('LPA', 'FUE', '320', 159.76608176056092)\n",
      "('LPA', 'FUE', '73H', 159.76608176056092)\n",
      "('LPA', 'FUE', 'AT7', 159.76608176056092)\n",
      "('LPA', 'FUE', 'ATR', 159.76608176056092)\n",
      "('LPA', 'GLA', '757', 3227.361224608243)\n",
      "('LPA', 'GRX', 'CR9', 1495.204974940308)\n",
      "('LPA', 'GVA', '320', 2771.095877631627)\n",
      "('LPA', 'HAJ', '320', 3423.8144909302714)\n",
      "('LPA', 'HAJ', '738', 3423.8144909302714)\n",
      "('LPA', 'HAJ', '73H', 3423.8144909302714)\n",
      "('LPA', 'HAM', '320', 3528.5606738395354)\n",
      "('LPA', 'HAM', '738', 3528.5606738395354)\n",
      "('LPA', 'HAM', '73H', 3528.5606738395354)\n",
      "('LPA', 'HAM', '75T', 3528.5606738395354)\n",
      "('LPA', 'HEL', '752', 4697.144177603685)\n",
      "('LPA', 'HEL', '75W', 4697.144177603685)\n",
      "('LPA', 'HHN', '738', 3109.5953413708003)\n",
      "('LPA', 'LEJ', '738', 3490.150598434351)\n",
      "('LPA', 'LGW', '320', 2878.3245448957146)\n",
      "('LPA', 'LGW', '757', 2878.3245448957146)\n",
      "('LPA', 'LIS', '737', 1337.9453931336045)\n",
      "('LPA', 'LIS', '757', 1337.9453931336045)\n",
      "('LPA', 'LNZ', '320', 3396.958745959043)\n",
      "('LPA', 'LPL', '738', 3005.870162353687)\n",
      "('LPA', 'LTN', '738', 2941.0846489003475)\n",
      "('LPA', 'LUX', '73H', 3030.1938058755604)\n",
      "('LPA', 'LUX', '73W', 3030.1938058755604)\n",
      "('LPA', 'MAD', '320', 1764.7258110958228)\n",
      "('LPA', 'MAD', '321', 1764.7258110958228)\n",
      "('LPA', 'MAD', '332', 1764.7258110958228)\n",
      "('LPA', 'MAD', '738', 1764.7258110958228)\n"
     ]
    },
    {
     "name": "stdout",
     "output_type": "stream",
     "text": [
      "('LPA', 'MAN', '321', 3024.2110688808534)\n",
      "('LPA', 'MAN', '738', 3024.2110688808534)\n",
      "('LPA', 'MAN', '757', 3024.2110688808534)\n",
      "('LPA', 'MUC', '320', 3234.9600487273137)\n",
      "('LPA', 'MUC', '738', 3234.9600487273137)\n",
      "('LPA', 'MUC', '73H', 3234.9600487273137)\n",
      "('LPA', 'NCL', '757', 3209.518121758892)\n",
      "('LPA', 'NRN', '738', 3185.946786725833)\n",
      "('LPA', 'NUE', '319', 3286.7442885869273)\n",
      "('LPA', 'NUE', '320', 3286.7442885869273)\n",
      "('LPA', 'NUE', '321', 3286.7442885869273)\n",
      "('LPA', 'NUE', '333', 3286.7442885869273)\n",
      "('LPA', 'NUE', '73G', 3286.7442885869273)\n",
      "('LPA', 'OSL', '738', 4104.931740731002)\n",
      "('LPA', 'OSL', '73H', 4104.931740731002)\n",
      "('LPA', 'OSL', '73W', 4104.931740731002)\n",
      "('LPA', 'PAD', '320', 3305.7618266479158)\n",
      "('LPA', 'PAD', '738', 3305.7618266479158)\n",
      "('LPA', 'PIK', '738', 3185.788895571392)\n",
      "('LPA', 'PRG', '738', 3511.947972750613)\n",
      "('LPA', 'PSA', '738', 2889.7325614807082)\n",
      "('LPA', 'SCQ', '738', 1777.9709372462412)\n",
      "('LPA', 'SCQ', 'CR9', 1777.9709372462412)\n",
      "('LPA', 'SPC', 'AT7', 244.47653471462726)\n",
      "('LPA', 'SPC', 'ATR', 244.47653471462726)\n",
      "('LPA', 'STN', '738', 2963.389927652541)\n",
      "('LPA', 'STR', '319', 3123.782753659739)\n",
      "('LPA', 'STR', '320', 3123.782753659739)\n",
      "('LPA', 'STR', '738', 3123.782753659739)\n",
      "('LPA', 'STR', '73G', 3123.782753659739)\n",
      "('LPA', 'STR', '73H', 3123.782753659739)\n",
      "('LPA', 'SVQ', '320', 1376.8320996775149)\n",
      "('LPA', 'SVQ', '738', 1376.8320996775149)\n",
      "('LPA', 'SVQ', 'E90', 1376.8320996775149)\n",
      "('LPA', 'SZG', '320', 3295.9575582130137)\n",
      "('LPA', 'TFN', 'AT7', 110.7340849109397)\n",
      "('LPA', 'TFN', 'ATR', 110.7340849109397)\n",
      "('LPA', 'TFS', '320', 117.22361706376174)\n",
      "('LPA', 'TFS', '321', 117.22361706376174)\n",
      "('LPA', 'TFS', '738', 117.22361706376174)\n",
      "('LPA', 'TFS', '73H', 117.22361706376174)\n",
      "('LPA', 'TFS', '73W', 117.22361706376174)\n",
      "('LPA', 'TFS', '75T', 117.22361706376174)\n",
      "('LPA', 'TFS', 'AT7', 117.22361706376174)\n",
      "('LPA', 'TXL', '319', 3616.666251812676)\n",
      "('LPA', 'TXL', '320', 3616.666251812676)\n",
      "('LPA', 'TXL', '321', 3616.666251812676)\n",
      "('LPA', 'TXL', '738', 3616.666251812676)\n",
      "('LPA', 'VDE', 'AT7', 246.4421259772518)\n",
      "('LPA', 'VIE', '320', 3543.172141846847)\n",
      "('LPA', 'VIE', '321', 3543.172141846847)\n",
      "('LPA', 'VLC', '738', 1879.571837117124)\n",
      "('LPA', 'VLC', 'CR2', 1879.571837117124)\n",
      "('LPA', 'VLC', 'CR9', 1879.571837117124)\n",
      "('LPA', 'ZAZ', '738', 2006.0040934922895)\n",
      "('LPA', 'ZQW', '73H', 3060.8124312356567)\n",
      "('LPA', 'ZRH', '320', 3000.696905122987)\n",
      "('LPL', 'LPA', '738', 3005.870162353687)\n",
      "('LTN', 'LPA', '738', 2941.0846489003475)\n",
      "('LUM', 'CTU', '319', 880.5322865226631)\n",
      "('LUM', 'KMG', '733', 429.37180800561373)\n",
      "('LUM', 'KMG', '737', 429.37180800561373)\n",
      "('LUM', 'KMG', '73G', 429.37180800561373)\n",
      "('LUM', 'MDL', '737', 370.54299579469057)\n",
      "('LUM', 'PEK', '737', 2421.759243031079)\n",
      "('LUX', 'LPA', '73W', 3030.1938058755604)\n",
      "('LXA', 'BPX', '319', 613.1610798984598)\n",
      "('LXA', 'DIG', '737', 872.1264806428667)\n",
      "('LZY', 'CTU', '319', 938.4807719157053)\n",
      "('MAD', 'LPA', '320', 1764.7258110958228)\n",
      "('MAD', 'LPA', '321', 1764.7258110958228)\n",
      "('MAD', 'LPA', '332', 1764.7258110958228)\n",
      "('MAD', 'LPA', '738', 1764.7258110958228)\n",
      "('MAN', 'LPA', '321', 3024.2110688808534)\n",
      "('MAN', 'LPA', '738', 3024.2110688808534)\n",
      "('MAN', 'LPA', '757', 3024.2110688808534)\n",
      "('MDL', 'LUM', '737', 370.54299579469057)\n",
      "('MNL', 'JJN', '320', 1180.8180174957224)\n",
      "('MUC', 'LPA', '320', 3234.9600487273137)\n",
      "('MUC', 'LPA', '738', 3234.9600487273137)\n",
      "('MUC', 'LPA', '73H', 3234.9600487273137)\n",
      "('MUC', 'ZQW', '73H', 337.54222601915853)\n",
      "('MVD', 'IGU', 'CRJ', 1045.0497822000045)\n",
      "('NAY', 'DSN', '738', 580.0367600943347)\n",
      "('NAY', 'DSN', '73G', 580.0367600943347)\n",
      "('NCL', 'LPA', '757', 3209.518121758892)\n",
      "('NKG', 'DYG', '320', 858.8499006061215)\n",
      "('NKG', 'JJN', '738', 791.0834060002298)\n",
      "('NKG', 'WXN', 'EMB', 1459.5170256049732)\n",
      "('NNG', 'JJN', '738', 1068.3756526564032)\n",
      "('NRN', 'LPA', '738', 3185.946786725833)\n",
      "('NUE', 'LPA', '319', 3286.7442885869273)\n",
      "('NUE', 'LPA', '320', 3286.7442885869273)\n",
      "('NUE', 'LPA', '321', 3286.7442885869273)\n",
      "('OSL', 'LPA', '738', 4104.931740731002)\n",
      "('OSL', 'LPA', '73H', 4104.931740731002)\n",
      "('OSL', 'LPA', '73W', 4104.931740731002)\n",
      "('PAD', 'LPA', '320', 3305.7618266479158)\n",
      "('PAD', 'LPA', '738', 3305.7618266479158)\n",
      "('PEK', 'DAX', '737', 1290.2957250861907)\n",
      "('PEK', 'DSN', '738', 577.725412675337)\n",
      "('PEK', 'DYG', '321', 1335.842354194953)\n",
      "('PEK', 'DYG', '738', 1335.842354194953)\n",
      "('PEK', 'HYN', '733', 1352.1030993954505)\n",
      "('PEK', 'HYN', '737', 1352.1030993954505)\n",
      "('PEK', 'JJN', '733', 1696.9008263296932)\n",
      "('PEK', 'JJN', '737', 1696.9008263296932)\n",
      "('PEK', 'LUM', '737', 2421.759243031079)\n",
      "('PEK', 'TXN', '738', 1157.198767180418)\n",
      "('PEK', 'WXN', '320', 1560.863412875346)\n",
      "('PIK', 'LPA', '738', 3185.788895571392)\n",
      "('PLU', 'JDF', 'AT4', 223.52351984002485)\n",
      "('PMI', 'SEN', '319', 1345.5105188487207)\n",
      "('PMI', 'ZQW', '320', 1135.507832686306)\n",
      "('PMI', 'ZQW', '738', 1135.507832686306)\n",
      "('PMI', 'ZQW', '73H', 1135.507832686306)\n",
      "('POA', 'IGU', '737', 599.6896369692489)\n",
      "('POA', 'IGU', 'AT7', 599.6896369692489)\n",
      "('POA', 'IGU', 'E75', 599.6896369692489)\n",
      "('PRG', 'LPA', '738', 3511.947972750613)\n",
      "('PSA', 'LPA', '738', 2889.7325614807082)\n",
      "('PVG', 'DAX', '319', 1365.9402638990055)\n",
      "('PVG', 'DSN', '737', 1423.4815041529214)\n",
      "('PVG', 'DYG', '320', 1110.19101888719)\n",
      "('PVG', 'DYG', '738', 1110.19101888719)\n",
      "('PVG', 'JJN', '320', 763.2685893559458)\n",
      "('PVG', 'JZH', '319', 1716.110187806175)\n",
      "('PVG', 'WXN', '737', 1744.3951150439852)\n",
      "('RAI', 'LPA', '737', 1670.957527037894)\n",
      "('RAI', 'LPA', '757', 1670.957527037894)\n",
      "('REZ', 'JDF', 'AT4', 136.09348792161296)\n",
      "('RHO', 'ZQW', '73H', 2198.5954562663665)\n",
      "('RKZ', 'CTU', '319', 1416.2218051941727)\n",
      "('SAW', 'ZQW', '738', 1943.3175771137626)\n",
      "('SCQ', 'LPA', '738', 1777.9709372462412)\n",
      "('SCQ', 'LPA', 'CR9', 1777.9709372462412)\n",
      "('SDU', 'JDF', 'AT4', 126.48705200500505)\n",
      "('SEN', 'AGP', '319', 1706.7523380599496)\n",
      "('SEN', 'ALC', '319', 1480.8949163626623)\n",
      "('SEN', 'AMS', '319', 290.90355921679316)\n",
      "('SEN', 'BCN', '319', 1146.7830571585584)\n",
      "('SEN', 'BFS', '319', 574.7771701791759)\n",
      "('SEN', 'DUB', 'AT4', 513.5206005309919)\n",
      "('SEN', 'FAO', '319', 1756.5576402382453)\n",
      "('SEN', 'IBZ', '319', 1412.9110232641074)\n",
      "('SEN', 'JER', '319', 333.86489993028823)\n",
      "('SEN', 'PMI', '319', 1345.5105188487207)\n",
      "('SEN', 'WAT', 'AT4', 538.3185248258743)\n",
      "('SHA', 'HYN', '737', 293.2300501874504)\n",
      "('SHA', 'JJN', '320', 751.6788456836749)\n",
      "('SHA', 'JJN', '737', 751.6788456836749)\n",
      "('SHA', 'TXN', '738', 337.1578038509764)\n",
      "('SHE', 'DSN', '319', 1173.5386600361364)\n",
      "('SHE', 'DSN', '320', 1173.5386600361364)\n",
      "('SIN', 'DIL', '319', 2628.517685956839)\n",
      "('SIN', 'DIL', '320', 2628.517685956839)\n",
      "('SPC', 'LPA', '737', 244.47653471462726)\n",
      "('SPC', 'LPA', '738', 244.47653471462726)\n",
      "('SPC', 'LPA', 'AT7', 244.47653471462726)\n",
      "('STN', 'LPA', '738', 2963.389927652541)\n",
      "('STR', 'LPA', '319', 3123.782753659739)\n",
      "('STR', 'LPA', '320', 3123.782753659739)\n",
      "('STR', 'LPA', '738', 3123.782753659739)\n",
      "('STR', 'LPA', '73G', 3123.782753659739)\n",
      "('STR', 'LPA', '73H', 3123.782753659739)\n",
      "('STR', 'LPA', '75T', 3123.782753659739)\n",
      "('SVQ', 'LPA', '320', 1376.8320996775149)\n",
      "('SVQ', 'LPA', '738', 1376.8320996775149)\n",
      "('SVQ', 'LPA', 'E90', 1376.8320996775149)\n",
      "('SYX', 'DSN', '738', 2380.594841055808)\n",
      "('SZG', 'LPA', '320', 3295.9575582130137)\n",
      "('SZX', 'DAX', '319', 1150.2439220589386)\n",
      "('SZX', 'DSN', '320', 1922.2792223824144)\n",
      "('SZX', 'DYG', '320', 808.3423168228106)\n",
      "('SZX', 'HYN', '320', 1006.8877988625135)\n",
      "('SZX', 'HYN', '738', 1006.8877988625135)\n",
      "('SZX', 'JJN', '320', 542.7419137404876)\n",
      "('SZX', 'JJN', '737', 542.7419137404876)\n",
      "('SZX', 'JUZ', '320', 870.3103603992648)\n",
      "('SZX', 'TXN', '320', 908.3939882006945)\n",
      "('TAO', 'HYN', '73G', 844.6362708831084)\n",
      "('TFN', 'LPA', 'AT7', 110.7340849109397)\n",
      "('TFN', 'LPA', 'ATR', 110.7340849109397)\n",
      "('TFS', 'LPA', '320', 117.22361706376174)\n",
      "('TFS', 'LPA', '738', 117.22361706376174)\n",
      "('TFS', 'LPA', '73H', 117.22361706376174)\n",
      "('TFS', 'LPA', '73W', 117.22361706376174)\n",
      "('TFS', 'LPA', 'AT7', 117.22361706376174)\n",
      "('TFS', 'ZQW', '73H', 3115.423820368761)\n",
      "('TGO', 'DSN', 'CR2', 1120.8582590133196)\n",
      "('TII', 'KBL', 'AN4', 379.00850382349563)\n",
      "('TPE', 'TXN', 'M90', 594.9138490948757)\n",
      "('TSN', 'DSN', 'CR7', 645.2040195188373)\n",
      "('TSN', 'DSN', 'E90', 645.2040195188373)\n",
      "('TXL', 'LPA', '319', 3616.666251812676)\n",
      "('TXL', 'LPA', '320', 3616.666251812676)\n",
      "('TXL', 'LPA', '321', 3616.666251812676)\n",
      "('TXL', 'LPA', '738', 3616.666251812676)\n",
      "('TXN', 'CAN', '319', 889.3455788164702)\n",
      "('TXN', 'CAN', '320', 889.3455788164702)\n"
     ]
    },
    {
     "name": "stdout",
     "output_type": "stream",
     "text": [
      "('TXN', 'CKG', '738', 1149.8036318364368)\n",
      "('TXN', 'CTU', '738', 1377.8760711842867)\n",
      "('TXN', 'HFE', '320', 263.3938451360134)\n",
      "('TXN', 'ICN', '320', 1144.8862720107393)\n",
      "('TXN', 'ICN', '73H', 1144.8862720107393)\n",
      "('TXN', 'PEK', '738', 1157.198767180418)\n",
      "('TXN', 'SHA', '738', 337.1578038509764)\n",
      "('TXN', 'SZX', '320', 908.3939882006945)\n",
      "('TXN', 'TPE', 'M90', 594.9138490948757)\n",
      "('TXN', 'XIY', '319', 1036.8584595549698)\n",
      "('TXN', 'XMN', '319', 585.7858307548282)\n",
      "('TYN', 'DSN', 'CR2', 297.9991406850816)\n",
      "('VAG', 'JDF', 'AT4', 216.74111740614245)\n",
      "('VCP', 'IGU', 'E90', 805.6789285746405)\n",
      "('VCP', 'IGU', 'E95', 805.6789285746405)\n",
      "('VDE', 'LPA', 'AT7', 246.4421259772518)\n",
      "('VIE', 'LPA', '320', 3543.172141846847)\n",
      "('VIE', 'LPA', '321', 3543.172141846847)\n",
      "('VLC', 'LPA', '738', 1879.571837117124)\n",
      "('VLC', 'LPA', 'CR9', 1879.571837117124)\n",
      "('WAT', 'SEN', 'AT4', 538.3185248258743)\n",
      "('WUH', 'HYN', '319', 730.6862465809519)\n",
      "('WUH', 'JJN', '320', 766.3813884255667)\n",
      "('WUH', 'JJN', '737', 766.3813884255667)\n",
      "('WXN', 'CAN', '737', 1296.9908346074958)\n",
      "('WXN', 'KMG', '320', 661.8299458170939)\n",
      "('WXN', 'NKG', 'EMB', 1459.5170256049732)\n",
      "('WXN', 'PEK', '320', 1560.863412875346)\n",
      "('WXN', 'PVG', '737', 1744.3951150439852)\n",
      "('WXN', 'XIY', '737', 623.3271143968387)\n",
      "('WXN', 'XMN', '737', 1608.159692578669)\n",
      "('XIY', 'DSN', '320', 578.950761920004)\n",
      "('XIY', 'DSN', '737', 578.950761920004)\n",
      "('XIY', 'DYG', '319', 606.1090626090709)\n",
      "('XIY', 'JZH', '319', 494.1347714927293)\n",
      "('XIY', 'TXN', '319', 1036.8584595549698)\n",
      "('XIY', 'WXN', '737', 623.3271143968387)\n",
      "('XMN', 'JUZ', '738', 506.2746820161034)\n",
      "('XMN', 'TXN', '319', 585.7858307548282)\n",
      "('XMN', 'WXN', '737', 1608.159692578669)\n",
      "('ZQW', 'AYT', '73H', 2325.787330369996)\n",
      "('ZQW', 'BSL', '73H', 180.3226217553069)\n",
      "('ZQW', 'FUE', '73H', 2931.930958317183)\n",
      "('ZQW', 'HER', '73H', 2115.3417589020905)\n",
      "('ZQW', 'KGS', '73H', 2102.889879724398)\n",
      "('ZQW', 'LPA', '73H', 3060.8124312356567)\n",
      "('ZQW', 'PMI', '320', 1135.507832686306)\n",
      "('ZQW', 'PMI', '738', 1135.507832686306)\n",
      "('ZQW', 'PMI', '73H', 1135.507832686306)\n",
      "('ZQW', 'RHO', '73H', 2198.5954562663665)\n",
      "('ZQW', 'SAW', '738', 1943.3175771137626)\n",
      "('ZQW', 'TFS', '73H', 3115.423820368761)\n",
      "('ZRH', 'LPA', '320', 3000.696905122987)\n"
     ]
    }
   ],
   "source": [
    "for ac_group in grouped2.groups.keys():\n",
    "    grouped2.get_group(ac_group).index[0]\n",
    "    idx_first_entry = grouped2.get_group(ac_group).index[0]\n",
    "    idx_other_entries = grouped2.get_group(ac_group).index[1:]\n",
    "    freq_sum = grouped2.get_group(ac_group).sum()['frequency_2012']\n",
    "    fkm_sum = grouped2.get_group(ac_group).sum()['fkm_2012']\n",
    "    \n",
    "    # We update the summed up freq and fkm and set it as new value for the 1st entry\n",
    "    oag12.at[idx_first_entry, 'frequency_2012'] = freq_sum\n",
    "    oag12.at[idx_first_entry, 'fkm_2012'] = fkm_sum\n",
    "    \n",
    "    # We delete all duplicated values except the first one (which is the one with the updated information)\n",
    "    oag12.drop_duplicates(subset=['dep_ap_code','arr_ap_code', 'ac_code_iata', 'gc_distance'], keep='first',inplace=True) "
   ]
  },
  {
   "cell_type": "code",
   "execution_count": 202,
   "metadata": {},
   "outputs": [
    {
     "name": "stdout",
     "output_type": "stream",
     "text": [
      "True\n",
      "True\n",
      "We came down from 136547 rows in the original data set to currently 135894 rows.\n"
     ]
    }
   ],
   "source": [
    "# Sanity check.\n",
    "print(oag12['fkm_2012'].sum() == oag12_copy['fkm_2012'].sum())\n",
    "print(oag12['frequency_2012'].sum() == oag12_copy['frequency_2012'].sum())\n",
    "print('We came down from {} rows in the original data set to currently {} rows.'.format(len(oag12_copy), len(oag12)))"
   ]
  },
  {
   "cell_type": "markdown",
   "metadata": {},
   "source": [
    "The first sanity check is false, but only for a rounding error reason:"
   ]
  },
  {
   "cell_type": "code",
   "execution_count": 203,
   "metadata": {},
   "outputs": [
    {
     "data": {
      "text/plain": [
       "0.0"
      ]
     },
     "execution_count": 203,
     "metadata": {},
     "output_type": "execute_result"
    }
   ],
   "source": [
    "oag12['fkm_2012'].sum() - oag12_copy['fkm_2012'].sum()"
   ]
  },
  {
   "cell_type": "markdown",
   "metadata": {},
   "source": [
    "## (2012) Upload data"
   ]
  },
  {
   "cell_type": "markdown",
   "metadata": {},
   "source": [
    "Final info on the data set:"
   ]
  },
  {
   "cell_type": "code",
   "execution_count": 204,
   "metadata": {
    "scrolled": true
   },
   "outputs": [
    {
     "name": "stdout",
     "output_type": "stream",
     "text": [
      "<class 'pandas.core.frame.DataFrame'>\n",
      "Int64Index: 135894 entries, 0 to 136546\n",
      "Data columns (total 11 columns):\n",
      "ac_code_iata      135894 non-null object\n",
      "ac_name_oag       135894 non-null object\n",
      "dep_ap_code       135894 non-null object\n",
      "dep_ap_name       135894 non-null object\n",
      "dep_ap_cty        135894 non-null object\n",
      "arr_ap_code       135894 non-null object\n",
      "arr_ap_name       135894 non-null object\n",
      "arr_ap_cty        135894 non-null object\n",
      "gc_distance       135894 non-null float64\n",
      "frequency_2012    135894 non-null float64\n",
      "fkm_2012          135894 non-null float64\n",
      "dtypes: float64(3), object(8)\n",
      "memory usage: 12.4+ MB\n"
     ]
    }
   ],
   "source": [
    "oag12.info()"
   ]
  },
  {
   "cell_type": "code",
   "execution_count": 205,
   "metadata": {},
   "outputs": [
    {
     "name": "stdout",
     "output_type": "stream",
     "text": [
      "Maximum string length in ac_code_iata column: 3\n",
      "Maximum string length in ac_name_oag column: 39\n",
      "Maximum string length in dep_ap_code column: 3\n",
      "Maximum string length in dep_ap_name column: 39\n",
      "Maximum string length in dep_ap_cty column: 2\n",
      "Maximum string length in arr_ap_code column: 3\n"
     ]
    }
   ],
   "source": [
    "for col in oag12.columns[:6]:\n",
    "    print(\"Maximum string length in \"+col+\" column: \"+str(oag12[col].apply(len).max()))"
   ]
  },
  {
   "cell_type": "code",
   "execution_count": 206,
   "metadata": {},
   "outputs": [
    {
     "data": {
      "text/html": [
       "<div>\n",
       "<style scoped>\n",
       "    .dataframe tbody tr th:only-of-type {\n",
       "        vertical-align: middle;\n",
       "    }\n",
       "\n",
       "    .dataframe tbody tr th {\n",
       "        vertical-align: top;\n",
       "    }\n",
       "\n",
       "    .dataframe thead th {\n",
       "        text-align: right;\n",
       "    }\n",
       "</style>\n",
       "<table border=\"1\" class=\"dataframe\">\n",
       "  <thead>\n",
       "    <tr style=\"text-align: right;\">\n",
       "      <th></th>\n",
       "      <th>ac_code_iata</th>\n",
       "      <th>ac_name_oag</th>\n",
       "      <th>dep_ap_code</th>\n",
       "      <th>dep_ap_name</th>\n",
       "      <th>dep_ap_cty</th>\n",
       "      <th>arr_ap_code</th>\n",
       "      <th>arr_ap_name</th>\n",
       "      <th>arr_ap_cty</th>\n",
       "      <th>gc_distance</th>\n",
       "      <th>frequency_2012</th>\n",
       "      <th>fkm_2012</th>\n",
       "    </tr>\n",
       "  </thead>\n",
       "  <tbody>\n",
       "    <tr>\n",
       "      <th>0</th>\n",
       "      <td>100</td>\n",
       "      <td>Fokker 100</td>\n",
       "      <td>ASU</td>\n",
       "      <td>Asuncion</td>\n",
       "      <td>PY</td>\n",
       "      <td>AGT</td>\n",
       "      <td>Ciudad del Este</td>\n",
       "      <td>PY</td>\n",
       "      <td>303.201008</td>\n",
       "      <td>176.0</td>\n",
       "      <td>53363.377470</td>\n",
       "    </tr>\n",
       "    <tr>\n",
       "      <th>1</th>\n",
       "      <td>100</td>\n",
       "      <td>Fokker 100</td>\n",
       "      <td>LUX</td>\n",
       "      <td>Luxembourg</td>\n",
       "      <td>LU</td>\n",
       "      <td>AMS</td>\n",
       "      <td>Amsterdam</td>\n",
       "      <td>NL</td>\n",
       "      <td>314.611383</td>\n",
       "      <td>1.0</td>\n",
       "      <td>314.611383</td>\n",
       "    </tr>\n",
       "    <tr>\n",
       "      <th>2</th>\n",
       "      <td>100</td>\n",
       "      <td>Fokker 100</td>\n",
       "      <td>AGT</td>\n",
       "      <td>Ciudad del Este</td>\n",
       "      <td>PY</td>\n",
       "      <td>ASU</td>\n",
       "      <td>Asuncion</td>\n",
       "      <td>PY</td>\n",
       "      <td>303.201008</td>\n",
       "      <td>225.0</td>\n",
       "      <td>68220.226879</td>\n",
       "    </tr>\n",
       "    <tr>\n",
       "      <th>3</th>\n",
       "      <td>100</td>\n",
       "      <td>Fokker 100</td>\n",
       "      <td>ZRH</td>\n",
       "      <td>Zurich Airport</td>\n",
       "      <td>CH</td>\n",
       "      <td>BHX</td>\n",
       "      <td>Birmingham Airport</td>\n",
       "      <td>GB</td>\n",
       "      <td>921.176839</td>\n",
       "      <td>668.0</td>\n",
       "      <td>615346.128185</td>\n",
       "    </tr>\n",
       "    <tr>\n",
       "      <th>4</th>\n",
       "      <td>100</td>\n",
       "      <td>Fokker 100</td>\n",
       "      <td>LIS</td>\n",
       "      <td>Lisbon</td>\n",
       "      <td>PT</td>\n",
       "      <td>BIO</td>\n",
       "      <td>Bilbao</td>\n",
       "      <td>ES</td>\n",
       "      <td>723.541703</td>\n",
       "      <td>1.0</td>\n",
       "      <td>723.541703</td>\n",
       "    </tr>\n",
       "  </tbody>\n",
       "</table>\n",
       "</div>"
      ],
      "text/plain": [
       "  ac_code_iata ac_name_oag dep_ap_code      dep_ap_name dep_ap_cty  \\\n",
       "0          100  Fokker 100         ASU         Asuncion         PY   \n",
       "1          100  Fokker 100         LUX       Luxembourg         LU   \n",
       "2          100  Fokker 100         AGT  Ciudad del Este         PY   \n",
       "3          100  Fokker 100         ZRH   Zurich Airport         CH   \n",
       "4          100  Fokker 100         LIS           Lisbon         PT   \n",
       "\n",
       "  arr_ap_code         arr_ap_name arr_ap_cty  gc_distance  frequency_2012  \\\n",
       "0         AGT     Ciudad del Este         PY   303.201008           176.0   \n",
       "1         AMS           Amsterdam         NL   314.611383             1.0   \n",
       "2         ASU            Asuncion         PY   303.201008           225.0   \n",
       "3         BHX  Birmingham Airport         GB   921.176839           668.0   \n",
       "4         BIO              Bilbao         ES   723.541703             1.0   \n",
       "\n",
       "        fkm_2012  \n",
       "0   53363.377470  \n",
       "1     314.611383  \n",
       "2   68220.226879  \n",
       "3  615346.128185  \n",
       "4     723.541703  "
      ]
     },
     "metadata": {},
     "output_type": "display_data"
    },
    {
     "name": "stdout",
     "output_type": "stream",
     "text": [
      "This dataframe has 135894 observations.\n"
     ]
    }
   ],
   "source": [
    "preview(oag12)"
   ]
  },
  {
   "cell_type": "raw",
   "metadata": {},
   "source": [
    "# Connect to DB\n",
    "%load_ext ipython_pg.LAV\n",
    "%pg_connect dbname='mobility' user='heldm'"
   ]
  },
  {
   "cell_type": "code",
   "execution_count": 207,
   "metadata": {},
   "outputs": [
    {
     "name": "stdout",
     "output_type": "stream",
     "text": [
      "COMMENT ON\n",
      "COLUMN \"OAG\".\"2012_schedule\".\"ac_code_iata\" IS ;\n",
      "COMMENT ON\n",
      "COLUMN \"OAG\".\"2012_schedule\".\"ac_name_oag\" IS ;\n",
      "COMMENT ON\n",
      "COLUMN \"OAG\".\"2012_schedule\".\"dep_ap_code\" IS ;\n",
      "COMMENT ON\n",
      "COLUMN \"OAG\".\"2012_schedule\".\"dep_ap_name\" IS ;\n",
      "COMMENT ON\n",
      "COLUMN \"OAG\".\"2012_schedule\".\"dep_ap_cty\" IS ;\n",
      "COMMENT ON\n",
      "COLUMN \"OAG\".\"2012_schedule\".\"arr_ap_code\" IS ;\n",
      "COMMENT ON\n",
      "COLUMN \"OAG\".\"2012_schedule\".\"arr_ap_name\" IS ;\n",
      "COMMENT ON\n",
      "COLUMN \"OAG\".\"2012_schedule\".\"arr_ap_cty\" IS ;\n",
      "COMMENT ON\n",
      "COLUMN \"OAG\".\"2012_schedule\".\"gc_distance\" IS ;\n",
      "COMMENT ON\n",
      "COLUMN \"OAG\".\"2012_schedule\".\"frequency_2012\" IS ;\n",
      "COMMENT ON\n",
      "COLUMN \"OAG\".\"2012_schedule\".\"fkm_2012\" IS ;\n"
     ]
    }
   ],
   "source": [
    "for col in oag12.columns:\n",
    "    print('COMMENT ON\\nCOLUMN \"OAG\".\"2012_schedule\".\"{}\" IS ;'.format(col))"
   ]
  },
  {
   "cell_type": "code",
   "execution_count": 208,
   "metadata": {},
   "outputs": [
    {
     "name": "stdout",
     "output_type": "stream",
     "text": [
      "SUCCESS: query did not return any data\n"
     ]
    },
    {
     "data": {
      "text/plain": [
       "<cursor object at 0x0000027D68127E48; closed: 0>"
      ]
     },
     "execution_count": 208,
     "metadata": {},
     "output_type": "execute_result"
    }
   ],
   "source": [
    "%pg_sql set role \"NDA-OAG-full\""
   ]
  },
  {
   "cell_type": "code",
   "execution_count": 209,
   "metadata": {},
   "outputs": [
    {
     "name": "stdout",
     "output_type": "stream",
     "text": [
      "SUCCESS: query did not return any data\n",
      " cursor object as 'cur'\n"
     ]
    }
   ],
   "source": [
    "%%pg_sql cur\n",
    "drop table if exists \"OAG\".\"2012_schedule\";\n",
    "\n",
    "CREATE TABLE \"OAG\".\"2012_schedule\" \n",
    "(\"ac_code_iata\" varchar(3), \n",
    " \"ac_name_oag\" varchar(39), \n",
    " \"arr_ap_code\" varchar(3),\n",
    " \"arr_ap_name\" varchar(39),\n",
    " \"arr_ap_cty\" varchar(2),\n",
    " \"dep_ap_code\" varchar(3),\n",
    " \"dep_ap_name\" varchar(39),\n",
    " \"dep_ap_cty\" varchar(2),\n",
    " \"gc_distance\" float,\n",
    " \"frequency_2012\" float,\n",
    " \"fkm_2012\" float\n",
    ");\n",
    "\n",
    "COMMENT ON\n",
    "COLUMN \"OAG\".\"2012_schedule\".\"ac_code_iata\" IS 'IATA aircraft code';\n",
    "COMMENT ON\n",
    "COLUMN \"OAG\".\"2012_schedule\".\"ac_name_oag\" IS 'OAG aircraft name';\n",
    "COMMENT ON\n",
    "COLUMN \"OAG\".\"2012_schedule\".\"arr_ap_code\" IS 'IATA aiport code';\n",
    "COMMENT ON\n",
    "COLUMN \"OAG\".\"2012_schedule\".\"arr_ap_name\" IS 'IATA aiport name';\n",
    "COMMENT ON\n",
    "COLUMN \"OAG\".\"2012_schedule\".\"arr_ap_cty\" IS  'IATA airport country';\n",
    "COMMENT ON\n",
    "COLUMN \"OAG\".\"2012_schedule\".\"dep_ap_code\" IS 'IATA aiport code';\n",
    "COMMENT ON\n",
    "COLUMN \"OAG\".\"2012_schedule\".\"dep_ap_name\" IS 'IATA aiport name';\n",
    "COMMENT ON\n",
    "COLUMN \"OAG\".\"2012_schedule\".\"dep_ap_cty\" IS 'IATA airport country';\n",
    "COMMENT ON\n",
    "COLUMN \"OAG\".\"2012_schedule\".\"gc_distance\" IS 'great-circle distance for this segment';\n",
    "COMMENT ON\n",
    "COLUMN \"OAG\".\"2012_schedule\".\"frequency_2012\" IS 'number of flights for this segment in 2012';\n",
    "COMMENT ON\n",
    "COLUMN \"OAG\".\"2012_schedule\".\"fkm_2012\" IS 'flight kilometers for this segment (gc_distance * frequency)';\n",
    "\n",
    "COMMIT;"
   ]
  },
  {
   "cell_type": "code",
   "execution_count": 210,
   "metadata": {},
   "outputs": [
    {
     "name": "stdout",
     "output_type": "stream",
     "text": [
      "  waring: green-mode temporarily deactivated (interrupt won't abort the import)  green mode reactivated"
     ]
    }
   ],
   "source": [
    "%pg_copy oag12 OAG.2012_schedule"
   ]
  },
  {
   "cell_type": "code",
   "execution_count": 211,
   "metadata": {
    "collapsed": true
   },
   "outputs": [],
   "source": [
    "%pg_disconnect"
   ]
  }
 ],
 "metadata": {
  "kernelspec": {
   "display_name": "Python 3",
   "language": "python",
   "name": "python3"
  },
  "language_info": {
   "codemirror_mode": {
    "name": "ipython",
    "version": 3
   },
   "file_extension": ".py",
   "mimetype": "text/x-python",
   "name": "python",
   "nbconvert_exporter": "python",
   "pygments_lexer": "ipython3",
   "version": "3.6.3"
  },
  "toc": {
   "base_numbering": 1,
   "nav_menu": {},
   "number_sections": true,
   "sideBar": true,
   "skip_h1_title": false,
   "title_cell": "Table of Contents",
   "title_sidebar": "Contents",
   "toc_cell": false,
   "toc_position": {},
   "toc_section_display": true,
   "toc_window_display": true
  }
 },
 "nbformat": 4,
 "nbformat_minor": 2
}
