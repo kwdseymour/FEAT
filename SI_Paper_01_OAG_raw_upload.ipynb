{
 "cells": [
  {
   "cell_type": "markdown",
   "metadata": {},
   "source": [
    "** Script overview **\n",
    "\n",
    "This script uplodas the raw OAG data set to the internal data server."
   ]
  },
  {
   "cell_type": "markdown",
   "metadata": {},
   "source": [
    "## Load packages"
   ]
  },
  {
   "cell_type": "code",
   "execution_count": 5,
   "metadata": {
    "collapsed": true
   },
   "outputs": [],
   "source": [
    "import pandas as pd\n",
    "import numpy as np\n",
    "import math\n",
    "import os\n",
    "import matplotlib.pyplot as plt\n",
    "import seaborn as sns\n",
    "from scipy import stats"
   ]
  },
  {
   "cell_type": "code",
   "execution_count": 6,
   "metadata": {
    "collapsed": true
   },
   "outputs": [],
   "source": [
    "def preview(dataframe, head=5):\n",
    "    display(dataframe.head(head))\n",
    "    print(\"This dataframe has \" + str(len(dataframe)) + \" observations.\")"
   ]
  },
  {
   "cell_type": "markdown",
   "metadata": {},
   "source": [
    "## Load 2018 OAG data (global flight schedules)"
   ]
  },
  {
   "cell_type": "code",
   "execution_count": 7,
   "metadata": {
    "collapsed": true
   },
   "outputs": [],
   "source": [
    "oag18_raw = pd.read_csv('../delivery/OAG_Global_2018.csv')"
   ]
  },
  {
   "cell_type": "code",
   "execution_count": 8,
   "metadata": {
    "scrolled": false
   },
   "outputs": [
    {
     "data": {
      "text/html": [
       "<div>\n",
       "<style scoped>\n",
       "    .dataframe tbody tr th:only-of-type {\n",
       "        vertical-align: middle;\n",
       "    }\n",
       "\n",
       "    .dataframe tbody tr th {\n",
       "        vertical-align: top;\n",
       "    }\n",
       "\n",
       "    .dataframe thead th {\n",
       "        text-align: right;\n",
       "    }\n",
       "</style>\n",
       "<table border=\"1\" class=\"dataframe\">\n",
       "  <thead>\n",
       "    <tr style=\"text-align: right;\">\n",
       "      <th></th>\n",
       "      <th>Specific Aircraft Code</th>\n",
       "      <th>Specific Aircraft Name</th>\n",
       "      <th>Arr Airport Code</th>\n",
       "      <th>Arr Airport Name</th>\n",
       "      <th>Dep Airport Code</th>\n",
       "      <th>Dep Airport Name</th>\n",
       "      <th>Frequency</th>\n",
       "      <th>Time series</th>\n",
       "    </tr>\n",
       "  </thead>\n",
       "  <tbody>\n",
       "    <tr>\n",
       "      <th>0</th>\n",
       "      <td>100</td>\n",
       "      <td>Fokker 100</td>\n",
       "      <td>ADE</td>\n",
       "      <td>Aden</td>\n",
       "      <td>JIB</td>\n",
       "      <td>Djibouti</td>\n",
       "      <td>58</td>\n",
       "      <td>2018</td>\n",
       "    </tr>\n",
       "    <tr>\n",
       "      <th>1</th>\n",
       "      <td>100</td>\n",
       "      <td>Fokker 100</td>\n",
       "      <td>AMS</td>\n",
       "      <td>Amsterdam</td>\n",
       "      <td>BRU</td>\n",
       "      <td>Brussels Airport</td>\n",
       "      <td>88</td>\n",
       "      <td>2018</td>\n",
       "    </tr>\n",
       "    <tr>\n",
       "      <th>2</th>\n",
       "      <td>100</td>\n",
       "      <td>Fokker 100</td>\n",
       "      <td>AMS</td>\n",
       "      <td>Amsterdam</td>\n",
       "      <td>MUC</td>\n",
       "      <td>Munich International Airport</td>\n",
       "      <td>332</td>\n",
       "      <td>2018</td>\n",
       "    </tr>\n",
       "    <tr>\n",
       "      <th>3</th>\n",
       "      <td>100</td>\n",
       "      <td>Fokker 100</td>\n",
       "      <td>AZD</td>\n",
       "      <td>Yazd</td>\n",
       "      <td>BND</td>\n",
       "      <td>Bandar Abbas</td>\n",
       "      <td>91</td>\n",
       "      <td>2018</td>\n",
       "    </tr>\n",
       "    <tr>\n",
       "      <th>4</th>\n",
       "      <td>100</td>\n",
       "      <td>Fokker 100</td>\n",
       "      <td>BND</td>\n",
       "      <td>Bandar Abbas</td>\n",
       "      <td>AZD</td>\n",
       "      <td>Yazd</td>\n",
       "      <td>91</td>\n",
       "      <td>2018</td>\n",
       "    </tr>\n",
       "  </tbody>\n",
       "</table>\n",
       "</div>"
      ],
      "text/plain": [
       "  Specific Aircraft Code Specific Aircraft Name Arr Airport Code  \\\n",
       "0                    100             Fokker 100              ADE   \n",
       "1                    100             Fokker 100              AMS   \n",
       "2                    100             Fokker 100              AMS   \n",
       "3                    100             Fokker 100              AZD   \n",
       "4                    100             Fokker 100              BND   \n",
       "\n",
       "  Arr Airport Name Dep Airport Code              Dep Airport Name  Frequency  \\\n",
       "0             Aden              JIB                      Djibouti         58   \n",
       "1        Amsterdam              BRU              Brussels Airport         88   \n",
       "2        Amsterdam              MUC  Munich International Airport        332   \n",
       "3             Yazd              BND                  Bandar Abbas         91   \n",
       "4     Bandar Abbas              AZD                          Yazd         91   \n",
       "\n",
       "   Time series  \n",
       "0         2018  \n",
       "1         2018  \n",
       "2         2018  \n",
       "3         2018  \n",
       "4         2018  "
      ]
     },
     "metadata": {},
     "output_type": "display_data"
    },
    {
     "name": "stdout",
     "output_type": "stream",
     "text": [
      "This dataframe has 183211 observations.\n"
     ]
    }
   ],
   "source": [
    "preview(oag18_raw)"
   ]
  },
  {
   "cell_type": "code",
   "execution_count": 9,
   "metadata": {},
   "outputs": [
    {
     "data": {
      "text/plain": [
       "Index(['Specific Aircraft Code', 'Specific Aircraft Name', 'Arr Airport Code',\n",
       "       'Arr Airport Name', 'Dep Airport Code', 'Dep Airport Name', 'Frequency',\n",
       "       'Time series'],\n",
       "      dtype='object')"
      ]
     },
     "execution_count": 9,
     "metadata": {},
     "output_type": "execute_result"
    }
   ],
   "source": [
    "oag18_raw.columns"
   ]
  },
  {
   "cell_type": "code",
   "execution_count": 10,
   "metadata": {},
   "outputs": [
    {
     "data": {
      "text/html": [
       "<div>\n",
       "<style scoped>\n",
       "    .dataframe tbody tr th:only-of-type {\n",
       "        vertical-align: middle;\n",
       "    }\n",
       "\n",
       "    .dataframe tbody tr th {\n",
       "        vertical-align: top;\n",
       "    }\n",
       "\n",
       "    .dataframe thead th {\n",
       "        text-align: right;\n",
       "    }\n",
       "</style>\n",
       "<table border=\"1\" class=\"dataframe\">\n",
       "  <thead>\n",
       "    <tr style=\"text-align: right;\">\n",
       "      <th></th>\n",
       "      <th>ac_code_iata</th>\n",
       "      <th>ac_name_oag</th>\n",
       "      <th>arr_ap_code</th>\n",
       "      <th>arr_ap_name</th>\n",
       "      <th>dep_ap_code</th>\n",
       "      <th>dep_ap_name</th>\n",
       "      <th>frequency_2018</th>\n",
       "    </tr>\n",
       "  </thead>\n",
       "  <tbody>\n",
       "    <tr>\n",
       "      <th>0</th>\n",
       "      <td>100</td>\n",
       "      <td>Fokker 100</td>\n",
       "      <td>ADE</td>\n",
       "      <td>Aden</td>\n",
       "      <td>JIB</td>\n",
       "      <td>Djibouti</td>\n",
       "      <td>58</td>\n",
       "    </tr>\n",
       "    <tr>\n",
       "      <th>1</th>\n",
       "      <td>100</td>\n",
       "      <td>Fokker 100</td>\n",
       "      <td>AMS</td>\n",
       "      <td>Amsterdam</td>\n",
       "      <td>BRU</td>\n",
       "      <td>Brussels Airport</td>\n",
       "      <td>88</td>\n",
       "    </tr>\n",
       "  </tbody>\n",
       "</table>\n",
       "</div>"
      ],
      "text/plain": [
       "  ac_code_iata ac_name_oag arr_ap_code arr_ap_name dep_ap_code  \\\n",
       "0          100  Fokker 100         ADE        Aden         JIB   \n",
       "1          100  Fokker 100         AMS   Amsterdam         BRU   \n",
       "\n",
       "        dep_ap_name  frequency_2018  \n",
       "0          Djibouti              58  \n",
       "1  Brussels Airport              88  "
      ]
     },
     "execution_count": 10,
     "metadata": {},
     "output_type": "execute_result"
    }
   ],
   "source": [
    "oag18_raw = oag18_raw.copy()\n",
    "oag18_raw.drop('Time series',axis=1,inplace=True)\n",
    "oag18_raw = oag18_raw.rename(columns={'Specific Aircraft Code': 'ac_code_iata',\n",
    "                                    'Specific Aircraft Name': 'ac_name_oag',\n",
    "                                    'Arr Airport Code': 'arr_ap_code',\n",
    "                                    'Arr Airport Name': 'arr_ap_name',\n",
    "                                    'Dep Airport Code': 'dep_ap_code',\n",
    "                                    'Dep Airport Name': 'dep_ap_name',\n",
    "                                    'Frequency': 'frequency_2018'                                  \n",
    "                                    })\n",
    "oag18_raw.head(2)"
   ]
  },
  {
   "cell_type": "code",
   "execution_count": 11,
   "metadata": {
    "scrolled": true
   },
   "outputs": [
    {
     "name": "stdout",
     "output_type": "stream",
     "text": [
      "<class 'pandas.core.frame.DataFrame'>\n",
      "RangeIndex: 183211 entries, 0 to 183210\n",
      "Data columns (total 7 columns):\n",
      "ac_code_iata      183211 non-null object\n",
      "ac_name_oag       183211 non-null object\n",
      "arr_ap_code       183211 non-null object\n",
      "arr_ap_name       183211 non-null object\n",
      "dep_ap_code       183211 non-null object\n",
      "dep_ap_name       183211 non-null object\n",
      "frequency_2018    183211 non-null int64\n",
      "dtypes: int64(1), object(6)\n",
      "memory usage: 9.8+ MB\n"
     ]
    }
   ],
   "source": [
    "oag18_raw.info()"
   ]
  },
  {
   "cell_type": "markdown",
   "metadata": {},
   "source": [
    "## Upload data to data server"
   ]
  },
  {
   "cell_type": "code",
   "execution_count": 12,
   "metadata": {},
   "outputs": [
    {
     "name": "stdout",
     "output_type": "stream",
     "text": [
      "Maximum string length in ac_code_iata column: 3\n",
      "Maximum string length in ac_name_oag column: 39\n",
      "Maximum string length in arr_ap_code column: 3\n",
      "Maximum string length in arr_ap_name column: 39\n",
      "Maximum string length in dep_ap_code column: 3\n",
      "Maximum string length in dep_ap_name column: 39\n"
     ]
    }
   ],
   "source": [
    "for col in oag18_raw.columns[:6]:\n",
    "    print(\"Maximum string length in \"+col+\" column: \"+str(oag18_raw[col].apply(len).max()))"
   ]
  },
  {
   "cell_type": "code",
   "execution_count": 13,
   "metadata": {},
   "outputs": [
    {
     "name": "stdout",
     "output_type": "stream",
     "text": [
      "password for heldm@lav-fileserver.ethz.ch:5433:········\n",
      "SUCCESS: connected to lav-fileserver.ethz.ch\n",
      "  PostGIS integration enabled"
     ]
    }
   ],
   "source": [
    "# Connect to DB\n",
    "%load_ext ipython_pg.LAV\n",
    "%pg_connect dbname='mobility' user='heldm'"
   ]
  },
  {
   "cell_type": "code",
   "execution_count": 14,
   "metadata": {},
   "outputs": [
    {
     "name": "stdout",
     "output_type": "stream",
     "text": [
      "COMMENT ON\n",
      "COLUMN \"OAG\".\"2018_schedule_raw\".\"ac_code_iata\" IS ;\n",
      "COMMENT ON\n",
      "COLUMN \"OAG\".\"2018_schedule_raw\".\"ac_name_oag\" IS ;\n",
      "COMMENT ON\n",
      "COLUMN \"OAG\".\"2018_schedule_raw\".\"arr_ap_code\" IS ;\n",
      "COMMENT ON\n",
      "COLUMN \"OAG\".\"2018_schedule_raw\".\"arr_ap_name\" IS ;\n",
      "COMMENT ON\n",
      "COLUMN \"OAG\".\"2018_schedule_raw\".\"dep_ap_code\" IS ;\n",
      "COMMENT ON\n",
      "COLUMN \"OAG\".\"2018_schedule_raw\".\"dep_ap_name\" IS ;\n",
      "COMMENT ON\n",
      "COLUMN \"OAG\".\"2018_schedule_raw\".\"frequency_2018\" IS ;\n"
     ]
    }
   ],
   "source": [
    "for col in oag18_raw.columns:\n",
    "    print('COMMENT ON\\nCOLUMN \"OAG\".\"2018_schedule_raw\".\"{}\" IS ;'.format(col))"
   ]
  },
  {
   "cell_type": "code",
   "execution_count": 15,
   "metadata": {},
   "outputs": [
    {
     "name": "stdout",
     "output_type": "stream",
     "text": [
      "SUCCESS: query did not return any data\n"
     ]
    },
    {
     "data": {
      "text/plain": [
       "<cursor object at 0x00000216916F99E8; closed: 0>"
      ]
     },
     "execution_count": 15,
     "metadata": {},
     "output_type": "execute_result"
    }
   ],
   "source": [
    "%pg_sql set role \"NDA-OAG-full\""
   ]
  },
  {
   "cell_type": "code",
   "execution_count": 13,
   "metadata": {},
   "outputs": [
    {
     "name": "stdout",
     "output_type": "stream",
     "text": [
      "SUCCESS: query did not return any data\n",
      " cursor object as 'cur'\n"
     ]
    }
   ],
   "source": [
    "%%pg_sql cur\n",
    "drop table if exists \"OAG\".\"2018_schedule_raw\";\n",
    "\n",
    "CREATE TABLE \"OAG\".\"2018_schedule_raw\" \n",
    "(\"ac_code_iata\" varchar(3), \n",
    " \"ac_name_oag\" varchar(39), \n",
    " \"arr_ap_code\" varchar(3),\n",
    " \"arr_ap_name\" varchar(39),\n",
    " \"dep_ap_code\" varchar(3),\n",
    " \"dep_ap_name\" varchar(39),\n",
    " \"frequency_2018\" float\n",
    ");\n",
    "\n",
    "COMMENT ON\n",
    "COLUMN \"OAG\".\"2018_schedule_raw\".\"ac_code_iata\" IS 'IATA aircraft code';\n",
    "COMMENT ON\n",
    "COLUMN \"OAG\".\"2018_schedule_raw\".\"ac_name_oag\" IS 'OAG aircraft name';\n",
    "COMMENT ON\n",
    "COLUMN \"OAG\".\"2018_schedule_raw\".\"arr_ap_code\" IS 'IATA arrival aiport code';\n",
    "COMMENT ON\n",
    "COLUMN \"OAG\".\"2018_schedule_raw\".\"arr_ap_name\" IS 'IATA arrival aiport name';\n",
    "COMMENT ON\n",
    "COLUMN \"OAG\".\"2018_schedule_raw\".\"dep_ap_code\" IS 'IATA departure aiport code';\n",
    "COMMENT ON\n",
    "COLUMN \"OAG\".\"2018_schedule_raw\".\"dep_ap_name\" IS 'IATA departure aiport name';\n",
    "COMMENT ON\n",
    "COLUMN \"OAG\".\"2018_schedule_raw\".\"frequency_2018\" IS 'number of flights for this segment in 2012';\n",
    "\n",
    "COMMIT;"
   ]
  },
  {
   "cell_type": "code",
   "execution_count": 14,
   "metadata": {},
   "outputs": [
    {
     "name": "stdout",
     "output_type": "stream",
     "text": [
      "  waring: green-mode temporarily deactivated (interrupt won't abort the import)  green mode reactivated"
     ]
    }
   ],
   "source": [
    "%pg_copy oag18_raw OAG.2018_schedule_raw"
   ]
  },
  {
   "cell_type": "code",
   "execution_count": 15,
   "metadata": {
    "collapsed": true
   },
   "outputs": [],
   "source": [
    "%pg_disconnect"
   ]
  }
 ],
 "metadata": {
  "kernelspec": {
   "display_name": "Python 3",
   "language": "python",
   "name": "python3"
  },
  "language_info": {
   "codemirror_mode": {
    "name": "ipython",
    "version": 3
   },
   "file_extension": ".py",
   "mimetype": "text/x-python",
   "name": "python",
   "nbconvert_exporter": "python",
   "pygments_lexer": "ipython3",
   "version": "3.6.3"
  },
  "toc": {
   "base_numbering": 1,
   "nav_menu": {},
   "number_sections": true,
   "sideBar": true,
   "skip_h1_title": false,
   "title_cell": "Table of Contents",
   "title_sidebar": "Contents",
   "toc_cell": false,
   "toc_position": {},
   "toc_section_display": true,
   "toc_window_display": true
  }
 },
 "nbformat": 4,
 "nbformat_minor": 2
}
