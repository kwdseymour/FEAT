{
 "cells": [
  {
   "cell_type": "markdown",
   "metadata": {},
   "source": [
    "**Script Overview**\n",
    "\n",
    "**1. Situation:**\n",
    "\n",
    "This script matches IATA codes / OAG ac names and Planespotters ac.\n",
    "\n",
    "There is a general difference between the IATA and the ICAO aircraft codes: IATA has designated, superordinated code for \"all models\" while the ICAO has not. (In the following, we call these aircraft types \"IATA-only\".)\n",
    "\n",
    "This becomes clear at the following example:\n",
    "- IATA=141 for B461 BAe 146-100 Pax --> ICAO=B464\n",
    "- IATA=142 for B462 BAe 146-200 Pax --> ICAO=B462\n",
    "- IATA=143 for B463\tBAe 146-300 Pax --> ICAO=B463\n",
    "- IATA=146 for BAe 146 all pax models --> ICAO=N/A <- this is the general, superordinated IATA code.\n",
    "\n",
    "**2. Problem**: \n",
    "\n",
    "This OAG data set is based on the IATA code, but the Planespotters (PS) data (data on aircraft, including e.g. age and seat capacity) does always have specific AC models, not the general, superordinated AC.\n",
    "\n",
    "**3. Solution**:\n",
    "\n",
    "We distribute the OAG flights performed by the IATA-only AC types to all specific IATA-code AC that are available in the set. We do so per route and according to the share of flight kilometers observed in the OAG data.\n",
    "\n",
    "Example for 1 specific route:\n",
    "- IATA=146: 10 flights & 2000 FKM in OAG data set --> 0 FKM after reassignment\n",
    "- IATA=141: 20 flights & 4000 FKM in OAG data set --> 4800 FKM after reassignment\n",
    "- IATA=142: 30 flights & 6000 FKM in OAG data set --> 7200 FKM after reassignment\n",
    "The 2000 FKM from IATA=146 are reassigned to the 141 and 142 AC according to the share of FKM in OAG."
   ]
  },
  {
   "cell_type": "markdown",
   "metadata": {},
   "source": [
    "## Load packages"
   ]
  },
  {
   "cell_type": "code",
   "execution_count": 1,
   "metadata": {
    "collapsed": true
   },
   "outputs": [],
   "source": [
    "import pandas as pd\n",
    "import numpy as np\n",
    "import math"
   ]
  },
  {
   "cell_type": "markdown",
   "metadata": {},
   "source": [
    "## Load OAG data"
   ]
  },
  {
   "cell_type": "code",
   "execution_count": 2,
   "metadata": {},
   "outputs": [
    {
     "name": "stdout",
     "output_type": "stream",
     "text": [
      "password for heldm@lav-fileserver.ethz.ch:5433:········\n",
      "SUCCESS: connected to lav-fileserver.ethz.ch\n",
      "  PostGIS integration enabled"
     ]
    }
   ],
   "source": [
    "# Connect to DB\n",
    "%load_ext ipython_pg.LAV\n",
    "%pg_connect dbname='mobility' host='lav-fileserver.ethz.ch' user='heldm'"
   ]
  },
  {
   "cell_type": "code",
   "execution_count": 3,
   "metadata": {
    "scrolled": true
   },
   "outputs": [
    {
     "name": "stdout",
     "output_type": "stream",
     "text": [
      "SUCCES: matched 180578 rows\n",
      " results stored as 'oag18'\n"
     ]
    }
   ],
   "source": [
    "%%pg_pd oag18\n",
    "SELECT * FROM \"OAG\".\"2018_schedule\""
   ]
  },
  {
   "cell_type": "code",
   "execution_count": 4,
   "metadata": {},
   "outputs": [
    {
     "data": {
      "text/html": [
       "<div>\n",
       "<style scoped>\n",
       "    .dataframe tbody tr th:only-of-type {\n",
       "        vertical-align: middle;\n",
       "    }\n",
       "\n",
       "    .dataframe tbody tr th {\n",
       "        vertical-align: top;\n",
       "    }\n",
       "\n",
       "    .dataframe thead th {\n",
       "        text-align: right;\n",
       "    }\n",
       "</style>\n",
       "<table border=\"1\" class=\"dataframe\">\n",
       "  <thead>\n",
       "    <tr style=\"text-align: right;\">\n",
       "      <th></th>\n",
       "      <th>ac_code_iata</th>\n",
       "      <th>ac_name_oag</th>\n",
       "      <th>arr_ap_code</th>\n",
       "      <th>arr_ap_name</th>\n",
       "      <th>arr_ap_cty</th>\n",
       "      <th>dep_ap_code</th>\n",
       "      <th>dep_ap_name</th>\n",
       "      <th>dep_ap_cty</th>\n",
       "      <th>gc_distance</th>\n",
       "      <th>frequency_2018</th>\n",
       "      <th>fkm_2018</th>\n",
       "    </tr>\n",
       "  </thead>\n",
       "  <tbody>\n",
       "    <tr>\n",
       "      <th>0</th>\n",
       "      <td>100</td>\n",
       "      <td>Fokker 100</td>\n",
       "      <td>ADE</td>\n",
       "      <td>Aden</td>\n",
       "      <td>YE</td>\n",
       "      <td>JIB</td>\n",
       "      <td>Djibouti</td>\n",
       "      <td>DJ</td>\n",
       "      <td>248.203212</td>\n",
       "      <td>58.0</td>\n",
       "      <td>14395.786303</td>\n",
       "    </tr>\n",
       "    <tr>\n",
       "      <th>1</th>\n",
       "      <td>100</td>\n",
       "      <td>Fokker 100</td>\n",
       "      <td>AMS</td>\n",
       "      <td>Amsterdam</td>\n",
       "      <td>NL</td>\n",
       "      <td>BRU</td>\n",
       "      <td>Brussels Airport</td>\n",
       "      <td>BE</td>\n",
       "      <td>157.553624</td>\n",
       "      <td>88.0</td>\n",
       "      <td>13864.718918</td>\n",
       "    </tr>\n",
       "    <tr>\n",
       "      <th>2</th>\n",
       "      <td>100</td>\n",
       "      <td>Fokker 100</td>\n",
       "      <td>AMS</td>\n",
       "      <td>Amsterdam</td>\n",
       "      <td>NL</td>\n",
       "      <td>MUC</td>\n",
       "      <td>Munich International Airport</td>\n",
       "      <td>DE</td>\n",
       "      <td>676.777570</td>\n",
       "      <td>332.0</td>\n",
       "      <td>224690.153347</td>\n",
       "    </tr>\n",
       "    <tr>\n",
       "      <th>3</th>\n",
       "      <td>100</td>\n",
       "      <td>Fokker 100</td>\n",
       "      <td>AZD</td>\n",
       "      <td>Yazd</td>\n",
       "      <td>IR</td>\n",
       "      <td>BND</td>\n",
       "      <td>Bandar Abbas</td>\n",
       "      <td>IR</td>\n",
       "      <td>559.459639</td>\n",
       "      <td>91.0</td>\n",
       "      <td>50910.827163</td>\n",
       "    </tr>\n",
       "    <tr>\n",
       "      <th>4</th>\n",
       "      <td>100</td>\n",
       "      <td>Fokker 100</td>\n",
       "      <td>BND</td>\n",
       "      <td>Bandar Abbas</td>\n",
       "      <td>IR</td>\n",
       "      <td>AZD</td>\n",
       "      <td>Yazd</td>\n",
       "      <td>IR</td>\n",
       "      <td>559.459639</td>\n",
       "      <td>91.0</td>\n",
       "      <td>50910.827163</td>\n",
       "    </tr>\n",
       "  </tbody>\n",
       "</table>\n",
       "</div>"
      ],
      "text/plain": [
       "  ac_code_iata ac_name_oag arr_ap_code   arr_ap_name arr_ap_cty dep_ap_code  \\\n",
       "0          100  Fokker 100         ADE          Aden         YE         JIB   \n",
       "1          100  Fokker 100         AMS     Amsterdam         NL         BRU   \n",
       "2          100  Fokker 100         AMS     Amsterdam         NL         MUC   \n",
       "3          100  Fokker 100         AZD          Yazd         IR         BND   \n",
       "4          100  Fokker 100         BND  Bandar Abbas         IR         AZD   \n",
       "\n",
       "                    dep_ap_name dep_ap_cty  gc_distance  frequency_2018  \\\n",
       "0                      Djibouti         DJ   248.203212            58.0   \n",
       "1              Brussels Airport         BE   157.553624            88.0   \n",
       "2  Munich International Airport         DE   676.777570           332.0   \n",
       "3                  Bandar Abbas         IR   559.459639            91.0   \n",
       "4                          Yazd         IR   559.459639            91.0   \n",
       "\n",
       "        fkm_2018  \n",
       "0   14395.786303  \n",
       "1   13864.718918  \n",
       "2  224690.153347  \n",
       "3   50910.827163  \n",
       "4   50910.827163  "
      ]
     },
     "execution_count": 4,
     "metadata": {},
     "output_type": "execute_result"
    }
   ],
   "source": [
    "oag18.head()"
   ]
  },
  {
   "cell_type": "markdown",
   "metadata": {},
   "source": [
    "## Make OAG data set Planespotters-compatible"
   ]
  },
  {
   "cell_type": "markdown",
   "metadata": {},
   "source": [
    "### Reassign generic IATA Codes"
   ]
  },
  {
   "cell_type": "markdown",
   "metadata": {},
   "source": [
    "**Load manual IATA-ICAO lookup table**"
   ]
  },
  {
   "cell_type": "code",
   "execution_count": 5,
   "metadata": {
    "scrolled": true
   },
   "outputs": [
    {
     "data": {
      "text/html": [
       "<div>\n",
       "<style scoped>\n",
       "    .dataframe tbody tr th:only-of-type {\n",
       "        vertical-align: middle;\n",
       "    }\n",
       "\n",
       "    .dataframe tbody tr th {\n",
       "        vertical-align: top;\n",
       "    }\n",
       "\n",
       "    .dataframe thead th {\n",
       "        text-align: right;\n",
       "    }\n",
       "</style>\n",
       "<table border=\"1\" class=\"dataframe\">\n",
       "  <thead>\n",
       "    <tr style=\"text-align: right;\">\n",
       "      <th></th>\n",
       "      <th>ac_code_iata</th>\n",
       "      <th>ac_code_icao</th>\n",
       "      <th>ac_name_oag</th>\n",
       "      <th>ac_name_ps</th>\n",
       "      <th>ac_code_iata_reassign</th>\n",
       "      <th>oag_name_keep</th>\n",
       "    </tr>\n",
       "  </thead>\n",
       "  <tbody>\n",
       "    <tr>\n",
       "      <th>0</th>\n",
       "      <td>CS1</td>\n",
       "      <td>BCS1</td>\n",
       "      <td>Airbus A220-100</td>\n",
       "      <td>Airbus A220-100</td>\n",
       "      <td>NaN</td>\n",
       "      <td>NaN</td>\n",
       "    </tr>\n",
       "    <tr>\n",
       "      <th>1</th>\n",
       "      <td>CS3</td>\n",
       "      <td>BCS3</td>\n",
       "      <td>Airbus A220-300</td>\n",
       "      <td>Airbus A220-300</td>\n",
       "      <td>NaN</td>\n",
       "      <td>NaN</td>\n",
       "    </tr>\n",
       "    <tr>\n",
       "      <th>2</th>\n",
       "      <td>AB3</td>\n",
       "      <td>A30B</td>\n",
       "      <td>Airbus A300 Passenger</td>\n",
       "      <td>Airbus A300B4</td>\n",
       "      <td>NaN</td>\n",
       "      <td>no</td>\n",
       "    </tr>\n",
       "    <tr>\n",
       "      <th>3</th>\n",
       "      <td>AB6</td>\n",
       "      <td>A306</td>\n",
       "      <td>Airbus A300-600 Passenger</td>\n",
       "      <td>Airbus A300-600</td>\n",
       "      <td>NaN</td>\n",
       "      <td>NaN</td>\n",
       "    </tr>\n",
       "    <tr>\n",
       "      <th>4</th>\n",
       "      <td>AB4</td>\n",
       "      <td>A30B</td>\n",
       "      <td>Airbus A300B2/B4 Passenger</td>\n",
       "      <td>Airbus A300B4</td>\n",
       "      <td>NaN</td>\n",
       "      <td>Airbus A300B2/B4 Passenger</td>\n",
       "    </tr>\n",
       "  </tbody>\n",
       "</table>\n",
       "</div>"
      ],
      "text/plain": [
       "  ac_code_iata ac_code_icao                 ac_name_oag       ac_name_ps  \\\n",
       "0          CS1         BCS1             Airbus A220-100  Airbus A220-100   \n",
       "1          CS3         BCS3             Airbus A220-300  Airbus A220-300   \n",
       "2          AB3         A30B       Airbus A300 Passenger    Airbus A300B4   \n",
       "3          AB6         A306   Airbus A300-600 Passenger  Airbus A300-600   \n",
       "4          AB4         A30B  Airbus A300B2/B4 Passenger    Airbus A300B4   \n",
       "\n",
       "  ac_code_iata_reassign               oag_name_keep  \n",
       "0                   NaN                         NaN  \n",
       "1                   NaN                         NaN  \n",
       "2                   NaN                          no  \n",
       "3                   NaN                         NaN  \n",
       "4                   NaN  Airbus A300B2/B4 Passenger  "
      ]
     },
     "execution_count": 5,
     "metadata": {},
     "output_type": "execute_result"
    }
   ],
   "source": [
    "# Read the manual lookup table\n",
    "ac_type_designators = pd.read_excel('../../../../Research/Aviation/Jupyter/datasets/aircraft_type_designators_manual.xlsx')\n",
    "ac_type_designators = ac_type_designators.rename(columns={'oag_model: all generic AC types where we have multiple variants in the PS data set are marked in red': 'ac_name_oag',\n",
    "                                            'planespotters_model': 'ac_name_ps',\n",
    "                                            'share of yearly flight km: high impact models (>1% of total FKM) are marked in green -> ask OAG here': 'share_of_yearly_FKM'})\n",
    "ac_type_designators = ac_type_designators.drop(['share_of_yearly_FKM','ps_model assignment','comment1','comment2', 'widebody'], axis=1)\n",
    "ac_type_designators['ac_code_iata_reassign'] = ac_type_designators['ac_code_iata_reassign'].str.split(',')\n",
    "ac_type_designators['ac_code_iata'] = ac_type_designators['ac_code_iata'].astype(str)\n",
    "ac_type_designators.head()"
   ]
  },
  {
   "cell_type": "code",
   "execution_count": 6,
   "metadata": {
    "scrolled": true
   },
   "outputs": [
    {
     "data": {
      "text/html": [
       "<div>\n",
       "<style scoped>\n",
       "    .dataframe tbody tr th:only-of-type {\n",
       "        vertical-align: middle;\n",
       "    }\n",
       "\n",
       "    .dataframe tbody tr th {\n",
       "        vertical-align: top;\n",
       "    }\n",
       "\n",
       "    .dataframe thead th {\n",
       "        text-align: right;\n",
       "    }\n",
       "</style>\n",
       "<table border=\"1\" class=\"dataframe\">\n",
       "  <thead>\n",
       "    <tr style=\"text-align: right;\">\n",
       "      <th></th>\n",
       "      <th>index</th>\n",
       "      <th>ac_code_iata</th>\n",
       "      <th>ac_code_icao</th>\n",
       "      <th>ac_name_oag</th>\n",
       "      <th>ac_name_ps</th>\n",
       "      <th>ac_code_iata_reassign</th>\n",
       "      <th>oag_name_keep</th>\n",
       "    </tr>\n",
       "  </thead>\n",
       "  <tbody>\n",
       "    <tr>\n",
       "      <th>0</th>\n",
       "      <td>8</td>\n",
       "      <td>32S</td>\n",
       "      <td>to_be_assigned_to_multiple_variants</td>\n",
       "      <td>Airbus A318/319/320/321</td>\n",
       "      <td>to_be_assigned_to_multiple_variants</td>\n",
       "      <td>[318, 319, 320, 32A, 321, 32B]</td>\n",
       "      <td>NaN</td>\n",
       "    </tr>\n",
       "    <tr>\n",
       "      <th>1</th>\n",
       "      <td>16</td>\n",
       "      <td>330</td>\n",
       "      <td>to_be_assigned_to_multiple_variants</td>\n",
       "      <td>Airbus A330</td>\n",
       "      <td>to_be_assigned_to_multiple_variants</td>\n",
       "      <td>[332, 333]</td>\n",
       "      <td>NaN</td>\n",
       "    </tr>\n",
       "    <tr>\n",
       "      <th>2</th>\n",
       "      <td>20</td>\n",
       "      <td>340</td>\n",
       "      <td>to_be_assigned_to_multiple_variants</td>\n",
       "      <td>Airbus A340</td>\n",
       "      <td>to_be_assigned_to_multiple_variants</td>\n",
       "      <td>[342, 343, 345, 346]</td>\n",
       "      <td>NaN</td>\n",
       "    </tr>\n",
       "    <tr>\n",
       "      <th>3</th>\n",
       "      <td>25</td>\n",
       "      <td>350</td>\n",
       "      <td>to_be_assigned_to_multiple_variants</td>\n",
       "      <td>Airbus A350</td>\n",
       "      <td>to_be_assigned_to_multiple_variants</td>\n",
       "      <td>[351, 359]</td>\n",
       "      <td>NaN</td>\n",
       "    </tr>\n",
       "    <tr>\n",
       "      <th>4</th>\n",
       "      <td>40</td>\n",
       "      <td>ATR</td>\n",
       "      <td>to_be_assigned_to_multiple_variants</td>\n",
       "      <td>ATR42 /ATR72</td>\n",
       "      <td>to_be_assigned_to_multiple_variants</td>\n",
       "      <td>[AT4, AT7]</td>\n",
       "      <td>NaN</td>\n",
       "    </tr>\n",
       "    <tr>\n",
       "      <th>5</th>\n",
       "      <td>42</td>\n",
       "      <td>ARJ</td>\n",
       "      <td>to_be_assigned_to_multiple_variants</td>\n",
       "      <td>Avro RJ70 /rj85 /rj100</td>\n",
       "      <td>to_be_assigned_to_multiple_variants</td>\n",
       "      <td>[AR1, AR8]</td>\n",
       "      <td>NaN</td>\n",
       "    </tr>\n",
       "    <tr>\n",
       "      <th>6</th>\n",
       "      <td>44</td>\n",
       "      <td>146</td>\n",
       "      <td>to_be_assigned_to_multiple_variants</td>\n",
       "      <td>BAe 146 Passenger</td>\n",
       "      <td>to_be_assigned_to_multiple_variants</td>\n",
       "      <td>[141, 142, 143]</td>\n",
       "      <td>NaN</td>\n",
       "    </tr>\n",
       "    <tr>\n",
       "      <th>7</th>\n",
       "      <td>62</td>\n",
       "      <td>M80</td>\n",
       "      <td>to_be_assigned_to_multiple_variants</td>\n",
       "      <td>Boeing (douglas) MD-80</td>\n",
       "      <td>to_be_assigned_to_multiple_variants</td>\n",
       "      <td>[M81, M82, M83, M87, M88]</td>\n",
       "      <td>NaN</td>\n",
       "    </tr>\n",
       "    <tr>\n",
       "      <th>8</th>\n",
       "      <td>73</td>\n",
       "      <td>737</td>\n",
       "      <td>to_be_assigned_to_multiple_variants</td>\n",
       "      <td>Boeing 737 Passenger</td>\n",
       "      <td>to_be_assigned_to_multiple_variants</td>\n",
       "      <td>[732, 73C, 733, 734, 73E, 735, 736, 73W, 73G, ...</td>\n",
       "      <td>NaN</td>\n",
       "    </tr>\n",
       "    <tr>\n",
       "      <th>9</th>\n",
       "      <td>98</td>\n",
       "      <td>757</td>\n",
       "      <td>to_be_assigned_to_multiple_variants</td>\n",
       "      <td>Boeing 757 (Passenger)</td>\n",
       "      <td>to_be_assigned_to_multiple_variants</td>\n",
       "      <td>[752, 753]</td>\n",
       "      <td>NaN</td>\n",
       "    </tr>\n",
       "    <tr>\n",
       "      <th>10</th>\n",
       "      <td>103</td>\n",
       "      <td>767</td>\n",
       "      <td>to_be_assigned_to_multiple_variants</td>\n",
       "      <td>Boeing 767 Passenger</td>\n",
       "      <td>to_be_assigned_to_multiple_variants</td>\n",
       "      <td>[762, 763, 764]</td>\n",
       "      <td>NaN</td>\n",
       "    </tr>\n",
       "    <tr>\n",
       "      <th>11</th>\n",
       "      <td>108</td>\n",
       "      <td>777</td>\n",
       "      <td>to_be_assigned_to_multiple_variants</td>\n",
       "      <td>Boeing 777 Passenger</td>\n",
       "      <td>to_be_assigned_to_multiple_variants</td>\n",
       "      <td>[772, 773]</td>\n",
       "      <td>NaN</td>\n",
       "    </tr>\n",
       "    <tr>\n",
       "      <th>12</th>\n",
       "      <td>113</td>\n",
       "      <td>787</td>\n",
       "      <td>to_be_assigned_to_multiple_variants</td>\n",
       "      <td>Boeing 787</td>\n",
       "      <td>to_be_assigned_to_multiple_variants</td>\n",
       "      <td>[781, 788, 789]</td>\n",
       "      <td>NaN</td>\n",
       "    </tr>\n",
       "    <tr>\n",
       "      <th>13</th>\n",
       "      <td>120</td>\n",
       "      <td>CRJ</td>\n",
       "      <td>to_be_assigned_to_multiple_variants</td>\n",
       "      <td>Canadair Regional Jet</td>\n",
       "      <td>to_be_assigned_to_multiple_variants</td>\n",
       "      <td>[CR1, CR2, CR7, CR9, CRA, CRK]</td>\n",
       "      <td>NaN</td>\n",
       "    </tr>\n",
       "    <tr>\n",
       "      <th>14</th>\n",
       "      <td>141</td>\n",
       "      <td>DH8</td>\n",
       "      <td>to_be_assigned_to_multiple_variants</td>\n",
       "      <td>DHvilld-Bombardier DHC8 Dsh 8</td>\n",
       "      <td>to_be_assigned_to_multiple_variants</td>\n",
       "      <td>[DH1, DH2, DH3, DH4]</td>\n",
       "      <td>NaN</td>\n",
       "    </tr>\n",
       "    <tr>\n",
       "      <th>15</th>\n",
       "      <td>149</td>\n",
       "      <td>EMJ</td>\n",
       "      <td>to_be_assigned_to_multiple_variants</td>\n",
       "      <td>Embraer 170/195</td>\n",
       "      <td>to_be_assigned_to_multiple_variants</td>\n",
       "      <td>[E70, E95]</td>\n",
       "      <td>NaN</td>\n",
       "    </tr>\n",
       "    <tr>\n",
       "      <th>16</th>\n",
       "      <td>156</td>\n",
       "      <td>ERJ</td>\n",
       "      <td>to_be_assigned_to_multiple_variants</td>\n",
       "      <td>Embraer RJ 135/140/145</td>\n",
       "      <td>to_be_assigned_to_multiple_variants</td>\n",
       "      <td>[ER3, ER4, ERD]</td>\n",
       "      <td>NaN</td>\n",
       "    </tr>\n",
       "  </tbody>\n",
       "</table>\n",
       "</div>"
      ],
      "text/plain": [
       "    index ac_code_iata                         ac_code_icao  \\\n",
       "0       8          32S  to_be_assigned_to_multiple_variants   \n",
       "1      16          330  to_be_assigned_to_multiple_variants   \n",
       "2      20          340  to_be_assigned_to_multiple_variants   \n",
       "3      25          350  to_be_assigned_to_multiple_variants   \n",
       "4      40          ATR  to_be_assigned_to_multiple_variants   \n",
       "5      42          ARJ  to_be_assigned_to_multiple_variants   \n",
       "6      44          146  to_be_assigned_to_multiple_variants   \n",
       "7      62          M80  to_be_assigned_to_multiple_variants   \n",
       "8      73          737  to_be_assigned_to_multiple_variants   \n",
       "9      98          757  to_be_assigned_to_multiple_variants   \n",
       "10    103          767  to_be_assigned_to_multiple_variants   \n",
       "11    108          777  to_be_assigned_to_multiple_variants   \n",
       "12    113          787  to_be_assigned_to_multiple_variants   \n",
       "13    120          CRJ  to_be_assigned_to_multiple_variants   \n",
       "14    141          DH8  to_be_assigned_to_multiple_variants   \n",
       "15    149          EMJ  to_be_assigned_to_multiple_variants   \n",
       "16    156          ERJ  to_be_assigned_to_multiple_variants   \n",
       "\n",
       "                      ac_name_oag                           ac_name_ps  \\\n",
       "0         Airbus A318/319/320/321  to_be_assigned_to_multiple_variants   \n",
       "1                     Airbus A330  to_be_assigned_to_multiple_variants   \n",
       "2                     Airbus A340  to_be_assigned_to_multiple_variants   \n",
       "3                     Airbus A350  to_be_assigned_to_multiple_variants   \n",
       "4                    ATR42 /ATR72  to_be_assigned_to_multiple_variants   \n",
       "5          Avro RJ70 /rj85 /rj100  to_be_assigned_to_multiple_variants   \n",
       "6               BAe 146 Passenger  to_be_assigned_to_multiple_variants   \n",
       "7          Boeing (douglas) MD-80  to_be_assigned_to_multiple_variants   \n",
       "8            Boeing 737 Passenger  to_be_assigned_to_multiple_variants   \n",
       "9          Boeing 757 (Passenger)  to_be_assigned_to_multiple_variants   \n",
       "10           Boeing 767 Passenger  to_be_assigned_to_multiple_variants   \n",
       "11           Boeing 777 Passenger  to_be_assigned_to_multiple_variants   \n",
       "12                     Boeing 787  to_be_assigned_to_multiple_variants   \n",
       "13          Canadair Regional Jet  to_be_assigned_to_multiple_variants   \n",
       "14  DHvilld-Bombardier DHC8 Dsh 8  to_be_assigned_to_multiple_variants   \n",
       "15                Embraer 170/195  to_be_assigned_to_multiple_variants   \n",
       "16         Embraer RJ 135/140/145  to_be_assigned_to_multiple_variants   \n",
       "\n",
       "                                ac_code_iata_reassign oag_name_keep  \n",
       "0                      [318, 319, 320, 32A, 321, 32B]           NaN  \n",
       "1                                          [332, 333]           NaN  \n",
       "2                                [342, 343, 345, 346]           NaN  \n",
       "3                                          [351, 359]           NaN  \n",
       "4                                          [AT4, AT7]           NaN  \n",
       "5                                          [AR1, AR8]           NaN  \n",
       "6                                     [141, 142, 143]           NaN  \n",
       "7                           [M81, M82, M83, M87, M88]           NaN  \n",
       "8   [732, 73C, 733, 734, 73E, 735, 736, 73W, 73G, ...           NaN  \n",
       "9                                          [752, 753]           NaN  \n",
       "10                                    [762, 763, 764]           NaN  \n",
       "11                                         [772, 773]           NaN  \n",
       "12                                    [781, 788, 789]           NaN  \n",
       "13                     [CR1, CR2, CR7, CR9, CRA, CRK]           NaN  \n",
       "14                               [DH1, DH2, DH3, DH4]           NaN  \n",
       "15                                         [E70, E95]           NaN  \n",
       "16                                    [ER3, ER4, ERD]           NaN  "
      ]
     },
     "execution_count": 6,
     "metadata": {},
     "output_type": "execute_result"
    }
   ],
   "source": [
    "# Extract all iata codes that have to be reassigned\n",
    "reassign_df = ac_type_designators[ac_type_designators['ac_name_ps'] == 'to_be_assigned_to_multiple_variants'].reset_index()\n",
    "reassign_df"
   ]
  },
  {
   "cell_type": "markdown",
   "metadata": {},
   "source": [
    "**Reassign**"
   ]
  },
  {
   "cell_type": "code",
   "execution_count": 7,
   "metadata": {},
   "outputs": [
    {
     "data": {
      "text/html": [
       "<div>\n",
       "<style scoped>\n",
       "    .dataframe tbody tr th:only-of-type {\n",
       "        vertical-align: middle;\n",
       "    }\n",
       "\n",
       "    .dataframe tbody tr th {\n",
       "        vertical-align: top;\n",
       "    }\n",
       "\n",
       "    .dataframe thead th {\n",
       "        text-align: right;\n",
       "    }\n",
       "</style>\n",
       "<table border=\"1\" class=\"dataframe\">\n",
       "  <thead>\n",
       "    <tr style=\"text-align: right;\">\n",
       "      <th></th>\n",
       "      <th>ac_code_iata</th>\n",
       "      <th>ac_name_oag</th>\n",
       "      <th>arr_ap_code</th>\n",
       "      <th>arr_ap_name</th>\n",
       "      <th>arr_ap_cty</th>\n",
       "      <th>dep_ap_code</th>\n",
       "      <th>dep_ap_name</th>\n",
       "      <th>dep_ap_cty</th>\n",
       "      <th>gc_distance</th>\n",
       "      <th>frequency_2018</th>\n",
       "      <th>fkm_2018</th>\n",
       "      <th>share_of_fkm_2018</th>\n",
       "      <th>route</th>\n",
       "    </tr>\n",
       "  </thead>\n",
       "  <tbody>\n",
       "    <tr>\n",
       "      <th>0</th>\n",
       "      <td>100</td>\n",
       "      <td>Fokker 100</td>\n",
       "      <td>ADE</td>\n",
       "      <td>Aden</td>\n",
       "      <td>YE</td>\n",
       "      <td>JIB</td>\n",
       "      <td>Djibouti</td>\n",
       "      <td>DJ</td>\n",
       "      <td>248.203212</td>\n",
       "      <td>58.0</td>\n",
       "      <td>14395.786303</td>\n",
       "      <td>2.767831e-07</td>\n",
       "      <td>ADE_JIB</td>\n",
       "    </tr>\n",
       "    <tr>\n",
       "      <th>1</th>\n",
       "      <td>100</td>\n",
       "      <td>Fokker 100</td>\n",
       "      <td>AMS</td>\n",
       "      <td>Amsterdam</td>\n",
       "      <td>NL</td>\n",
       "      <td>BRU</td>\n",
       "      <td>Brussels Airport</td>\n",
       "      <td>BE</td>\n",
       "      <td>157.553624</td>\n",
       "      <td>88.0</td>\n",
       "      <td>13864.718918</td>\n",
       "      <td>2.665724e-07</td>\n",
       "      <td>AMS_BRU</td>\n",
       "    </tr>\n",
       "    <tr>\n",
       "      <th>2</th>\n",
       "      <td>100</td>\n",
       "      <td>Fokker 100</td>\n",
       "      <td>AMS</td>\n",
       "      <td>Amsterdam</td>\n",
       "      <td>NL</td>\n",
       "      <td>MUC</td>\n",
       "      <td>Munich International Airport</td>\n",
       "      <td>DE</td>\n",
       "      <td>676.777570</td>\n",
       "      <td>332.0</td>\n",
       "      <td>224690.153347</td>\n",
       "      <td>4.320044e-06</td>\n",
       "      <td>AMS_MUC</td>\n",
       "    </tr>\n",
       "    <tr>\n",
       "      <th>3</th>\n",
       "      <td>100</td>\n",
       "      <td>Fokker 100</td>\n",
       "      <td>AZD</td>\n",
       "      <td>Yazd</td>\n",
       "      <td>IR</td>\n",
       "      <td>BND</td>\n",
       "      <td>Bandar Abbas</td>\n",
       "      <td>IR</td>\n",
       "      <td>559.459639</td>\n",
       "      <td>91.0</td>\n",
       "      <td>50910.827163</td>\n",
       "      <td>9.788459e-07</td>\n",
       "      <td>AZD_BND</td>\n",
       "    </tr>\n",
       "    <tr>\n",
       "      <th>4</th>\n",
       "      <td>100</td>\n",
       "      <td>Fokker 100</td>\n",
       "      <td>BND</td>\n",
       "      <td>Bandar Abbas</td>\n",
       "      <td>IR</td>\n",
       "      <td>AZD</td>\n",
       "      <td>Yazd</td>\n",
       "      <td>IR</td>\n",
       "      <td>559.459639</td>\n",
       "      <td>91.0</td>\n",
       "      <td>50910.827163</td>\n",
       "      <td>9.788459e-07</td>\n",
       "      <td>BND_AZD</td>\n",
       "    </tr>\n",
       "  </tbody>\n",
       "</table>\n",
       "</div>"
      ],
      "text/plain": [
       "  ac_code_iata ac_name_oag arr_ap_code   arr_ap_name arr_ap_cty dep_ap_code  \\\n",
       "0          100  Fokker 100         ADE          Aden         YE         JIB   \n",
       "1          100  Fokker 100         AMS     Amsterdam         NL         BRU   \n",
       "2          100  Fokker 100         AMS     Amsterdam         NL         MUC   \n",
       "3          100  Fokker 100         AZD          Yazd         IR         BND   \n",
       "4          100  Fokker 100         BND  Bandar Abbas         IR         AZD   \n",
       "\n",
       "                    dep_ap_name dep_ap_cty  gc_distance  frequency_2018  \\\n",
       "0                      Djibouti         DJ   248.203212            58.0   \n",
       "1              Brussels Airport         BE   157.553624            88.0   \n",
       "2  Munich International Airport         DE   676.777570           332.0   \n",
       "3                  Bandar Abbas         IR   559.459639            91.0   \n",
       "4                          Yazd         IR   559.459639            91.0   \n",
       "\n",
       "        fkm_2018  share_of_fkm_2018    route  \n",
       "0   14395.786303       2.767831e-07  ADE_JIB  \n",
       "1   13864.718918       2.665724e-07  AMS_BRU  \n",
       "2  224690.153347       4.320044e-06  AMS_MUC  \n",
       "3   50910.827163       9.788459e-07  AZD_BND  \n",
       "4   50910.827163       9.788459e-07  BND_AZD  "
      ]
     },
     "execution_count": 7,
     "metadata": {},
     "output_type": "execute_result"
    }
   ],
   "source": [
    "# Add the total share of yearly fkm of each OAG entry and a one-string-route as two new columns\n",
    "oag18['share_of_fkm_2018'] = oag18['fkm_2018'] / oag18['fkm_2018'].sum()\n",
    "oag18['route'] = oag18['arr_ap_code'] + '_' + oag18['dep_ap_code']\n",
    "oag18.head()"
   ]
  },
  {
   "cell_type": "code",
   "execution_count": 8,
   "metadata": {
    "collapsed": true
   },
   "outputs": [],
   "source": [
    "def lookup_fkm_shares(iata_orig, ls_reassign, oag18_route, oag18):\n",
    "    '''Take the original generic iata code aircraft (iata_orig) that has to be reassigned to other aircraft types,\n",
    "    which are the input list ls_reassign aircraft types.\n",
    "    Takes the oag data for a specific route - all aircraft that perform these route.\n",
    "    Returns relative shares of these to-be-reassigned aircraft types.'''\n",
    "    \n",
    "    ls_reassign = pd.DataFrame({'ac_code_iata': ls_reassign, 'share_of_fkm_2018': 'share_of_fkm_2018'})\n",
    "    ac_performance = oag18.groupby('ac_code_iata').sum().reset_index()\n",
    "    ls_reassign['share_of_fkm_2018'] = ac_performance.set_index('ac_code_iata').lookup(ls_reassign['ac_code_iata'],ls_reassign['share_of_fkm_2018'])\n",
    "    ls_reassign['share_of_fkm_2018'] = ls_reassign['share_of_fkm_2018'] / ls_reassign['share_of_fkm_2018'].sum()\n",
    "    \n",
    "    return ls_reassign"
   ]
  },
  {
   "cell_type": "code",
   "execution_count": 9,
   "metadata": {
    "collapsed": true
   },
   "outputs": [],
   "source": [
    "new_oag18 = oag18.copy()"
   ]
  },
  {
   "cell_type": "code",
   "execution_count": 10,
   "metadata": {
    "collapsed": true
   },
   "outputs": [],
   "source": [
    "'''Some iata codes in the OAG data set do not refer to a specific aircraft, but are a general \"melting pot\" for all aircraft versions of a general type.\n",
    "Since stock data from Planespotters does refer only to specific aircraft, we have to reassign the general aircraft types to the specific ones.\n",
    "This code block assures that this reassignment (redistribution of number of flights (frequency_2018) and flight kilometers (fkm_2018)) is done according to \n",
    "the share of specific aircraft versions on the total fkm in 2018. Since fkm correlate good with number of aircraft in a first order approximation,\n",
    "yearly fkm share is a good proxy for the number of aircraft version that we reassign.'''\n",
    "\n",
    "for iata_orig in np.arange(len(reassign_df)): # loop over all iata codes that have to be replaced (iata_orig = [0,1,2,...,#all orig iata codes])\n",
    "    \n",
    "    orig = reassign_df.loc[iata_orig,'ac_code_iata']           # original ac that has to be reassigned (e.g. '330')\n",
    "    reass = reassign_df.loc[iata_orig,'ac_code_iata_reassign'] # ac to which the fkm are reassigned (e.g. ['332', '333'])\n",
    "    \n",
    "    \n",
    "    for route in oag18[oag18['ac_code_iata'] == orig]['route']: # loop over routes\n",
    "        \n",
    "        if len(oag18[(oag18['route'] == route) & (oag18['ac_code_iata'] == orig)]) > 0: # check if orig ac is operated at the current route\n",
    "            # Look sequentially at routes in the oag data for the orig aircraft\n",
    "            oag18_route = oag18[(oag18['route'] == route) & \\\n",
    "                                ((oag18['ac_code_iata'] == orig) | (oag18['ac_code_iata'].isin(reass)))].reset_index()\n",
    "            oag18_route = oag18_route.drop(columns='index')\n",
    "\n",
    "            if len(oag18_route) > 0:\n",
    "                # Create a new table for all reass aircraft and set empty cells that are filled afterwards\n",
    "                orig_oag18_route = oag18_route[oag18_route['ac_code_iata'] == orig]\n",
    "                new_df = pd.concat([orig_oag18_route]*len(reass), ignore_index=True)\n",
    "                new_df.at[:,['ac_code_iata', 'ac_name_oag','frequency_2018', 'fkm_2018', 'share_of_fkm_2018']] = ''\n",
    "                new_df.at[:,'ac_code_iata'] = reass\n",
    "                new_df.at[:,'ac_name_oag'] = 'new_reass_ac'\n",
    "\n",
    "                # Define shares of yearly fkm shares of the reass aircraft\n",
    "                shares = lookup_fkm_shares(orig, reass, oag18_route, oag18)\n",
    "\n",
    "                # Calculate the fkm that have to be redistributed from the orig ac to the reass ac\n",
    "                orig_fkm = oag18_route[oag18_route['ac_code_iata'] == orig]['fkm_2018'].item()\n",
    "\n",
    "\n",
    "                # Loop over all reass ac for the specific aircraft orig (loop 1) and the specific route (loop 2)\n",
    "                for i in reass:\n",
    "                    # Get the share of fkm of i-th reass ac on the total fkm of all reass ac\n",
    "                    share_i = shares[shares['ac_code_iata'] == i]['share_of_fkm_2018'].item()\n",
    "            \n",
    "                    # Check whether the i-th reass aircraft is already assigned for that route in the original oag data set and save the fkm of it if it is nonzero.\n",
    "                    reass_fkm_old = oag18_route[oag18_route['ac_code_iata'] == i]['fkm_2018']\n",
    "                    if len(reass_fkm_old) >0:\n",
    "                        reass_fkm_old = reass_fkm_old.item()\n",
    "                    else:\n",
    "                        reass_fkm_old = 0\n",
    "                    \n",
    "                    # Fill the dataframe for the reass aircraft with the share-wise distribution of the to-be-reassigned orig fkm + the reass_fkm_old\n",
    "                    row = new_df[new_df['ac_code_iata'] == i].index.item()\n",
    "                    \n",
    "                    \n",
    "                    new_df.at[row,'fkm_2018'] = share_i*orig_fkm + reass_fkm_old\n",
    "                    # Calculate the frequency from the fkm and the great-circle distance\n",
    "                    new_df.at[row,'frequency_2018'] = round(new_df.loc[row,'fkm_2018'] / new_df.loc[row,'gc_distance'])   \n",
    "\n",
    "\n",
    "                # Since we assign the fkm according to yearyl fkm shares, the frequency for a specific route-ac pair might not be a multiple of the gc_distance (see last step in reass-loop).\n",
    "                # Solution: Make sure that the sum of frequency_2018 over all reass ac is the same as for all ac (orig + reass) on the route.\n",
    "                diff_freq = new_df['frequency_2018'].sum() - oag18_route['frequency_2018'].sum() \n",
    "\n",
    "                # If there is a difference, add or substract that difference in number of flights from the reass ac with the largest freq,\n",
    "                # unless there is no reass ac with a largest freq, then take the last ac in the list\n",
    "                idx_max = pd.to_numeric(new_df['frequency_2018'])\n",
    "\n",
    "                if abs(diff_freq) > 0:\n",
    "                    if math.isnan(idx_max.idxmax()):\n",
    "                        last_row = new_df.index[-1]\n",
    "                        new_df.at[last_row,'frequency_2018'] -= diff_freq\n",
    "                    else:\n",
    "                        new_df.at[idx_max.idxmax(),'frequency_2018'] -= diff_freq\n",
    "\n",
    "                # After this correction, we can reset the fkm's according to the frequencies:\n",
    "                new_df.at[:,'fkm_2018'] = new_df.loc[:,'frequency_2018'] * new_df.loc[:,'gc_distance']\n",
    "\n",
    "                # Now we append the rows with the new values for the reass ac and drop the original ones if existing\n",
    "                new_oag18 = new_oag18.append(new_df, ignore_index=True)\n",
    "                new_oag18 = new_oag18.drop_duplicates(subset = ['ac_code_iata','route'], keep = 'last')\n",
    "                \n",
    "    # Last we delete all orig ac\n",
    "    idx_to_del = new_oag18[new_oag18['ac_code_iata'] == orig].index\n",
    "    new_oag18 = new_oag18.drop(index=idx_to_del)"
   ]
  },
  {
   "cell_type": "code",
   "execution_count": 11,
   "metadata": {
    "collapsed": true
   },
   "outputs": [],
   "source": [
    "# Since the fkm-frequency-step in the loop above creates a few 0-frequency-entries, we delete them.\n",
    "zeros = new_oag18[new_oag18['frequency_2018'] == 0].index\n",
    "new_oag18 = new_oag18.drop(index=zeros)\n",
    "new_oag18 = new_oag18.reset_index()\n",
    "new_oag18 = new_oag18.drop(columns='index')"
   ]
  },
  {
   "cell_type": "markdown",
   "metadata": {},
   "source": [
    "**Check whether the reassignment was successful: None of the to-be-reassigned-ac-codes should be in the df anymore:**"
   ]
  },
  {
   "cell_type": "code",
   "execution_count": 12,
   "metadata": {},
   "outputs": [
    {
     "data": {
      "text/plain": [
       "set()"
      ]
     },
     "execution_count": 12,
     "metadata": {},
     "output_type": "execute_result"
    }
   ],
   "source": [
    "ac_code_iata_reassigned = list(reassign_df.ac_code_iata)\n",
    "ac_code_iata_in_df = list(new_oag18.ac_code_iata.unique())\n",
    "set(ac_code_iata_in_df).intersection(set(ac_code_iata_reassigned))"
   ]
  },
  {
   "cell_type": "markdown",
   "metadata": {},
   "source": [
    "**Sanity check:**"
   ]
  },
  {
   "cell_type": "markdown",
   "metadata": {},
   "source": [
    "Frequency and fkm should be the same for new_oag18 and the entries of oag18:"
   ]
  },
  {
   "cell_type": "code",
   "execution_count": 13,
   "metadata": {},
   "outputs": [
    {
     "name": "stdout",
     "output_type": "stream",
     "text": [
      "Difference between frequency before and after ac reassignment: 0.00.\n",
      "Difference between total fkm before and after ac reassignment: 0.00.\n"
     ]
    }
   ],
   "source": [
    "check_diff_freq = abs(oag18['frequency_2018'].sum() - new_oag18['frequency_2018'].sum())\n",
    "check_diff_fkm = abs(oag18['fkm_2018'].sum() - new_oag18['fkm_2018'].sum())\n",
    "print('Difference between frequency before and after ac reassignment: {:.2f}.'.format(check_diff_freq))\n",
    "print('Difference between total fkm before and after ac reassignment: {:.2f}.'.format(check_diff_fkm))"
   ]
  },
  {
   "cell_type": "markdown",
   "metadata": {},
   "source": [
    "Check passed."
   ]
  },
  {
   "cell_type": "markdown",
   "metadata": {},
   "source": [
    "** Since we split the to-be-reassigned ac codes into multiple other ac, we also increased the number of entries: **"
   ]
  },
  {
   "cell_type": "code",
   "execution_count": 14,
   "metadata": {},
   "outputs": [
    {
     "data": {
      "text/plain": [
       "180578"
      ]
     },
     "execution_count": 14,
     "metadata": {},
     "output_type": "execute_result"
    }
   ],
   "source": [
    "len(oag18)"
   ]
  },
  {
   "cell_type": "code",
   "execution_count": 15,
   "metadata": {},
   "outputs": [
    {
     "data": {
      "text/plain": [
       "218729"
      ]
     },
     "execution_count": 15,
     "metadata": {},
     "output_type": "execute_result"
    }
   ],
   "source": [
    "len(new_oag18)"
   ]
  },
  {
   "cell_type": "markdown",
   "metadata": {},
   "source": [
    "### Merge duplicate ICAO codes"
   ]
  },
  {
   "cell_type": "markdown",
   "metadata": {},
   "source": [
    "**Load manual IATA-ICAO lookup table**"
   ]
  },
  {
   "cell_type": "code",
   "execution_count": 16,
   "metadata": {
    "scrolled": true
   },
   "outputs": [
    {
     "data": {
      "text/html": [
       "<div>\n",
       "<style scoped>\n",
       "    .dataframe tbody tr th:only-of-type {\n",
       "        vertical-align: middle;\n",
       "    }\n",
       "\n",
       "    .dataframe tbody tr th {\n",
       "        vertical-align: top;\n",
       "    }\n",
       "\n",
       "    .dataframe thead th {\n",
       "        text-align: right;\n",
       "    }\n",
       "</style>\n",
       "<table border=\"1\" class=\"dataframe\">\n",
       "  <thead>\n",
       "    <tr style=\"text-align: right;\">\n",
       "      <th></th>\n",
       "      <th>ac_code_iata</th>\n",
       "      <th>ac_code_icao</th>\n",
       "      <th>ac_name_oag</th>\n",
       "      <th>ac_name_ps</th>\n",
       "      <th>ac_code_iata_reassign</th>\n",
       "      <th>oag_name_keep</th>\n",
       "    </tr>\n",
       "  </thead>\n",
       "  <tbody>\n",
       "    <tr>\n",
       "      <th>0</th>\n",
       "      <td>CS1</td>\n",
       "      <td>BCS1</td>\n",
       "      <td>Airbus A220-100</td>\n",
       "      <td>Airbus A220-100</td>\n",
       "      <td>NaN</td>\n",
       "      <td>NaN</td>\n",
       "    </tr>\n",
       "    <tr>\n",
       "      <th>1</th>\n",
       "      <td>CS3</td>\n",
       "      <td>BCS3</td>\n",
       "      <td>Airbus A220-300</td>\n",
       "      <td>Airbus A220-300</td>\n",
       "      <td>NaN</td>\n",
       "      <td>NaN</td>\n",
       "    </tr>\n",
       "    <tr>\n",
       "      <th>2</th>\n",
       "      <td>AB3</td>\n",
       "      <td>A30B</td>\n",
       "      <td>Airbus A300 Passenger</td>\n",
       "      <td>Airbus A300B4</td>\n",
       "      <td>NaN</td>\n",
       "      <td>no</td>\n",
       "    </tr>\n",
       "    <tr>\n",
       "      <th>3</th>\n",
       "      <td>AB6</td>\n",
       "      <td>A306</td>\n",
       "      <td>Airbus A300-600 Passenger</td>\n",
       "      <td>Airbus A300-600</td>\n",
       "      <td>NaN</td>\n",
       "      <td>NaN</td>\n",
       "    </tr>\n",
       "    <tr>\n",
       "      <th>4</th>\n",
       "      <td>AB4</td>\n",
       "      <td>A30B</td>\n",
       "      <td>Airbus A300B2/B4 Passenger</td>\n",
       "      <td>Airbus A300B4</td>\n",
       "      <td>NaN</td>\n",
       "      <td>Airbus A300B2/B4 Passenger</td>\n",
       "    </tr>\n",
       "  </tbody>\n",
       "</table>\n",
       "</div>"
      ],
      "text/plain": [
       "  ac_code_iata ac_code_icao                 ac_name_oag       ac_name_ps  \\\n",
       "0          CS1         BCS1             Airbus A220-100  Airbus A220-100   \n",
       "1          CS3         BCS3             Airbus A220-300  Airbus A220-300   \n",
       "2          AB3         A30B       Airbus A300 Passenger    Airbus A300B4   \n",
       "3          AB6         A306   Airbus A300-600 Passenger  Airbus A300-600   \n",
       "4          AB4         A30B  Airbus A300B2/B4 Passenger    Airbus A300B4   \n",
       "\n",
       "  ac_code_iata_reassign               oag_name_keep  \n",
       "0                   NaN                         NaN  \n",
       "1                   NaN                         NaN  \n",
       "2                   NaN                          no  \n",
       "3                   NaN                         NaN  \n",
       "4                   NaN  Airbus A300B2/B4 Passenger  "
      ]
     },
     "execution_count": 16,
     "metadata": {},
     "output_type": "execute_result"
    }
   ],
   "source": [
    "# Read the manual lookup table\n",
    "ac_type_designators = pd.read_excel('../../../../Research/Aviation/Jupyter/datasets/aircraft_type_designators_manual.xlsx')\n",
    "ac_type_designators = ac_type_designators.rename(columns={'oag_model: all generic AC types where we have multiple variants in the PS data set are marked in red': 'ac_name_oag',\n",
    "                                            'planespotters_model': 'ac_name_ps',\n",
    "                                            'share of yearly flight km: high impact models (>1% of total FKM) are marked in green -> ask OAG here': 'share_of_yearly_FKM'})\n",
    "ac_type_designators = ac_type_designators.drop(['share_of_yearly_FKM','ps_model assignment','comment1','comment2', 'widebody'], axis=1)\n",
    "ac_type_designators['ac_code_iata_reassign'] = ac_type_designators['ac_code_iata_reassign'].str.split(',')\n",
    "ac_type_designators['ac_code_iata'] = ac_type_designators['ac_code_iata'].astype(str)\n",
    "ac_type_designators.head()"
   ]
  },
  {
   "cell_type": "markdown",
   "metadata": {},
   "source": [
    "**Remove generic IATA codes**"
   ]
  },
  {
   "cell_type": "code",
   "execution_count": 17,
   "metadata": {},
   "outputs": [
    {
     "name": "stdout",
     "output_type": "stream",
     "text": [
      "<class 'pandas.core.frame.DataFrame'>\n",
      "Int64Index: 173 entries, 0 to 189\n",
      "Data columns (total 5 columns):\n",
      "ac_code_iata     173 non-null object\n",
      "ac_code_icao     173 non-null object\n",
      "ac_name_oag      173 non-null object\n",
      "ac_name_ps       127 non-null object\n",
      "oag_name_keep    66 non-null object\n",
      "dtypes: object(5)\n",
      "memory usage: 8.1+ KB\n"
     ]
    }
   ],
   "source": [
    "# We delete all generic IATA codes. They are reassigned to specific aircraft \n",
    "# variants in the Jupyter Notebook \"OAG_Planespotters_Alignment\".\n",
    "ac_type_designators_wo_generic = ac_type_designators[ac_type_designators['ac_code_icao'] != 'to_be_assigned_to_multiple_variants']\n",
    "ac_type_designators_wo_generic = ac_type_designators_wo_generic.drop(columns='ac_code_iata_reassign')\n",
    "ac_type_designators_wo_generic.info()"
   ]
  },
  {
   "cell_type": "markdown",
   "metadata": {},
   "source": [
    "**Add ICAO code to OAG data.**"
   ]
  },
  {
   "cell_type": "code",
   "execution_count": 18,
   "metadata": {
    "collapsed": true,
    "scrolled": true
   },
   "outputs": [],
   "source": [
    "iata_icao_lookup = ac_type_designators_wo_generic.set_index('ac_code_iata').to_dict()['ac_code_icao']\n",
    "new_oag18['ac_code_icao'] = new_oag18['ac_code_iata'].replace(iata_icao_lookup)"
   ]
  },
  {
   "cell_type": "markdown",
   "metadata": {},
   "source": [
    "** Merge duplicate ICAO values**"
   ]
  },
  {
   "cell_type": "code",
   "execution_count": 19,
   "metadata": {
    "scrolled": true
   },
   "outputs": [
    {
     "data": {
      "text/html": [
       "<div>\n",
       "<style scoped>\n",
       "    .dataframe tbody tr th:only-of-type {\n",
       "        vertical-align: middle;\n",
       "    }\n",
       "\n",
       "    .dataframe tbody tr th {\n",
       "        vertical-align: top;\n",
       "    }\n",
       "\n",
       "    .dataframe thead th {\n",
       "        text-align: right;\n",
       "    }\n",
       "</style>\n",
       "<table border=\"1\" class=\"dataframe\">\n",
       "  <thead>\n",
       "    <tr style=\"text-align: right;\">\n",
       "      <th></th>\n",
       "      <th>ac_code_iata</th>\n",
       "      <th>ac_code_icao</th>\n",
       "      <th>ac_name_oag</th>\n",
       "      <th>ac_name_ps</th>\n",
       "      <th>oag_name_keep</th>\n",
       "    </tr>\n",
       "  </thead>\n",
       "  <tbody>\n",
       "    <tr>\n",
       "      <th>13</th>\n",
       "      <td>321</td>\n",
       "      <td>A321</td>\n",
       "      <td>Airbus A321</td>\n",
       "      <td>Airbus A321-200</td>\n",
       "      <td>Airbus A321 (with and without Sharklets)</td>\n",
       "    </tr>\n",
       "    <tr>\n",
       "      <th>14</th>\n",
       "      <td>32B</td>\n",
       "      <td>A321</td>\n",
       "      <td>Airbus A321 (Sharklets)</td>\n",
       "      <td>Airbus A321-200</td>\n",
       "      <td>no</td>\n",
       "    </tr>\n",
       "    <tr>\n",
       "      <th>28</th>\n",
       "      <td>380</td>\n",
       "      <td>A388</td>\n",
       "      <td>Airbus A380 Passenger</td>\n",
       "      <td>Airbus A380-800</td>\n",
       "      <td>no</td>\n",
       "    </tr>\n",
       "    <tr>\n",
       "      <th>29</th>\n",
       "      <td>388</td>\n",
       "      <td>A388</td>\n",
       "      <td>Airbus A380-800 Passenger</td>\n",
       "      <td>Airbus A380-800</td>\n",
       "      <td>Airbus A380-800 Passenger</td>\n",
       "    </tr>\n",
       "  </tbody>\n",
       "</table>\n",
       "</div>"
      ],
      "text/plain": [
       "   ac_code_iata ac_code_icao                ac_name_oag       ac_name_ps  \\\n",
       "13          321         A321                Airbus A321  Airbus A321-200   \n",
       "14          32B         A321    Airbus A321 (Sharklets)  Airbus A321-200   \n",
       "28          380         A388      Airbus A380 Passenger  Airbus A380-800   \n",
       "29          388         A388  Airbus A380-800 Passenger  Airbus A380-800   \n",
       "\n",
       "                               oag_name_keep  \n",
       "13  Airbus A321 (with and without Sharklets)  \n",
       "14                                        no  \n",
       "28                                        no  \n",
       "29                 Airbus A380-800 Passenger  "
      ]
     },
     "execution_count": 19,
     "metadata": {},
     "output_type": "execute_result"
    }
   ],
   "source": [
    "# Define duplicate icao values\n",
    "icao_dupl = ac_type_designators_wo_generic[ac_type_designators_wo_generic.duplicated(subset ='ac_code_icao', keep=False)].sort_values(by='ac_code_icao')\n",
    "icao_dupl[6:10]"
   ]
  },
  {
   "cell_type": "markdown",
   "metadata": {},
   "source": [
    "Example: The A321 are all given the oag name \"Airbus A321 (with and without Sharklets)\" and the IATA code '321'."
   ]
  },
  {
   "cell_type": "code",
   "execution_count": 20,
   "metadata": {
    "collapsed": true
   },
   "outputs": [],
   "source": [
    "icao_dupl_names = icao_dupl['ac_code_icao'].unique() # unique icao values in the list\n",
    "icao_dupl_groups = icao_dupl.groupby('ac_code_icao')\n",
    "\n",
    "for i in icao_dupl_names: # loop over all duplicate icao values\n",
    "     # Get all entries from icao_dupl for the selected icao code\n",
    "    _cache = icao_dupl_groups.get_group(i)\n",
    "    \n",
    "    # Rename the ac_name_oag to the one given in icao_dupl\n",
    "    _rename_oag_name = _cache[_cache['oag_name_keep'] != 'no']['oag_name_keep'].item()\n",
    "    _keep_iata_codes = _cache[_cache['oag_name_keep'] != 'no']['ac_code_iata'].to_list()\n",
    "    _rename_iata_index = new_oag18[new_oag18['ac_code_iata'].isin(_keep_iata_codes)].index\n",
    "    new_oag18.at[_rename_iata_index,'ac_name_oag'] = _rename_oag_name\n",
    "    \n",
    "    # Rename the ac_code_iata to the first one in the list \n",
    "    _del_iata_codes = _cache[_cache['oag_name_keep'] == 'no']['ac_code_iata'].to_list()\n",
    "    _del_iata_index = new_oag18[new_oag18['ac_code_iata'].isin(_del_iata_codes)].index\n",
    "    new_oag18.at[_del_iata_index,'ac_code_iata'] = _keep_iata_codes[0]"
   ]
  },
  {
   "cell_type": "markdown",
   "metadata": {},
   "source": [
    "Now that we set common names for the same ac_code_icao, we will see duplicates for identical ap-pairs. We merge them."
   ]
  },
  {
   "cell_type": "code",
   "execution_count": 21,
   "metadata": {
    "collapsed": true
   },
   "outputs": [],
   "source": [
    "to_be_merged = new_oag18[new_oag18.duplicated(subset = ['ac_code_icao','dep_ap_code', 'arr_ap_code','dep_ap_name', 'arr_ap_name', 'gc_distance'], keep=False)].sort_index()\n",
    "grouped = to_be_merged.groupby(['ac_code_icao','dep_ap_code', 'arr_ap_code'])"
   ]
  },
  {
   "cell_type": "code",
   "execution_count": 22,
   "metadata": {
    "collapsed": true
   },
   "outputs": [],
   "source": [
    "for ac_group in grouped.groups.keys():\n",
    "    grouped.get_group(ac_group).index[0]\n",
    "    idx_first_entry = grouped.get_group(ac_group).index[0]\n",
    "    idx_other_entries = grouped.get_group(ac_group).index[1:]\n",
    "    freq_sum = grouped.get_group(ac_group).sum()['frequency_2018']\n",
    "    fkm_sum = grouped.get_group(ac_group).sum()['fkm_2018']\n",
    "\n",
    "    # We update the summed up freq and fkm and set it as new value for the 1st entry\n",
    "    new_oag18.at[idx_first_entry, 'frequency_2018'] = freq_sum\n",
    "    new_oag18.at[idx_first_entry, 'fkm_2018'] = fkm_sum\n",
    "    \n",
    "    # We delete all duplicated values except the first one (which is the one with the updated information)\n",
    "    new_oag18.drop_duplicates(subset=['ac_code_iata','dep_ap_code', 'arr_ap_code','dep_ap_name', 'arr_ap_name', 'gc_distance'], keep='first',inplace=True) "
   ]
  },
  {
   "cell_type": "markdown",
   "metadata": {},
   "source": [
    "## Final processing"
   ]
  },
  {
   "cell_type": "code",
   "execution_count": 24,
   "metadata": {},
   "outputs": [
    {
     "data": {
      "text/plain": [
       "191618"
      ]
     },
     "execution_count": 24,
     "metadata": {},
     "output_type": "execute_result"
    }
   ],
   "source": [
    "len(new_oag18)"
   ]
  },
  {
   "cell_type": "code",
   "execution_count": 25,
   "metadata": {},
   "outputs": [
    {
     "data": {
      "text/plain": [
       "array(['100', '141', '142', '290', '313', '318', '319', '143', '320',\n",
       "       '321', '32N', '32Q', '332', '333', '717', '343', '345', '346',\n",
       "       '351', '359', '388', '733', '722', '73L', '734', '735', '339',\n",
       "       'AT7', '736', '788', '738', 'AT4', 'E95', 'F50', 'L4T', '739',\n",
       "       'SF3', '73G', 'F70', 'E70', '744', '74H', '752', '753', '762',\n",
       "       '763', '764', '772', '773', '77L', '77W', '789', '7M8', '781',\n",
       "       'A32', 'A58', '7M9', 'AN6', 'A81', 'AB4', 'AB6', 'AN4', 'AR8',\n",
       "       'AR1', 'BE1', 'A38', 'A40', 'ATP', 'BE2', 'BEC', 'BNI', 'CNA',\n",
       "       'CNF', 'BE4', 'C27', 'CNT', 'CR2', 'CR1', 'CR7', 'CR9', 'DHT',\n",
       "       'CRK', 'CS1', 'CS3', 'CV5', 'D28', 'D38', 'DH1', 'DH2', 'DH3',\n",
       "       'DH4', 'DC9', 'CN2', 'CNJ', 'DHC', 'DHP', 'DH7', 'E75', 'E7W',\n",
       "       'DHL', 'EM2', 'ER3', 'ER4', 'EMB', 'EP3', 'F28', 'FRJ', 'IL9',\n",
       "       'J31', 'J32', 'J41', 'M82', 'M83', 'M87', 'M88', 'GJ5', 'GRJ',\n",
       "       'M90', 'MA6', 'PA1', 'PA2', 'PAG', 'PL2', 'M81', 'S20', 'SU9',\n",
       "       'SWM', 'TU3', 'YK2', 'T20', 'TU5', 'YK4', 'YN2', 'DHD', 'CJ8',\n",
       "       '342'], dtype=object)"
      ]
     },
     "execution_count": 25,
     "metadata": {},
     "output_type": "execute_result"
    }
   ],
   "source": [
    "new_oag18.ac_code_iata.unique()"
   ]
  },
  {
   "cell_type": "code",
   "execution_count": 26,
   "metadata": {},
   "outputs": [
    {
     "data": {
      "text/plain": [
       "136"
      ]
     },
     "execution_count": 26,
     "metadata": {},
     "output_type": "execute_result"
    }
   ],
   "source": [
    "len(new_oag18.ac_code_iata.unique())"
   ]
  },
  {
   "cell_type": "markdown",
   "metadata": {},
   "source": [
    "Finally, we...\n",
    "- (1) delete the two columns that have been needed for the calculations.\n",
    "- (2) reset the index.\n",
    "- (3) change some data types.\n",
    "- (4) assign the right ac_name_oag for the new reass ac."
   ]
  },
  {
   "cell_type": "code",
   "execution_count": 27,
   "metadata": {
    "collapsed": true
   },
   "outputs": [],
   "source": [
    "#1,2\n",
    "new_oag18 = new_oag18.drop(columns=['share_of_fkm_2018', 'route']).reset_index()\n",
    "new_oag18 = new_oag18.drop(columns=['index'])"
   ]
  },
  {
   "cell_type": "code",
   "execution_count": 28,
   "metadata": {
    "collapsed": true
   },
   "outputs": [],
   "source": [
    "#3\n",
    "new_oag18['frequency_2018'] = new_oag18['frequency_2018'].astype(int)\n",
    "new_oag18['fkm_2018'] = new_oag18['fkm_2018'].astype(float)"
   ]
  },
  {
   "cell_type": "code",
   "execution_count": 29,
   "metadata": {
    "collapsed": true
   },
   "outputs": [],
   "source": [
    "#4-1\n",
    "# update the ac names that have been double icao values previously\n",
    "idx_oag_name_double_icao = ac_type_designators[(~ac_type_designators['oag_name_keep'].isnull()) & \\\n",
    "                                               (ac_type_designators['oag_name_keep'] != 'no')].index\n",
    "ac_type_designators.at[idx_oag_name_double_icao,'ac_name_oag'] = \\\n",
    "                                                ac_type_designators.loc[idx_oag_name_double_icao,'oag_name_keep']"
   ]
  },
  {
   "cell_type": "code",
   "execution_count": 30,
   "metadata": {
    "scrolled": true
   },
   "outputs": [
    {
     "data": {
      "text/html": [
       "<div>\n",
       "<style scoped>\n",
       "    .dataframe tbody tr th:only-of-type {\n",
       "        vertical-align: middle;\n",
       "    }\n",
       "\n",
       "    .dataframe tbody tr th {\n",
       "        vertical-align: top;\n",
       "    }\n",
       "\n",
       "    .dataframe thead th {\n",
       "        text-align: right;\n",
       "    }\n",
       "</style>\n",
       "<table border=\"1\" class=\"dataframe\">\n",
       "  <thead>\n",
       "    <tr style=\"text-align: right;\">\n",
       "      <th></th>\n",
       "      <th>ac_code_iata</th>\n",
       "      <th>ac_name_oag</th>\n",
       "      <th>arr_ap_code</th>\n",
       "      <th>arr_ap_name</th>\n",
       "      <th>arr_ap_cty</th>\n",
       "      <th>dep_ap_code</th>\n",
       "      <th>dep_ap_name</th>\n",
       "      <th>dep_ap_cty</th>\n",
       "      <th>gc_distance</th>\n",
       "      <th>frequency_2018</th>\n",
       "      <th>fkm_2018</th>\n",
       "      <th>ac_code_icao</th>\n",
       "    </tr>\n",
       "  </thead>\n",
       "  <tbody>\n",
       "    <tr>\n",
       "      <th>0</th>\n",
       "      <td>100</td>\n",
       "      <td>Fokker 100</td>\n",
       "      <td>ADE</td>\n",
       "      <td>Aden</td>\n",
       "      <td>YE</td>\n",
       "      <td>JIB</td>\n",
       "      <td>Djibouti</td>\n",
       "      <td>DJ</td>\n",
       "      <td>248.203212</td>\n",
       "      <td>58</td>\n",
       "      <td>14395.786303</td>\n",
       "      <td>F100</td>\n",
       "    </tr>\n",
       "    <tr>\n",
       "      <th>1</th>\n",
       "      <td>100</td>\n",
       "      <td>Fokker 100</td>\n",
       "      <td>AMS</td>\n",
       "      <td>Amsterdam</td>\n",
       "      <td>NL</td>\n",
       "      <td>BRU</td>\n",
       "      <td>Brussels Airport</td>\n",
       "      <td>BE</td>\n",
       "      <td>157.553624</td>\n",
       "      <td>88</td>\n",
       "      <td>13864.718918</td>\n",
       "      <td>F100</td>\n",
       "    </tr>\n",
       "    <tr>\n",
       "      <th>2</th>\n",
       "      <td>100</td>\n",
       "      <td>Fokker 100</td>\n",
       "      <td>AMS</td>\n",
       "      <td>Amsterdam</td>\n",
       "      <td>NL</td>\n",
       "      <td>MUC</td>\n",
       "      <td>Munich International Airport</td>\n",
       "      <td>DE</td>\n",
       "      <td>676.777570</td>\n",
       "      <td>332</td>\n",
       "      <td>224690.153347</td>\n",
       "      <td>F100</td>\n",
       "    </tr>\n",
       "    <tr>\n",
       "      <th>3</th>\n",
       "      <td>100</td>\n",
       "      <td>Fokker 100</td>\n",
       "      <td>AZD</td>\n",
       "      <td>Yazd</td>\n",
       "      <td>IR</td>\n",
       "      <td>BND</td>\n",
       "      <td>Bandar Abbas</td>\n",
       "      <td>IR</td>\n",
       "      <td>559.459639</td>\n",
       "      <td>91</td>\n",
       "      <td>50910.827163</td>\n",
       "      <td>F100</td>\n",
       "    </tr>\n",
       "    <tr>\n",
       "      <th>4</th>\n",
       "      <td>100</td>\n",
       "      <td>Fokker 100</td>\n",
       "      <td>BND</td>\n",
       "      <td>Bandar Abbas</td>\n",
       "      <td>IR</td>\n",
       "      <td>AZD</td>\n",
       "      <td>Yazd</td>\n",
       "      <td>IR</td>\n",
       "      <td>559.459639</td>\n",
       "      <td>91</td>\n",
       "      <td>50910.827163</td>\n",
       "      <td>F100</td>\n",
       "    </tr>\n",
       "  </tbody>\n",
       "</table>\n",
       "</div>"
      ],
      "text/plain": [
       "  ac_code_iata ac_name_oag arr_ap_code   arr_ap_name arr_ap_cty dep_ap_code  \\\n",
       "0          100  Fokker 100         ADE          Aden         YE         JIB   \n",
       "1          100  Fokker 100         AMS     Amsterdam         NL         BRU   \n",
       "2          100  Fokker 100         AMS     Amsterdam         NL         MUC   \n",
       "3          100  Fokker 100         AZD          Yazd         IR         BND   \n",
       "4          100  Fokker 100         BND  Bandar Abbas         IR         AZD   \n",
       "\n",
       "                    dep_ap_name dep_ap_cty  gc_distance  frequency_2018  \\\n",
       "0                      Djibouti         DJ   248.203212              58   \n",
       "1              Brussels Airport         BE   157.553624              88   \n",
       "2  Munich International Airport         DE   676.777570             332   \n",
       "3                  Bandar Abbas         IR   559.459639              91   \n",
       "4                          Yazd         IR   559.459639              91   \n",
       "\n",
       "        fkm_2018 ac_code_icao  \n",
       "0   14395.786303         F100  \n",
       "1   13864.718918         F100  \n",
       "2  224690.153347         F100  \n",
       "3   50910.827163         F100  \n",
       "4   50910.827163         F100  "
      ]
     },
     "execution_count": 30,
     "metadata": {},
     "output_type": "execute_result"
    }
   ],
   "source": [
    "#4-2\n",
    "ac_iata_to_oag_lookup = ac_type_designators.set_index('ac_code_iata').to_dict()['ac_name_oag']\n",
    "dict(list(ac_iata_to_oag_lookup.items())[10:13]) # preview\n",
    "new_oag18.at[:,'ac_name_oag'] = new_oag18['ac_code_iata'].replace(ac_iata_to_oag_lookup)\n",
    "new_oag18.head()"
   ]
  },
  {
   "cell_type": "code",
   "execution_count": 31,
   "metadata": {
    "scrolled": true
   },
   "outputs": [
    {
     "data": {
      "text/plain": [
       "0"
      ]
     },
     "execution_count": 31,
     "metadata": {},
     "output_type": "execute_result"
    }
   ],
   "source": [
    "#4: Check whether all oag names have been replaced\n",
    "len(new_oag18[new_oag18['ac_name_oag'] == 'new_reass_ac'])"
   ]
  },
  {
   "cell_type": "code",
   "execution_count": 32,
   "metadata": {
    "collapsed": true
   },
   "outputs": [],
   "source": [
    "# Delete ICAO code\n",
    "new_oag18 = new_oag18.drop(columns='ac_code_icao')"
   ]
  },
  {
   "cell_type": "code",
   "execution_count": 33,
   "metadata": {
    "scrolled": false
   },
   "outputs": [
    {
     "name": "stdout",
     "output_type": "stream",
     "text": [
      "<class 'pandas.core.frame.DataFrame'>\n",
      "RangeIndex: 191618 entries, 0 to 191617\n",
      "Data columns (total 11 columns):\n",
      "ac_code_iata      191618 non-null object\n",
      "ac_name_oag       191618 non-null object\n",
      "arr_ap_code       191618 non-null object\n",
      "arr_ap_name       191618 non-null object\n",
      "arr_ap_cty        191618 non-null object\n",
      "dep_ap_code       191618 non-null object\n",
      "dep_ap_name       191618 non-null object\n",
      "dep_ap_cty        191618 non-null object\n",
      "gc_distance       191618 non-null float64\n",
      "frequency_2018    191618 non-null int32\n",
      "fkm_2018          191618 non-null float64\n",
      "dtypes: float64(2), int32(1), object(8)\n",
      "memory usage: 15.4+ MB\n"
     ]
    }
   ],
   "source": [
    "new_oag18.info()"
   ]
  },
  {
   "cell_type": "code",
   "execution_count": 34,
   "metadata": {},
   "outputs": [
    {
     "name": "stdout",
     "output_type": "stream",
     "text": [
      "By reassigning of aircraft, the number of entries has increased by 6.11% from 180578 to 191618 entries.\n"
     ]
    }
   ],
   "source": [
    "print('By reassigning of aircraft, the number of entries has increased by {:.2f}% from {} to {} entries.'.format(len(new_oag18)/len(oag18)*100-100,len(oag18), len(new_oag18)))"
   ]
  },
  {
   "cell_type": "code",
   "execution_count": 36,
   "metadata": {
    "collapsed": true
   },
   "outputs": [],
   "source": [
    "new_oag18.to_csv('intermediary_save_of_new_oag18.csv')"
   ]
  },
  {
   "cell_type": "markdown",
   "metadata": {},
   "source": [
    "## Upload changed OAG data set"
   ]
  },
  {
   "cell_type": "code",
   "execution_count": 35,
   "metadata": {},
   "outputs": [
    {
     "data": {
      "text/plain": [
       "64"
      ]
     },
     "execution_count": 35,
     "metadata": {},
     "output_type": "execute_result"
    }
   ],
   "source": [
    "# Checking the maximum character length in columns:\n",
    "new_oag18.ac_name_oag.str.len().max()"
   ]
  },
  {
   "cell_type": "raw",
   "metadata": {
    "collapsed": true
   },
   "source": [
    "# Connect to DB\n",
    "%reload_ext ipython_pg.LAV\n",
    "%pg_connect dbname='mobility' user='heldm'"
   ]
  },
  {
   "cell_type": "code",
   "execution_count": 37,
   "metadata": {},
   "outputs": [
    {
     "name": "stdout",
     "output_type": "stream",
     "text": [
      "SUCCESS: query did not return any data\n"
     ]
    },
    {
     "data": {
      "text/plain": [
       "<cursor object at 0x000001E2E7B53E48; closed: 0>"
      ]
     },
     "execution_count": 37,
     "metadata": {},
     "output_type": "execute_result"
    }
   ],
   "source": [
    "%pg_sql set role \"NDA-OAG-full\""
   ]
  },
  {
   "cell_type": "code",
   "execution_count": 38,
   "metadata": {},
   "outputs": [
    {
     "name": "stdout",
     "output_type": "stream",
     "text": [
      "SUCCESS: query did not return any data\n",
      " cursor object as 'cur'\n"
     ]
    }
   ],
   "source": [
    "%%pg_sql cur\n",
    "drop table if exists \"OAG\".\"2018_schedule_ps_conform\";\n",
    "\n",
    "CREATE TABLE \"OAG\".\"2018_schedule_ps_conform\" \n",
    "(\"ac_code_iata\" varchar(3), \n",
    " \"ac_name_oag\" varchar(64), \n",
    " \"arr_ap_code\" varchar(3),\n",
    " \"arr_ap_name\" varchar(39),\n",
    " \"arr_ap_cty\" varchar(2),\n",
    " \"dep_ap_code\" varchar(3),\n",
    " \"dep_ap_name\" varchar(39),\n",
    " \"dep_ap_cty\" varchar(2),\n",
    " \"gc_distance\" float,\n",
    " \"frequency_2018\" int,\n",
    " \"fkm_2018\" float\n",
    ");\n",
    "\n",
    "COMMENT ON\n",
    "COLUMN \"OAG\".\"2018_schedule_ps_conform\".\"ac_code_iata\" IS 'IATA aircraft code';\n",
    "COMMENT ON\n",
    "COLUMN \"OAG\".\"2018_schedule_ps_conform\".\"ac_name_oag\" IS 'OAG aircraft name';\n",
    "COMMENT ON\n",
    "COLUMN \"OAG\".\"2018_schedule_ps_conform\".\"arr_ap_code\" IS 'IATA aiport code';\n",
    "COMMENT ON\n",
    "COLUMN \"OAG\".\"2018_schedule_ps_conform\".\"arr_ap_name\" IS 'IATA aiport name';\n",
    "COMMENT ON\n",
    "COLUMN \"OAG\".\"2018_schedule_ps_conform\".\"arr_ap_cty\" IS  'IATA airport country';\n",
    "COMMENT ON\n",
    "COLUMN \"OAG\".\"2018_schedule_ps_conform\".\"dep_ap_code\" IS 'IATA aiport code';\n",
    "COMMENT ON\n",
    "COLUMN \"OAG\".\"2018_schedule_ps_conform\".\"dep_ap_name\" IS 'IATA aiport name';\n",
    "COMMENT ON\n",
    "COLUMN \"OAG\".\"2018_schedule_ps_conform\".\"dep_ap_cty\" IS 'IATA airport country';\n",
    "COMMENT ON\n",
    "COLUMN \"OAG\".\"2018_schedule_ps_conform\".\"gc_distance\" IS 'great-circle distance for this segment';\n",
    "COMMENT ON\n",
    "COLUMN \"OAG\".\"2018_schedule_ps_conform\".\"frequency_2018\" IS 'number of flights for this segment in 2018';\n",
    "COMMENT ON\n",
    "COLUMN \"OAG\".\"2018_schedule_ps_conform\".\"fkm_2018\" IS 'flight kilometers for this segment (gc_distance * frequency)';\n",
    "\n",
    "COMMIT;"
   ]
  },
  {
   "cell_type": "code",
   "execution_count": 39,
   "metadata": {
    "scrolled": true
   },
   "outputs": [
    {
     "name": "stdout",
     "output_type": "stream",
     "text": [
      "  waring: green-mode temporarily deactivated (interrupt won't abort the import)  green mode reactivated"
     ]
    }
   ],
   "source": [
    "%pg_copy new_oag18 OAG.2018_schedule_ps_conform"
   ]
  },
  {
   "cell_type": "code",
   "execution_count": 40,
   "metadata": {
    "collapsed": true
   },
   "outputs": [],
   "source": [
    "%pg_disconnect"
   ]
  }
 ],
 "metadata": {
  "kernelspec": {
   "display_name": "Python 3",
   "language": "python",
   "name": "python3"
  },
  "language_info": {
   "codemirror_mode": {
    "name": "ipython",
    "version": 3
   },
   "file_extension": ".py",
   "mimetype": "text/x-python",
   "name": "python",
   "nbconvert_exporter": "python",
   "pygments_lexer": "ipython3",
   "version": "3.6.3"
  },
  "toc": {
   "base_numbering": 1,
   "nav_menu": {},
   "number_sections": true,
   "sideBar": true,
   "skip_h1_title": false,
   "title_cell": "Table of Contents",
   "title_sidebar": "Contents",
   "toc_cell": false,
   "toc_position": {},
   "toc_section_display": true,
   "toc_window_display": true
  }
 },
 "nbformat": 4,
 "nbformat_minor": 2
}
